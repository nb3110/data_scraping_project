{
 "cells": [
  {
   "cell_type": "code",
   "execution_count": 31,
   "metadata": {},
   "outputs": [],
   "source": [
    "#import requests\n",
    "import pandas as pd\n",
    "import numpy as np\n",
    "\n",
    "#import os\n",
    "#from dotenv import load_dotenv\n",
    " \n",
    "\n",
    "import src.eda_cleaning as eda\n",
    "import src.scraping as scrp\n",
    "\n",
    "\n",
    "import matplotlib.pyplot as plt\n",
    "import seaborn as sns\n",
    "import plotly.express as px\n",
    "\n",
    "\n",
    "\n"
   ]
  },
  {
   "attachments": {},
   "cell_type": "markdown",
   "metadata": {},
   "source": [
    "## Scraping Movie database API"
   ]
  },
  {
   "cell_type": "code",
   "execution_count": 32,
   "metadata": {},
   "outputs": [],
   "source": [
    "#!python \"src\\scraping.py\""
   ]
  },
  {
   "cell_type": "code",
   "execution_count": 33,
   "metadata": {},
   "outputs": [
    {
     "data": {
      "text/html": [
       "<div>\n",
       "<style scoped>\n",
       "    .dataframe tbody tr th:only-of-type {\n",
       "        vertical-align: middle;\n",
       "    }\n",
       "\n",
       "    .dataframe tbody tr th {\n",
       "        vertical-align: top;\n",
       "    }\n",
       "\n",
       "    .dataframe thead th {\n",
       "        text-align: right;\n",
       "    }\n",
       "</style>\n",
       "<table border=\"1\" class=\"dataframe\">\n",
       "  <thead>\n",
       "    <tr style=\"text-align: right;\">\n",
       "      <th></th>\n",
       "      <th>imbd_rating</th>\n",
       "      <th>imbd_votecount</th>\n",
       "      <th>imbd_title</th>\n",
       "      <th>year</th>\n",
       "    </tr>\n",
       "  </thead>\n",
       "  <tbody>\n",
       "    <tr>\n",
       "      <th>0</th>\n",
       "      <td>9.3</td>\n",
       "      <td>2695887</td>\n",
       "      <td>The Shawshank Redemption</td>\n",
       "      <td>1994</td>\n",
       "    </tr>\n",
       "    <tr>\n",
       "      <th>1</th>\n",
       "      <td>9.2</td>\n",
       "      <td>1870922</td>\n",
       "      <td>The Godfather</td>\n",
       "      <td>1972</td>\n",
       "    </tr>\n",
       "    <tr>\n",
       "      <th>2</th>\n",
       "      <td>9.0</td>\n",
       "      <td>2669915</td>\n",
       "      <td>The Dark Knight</td>\n",
       "      <td>2008</td>\n",
       "    </tr>\n",
       "    <tr>\n",
       "      <th>3</th>\n",
       "      <td>9.0</td>\n",
       "      <td>1279091</td>\n",
       "      <td>The Godfather: Part II</td>\n",
       "      <td>1974</td>\n",
       "    </tr>\n",
       "    <tr>\n",
       "      <th>4</th>\n",
       "      <td>9.0</td>\n",
       "      <td>796537</td>\n",
       "      <td>De 12 gezworenen</td>\n",
       "      <td>1957</td>\n",
       "    </tr>\n",
       "    <tr>\n",
       "      <th>...</th>\n",
       "      <td>...</td>\n",
       "      <td>...</td>\n",
       "      <td>...</td>\n",
       "      <td>...</td>\n",
       "    </tr>\n",
       "    <tr>\n",
       "      <th>95</th>\n",
       "      <td>8.3</td>\n",
       "      <td>159979</td>\n",
       "      <td>M - Eine Stadt sucht einen Mörder</td>\n",
       "      <td>1931</td>\n",
       "    </tr>\n",
       "    <tr>\n",
       "      <th>96</th>\n",
       "      <td>8.3</td>\n",
       "      <td>296955</td>\n",
       "      <td>Lawrence of Arabia</td>\n",
       "      <td>1962</td>\n",
       "    </tr>\n",
       "    <tr>\n",
       "      <th>97</th>\n",
       "      <td>8.3</td>\n",
       "      <td>331183</td>\n",
       "      <td>North by Northwest</td>\n",
       "      <td>1959</td>\n",
       "    </tr>\n",
       "    <tr>\n",
       "      <th>98</th>\n",
       "      <td>8.3</td>\n",
       "      <td>405906</td>\n",
       "      <td>Vertigo</td>\n",
       "      <td>1958</td>\n",
       "    </tr>\n",
       "    <tr>\n",
       "      <th>99</th>\n",
       "      <td>8.3</td>\n",
       "      <td>761532</td>\n",
       "      <td>Le fabuleux destin d'Amélie Poulain</td>\n",
       "      <td>2001</td>\n",
       "    </tr>\n",
       "  </tbody>\n",
       "</table>\n",
       "<p>100 rows × 4 columns</p>\n",
       "</div>"
      ],
      "text/plain": [
       "    imbd_rating  imbd_votecount                           imbd_title  year\n",
       "0           9.3         2695887             The Shawshank Redemption  1994\n",
       "1           9.2         1870922                        The Godfather  1972\n",
       "2           9.0         2669915                      The Dark Knight  2008\n",
       "3           9.0         1279091               The Godfather: Part II  1974\n",
       "4           9.0          796537                     De 12 gezworenen  1957\n",
       "..          ...             ...                                  ...   ...\n",
       "95          8.3          159979    M - Eine Stadt sucht einen Mörder  1931\n",
       "96          8.3          296955                   Lawrence of Arabia  1962\n",
       "97          8.3          331183                   North by Northwest  1959\n",
       "98          8.3          405906                              Vertigo  1958\n",
       "99          8.3          761532  Le fabuleux destin d'Amélie Poulain  2001\n",
       "\n",
       "[100 rows x 4 columns]"
      ]
     },
     "execution_count": 33,
     "metadata": {},
     "output_type": "execute_result"
    }
   ],
   "source": [
    "imbd_table = pd.read_csv(\"csv\\imbd_table.csv\", index_col=0)\n",
    "imbd_table"
   ]
  },
  {
   "attachments": {},
   "cell_type": "markdown",
   "metadata": {},
   "source": [
    "## Rotten tomatoes Movie csv"
   ]
  },
  {
   "cell_type": "code",
   "execution_count": 34,
   "metadata": {},
   "outputs": [],
   "source": [
    "rotten_tomatoes = pd.read_csv(r\"csv\\rotten_tomatoes_movies.csv\")"
   ]
  },
  {
   "cell_type": "code",
   "execution_count": 35,
   "metadata": {},
   "outputs": [
    {
     "data": {
      "text/html": [
       "<div>\n",
       "<style scoped>\n",
       "    .dataframe tbody tr th:only-of-type {\n",
       "        vertical-align: middle;\n",
       "    }\n",
       "\n",
       "    .dataframe tbody tr th {\n",
       "        vertical-align: top;\n",
       "    }\n",
       "\n",
       "    .dataframe thead th {\n",
       "        text-align: right;\n",
       "    }\n",
       "</style>\n",
       "<table border=\"1\" class=\"dataframe\">\n",
       "  <thead>\n",
       "    <tr style=\"text-align: right;\">\n",
       "      <th></th>\n",
       "      <th>rotten_tomatoes_link</th>\n",
       "      <th>movie_title</th>\n",
       "      <th>movie_info</th>\n",
       "      <th>critics_consensus</th>\n",
       "      <th>content_rating</th>\n",
       "      <th>genres</th>\n",
       "      <th>directors</th>\n",
       "      <th>authors</th>\n",
       "      <th>actors</th>\n",
       "      <th>original_release_date</th>\n",
       "      <th>...</th>\n",
       "      <th>production_company</th>\n",
       "      <th>tomatometer_status</th>\n",
       "      <th>tomatometer_rating</th>\n",
       "      <th>tomatometer_count</th>\n",
       "      <th>audience_status</th>\n",
       "      <th>audience_rating</th>\n",
       "      <th>audience_count</th>\n",
       "      <th>tomatometer_top_critics_count</th>\n",
       "      <th>tomatometer_fresh_critics_count</th>\n",
       "      <th>tomatometer_rotten_critics_count</th>\n",
       "    </tr>\n",
       "  </thead>\n",
       "  <tbody>\n",
       "    <tr>\n",
       "      <th>0</th>\n",
       "      <td>m/0814255</td>\n",
       "      <td>Percy Jackson &amp; the Olympians: The Lightning T...</td>\n",
       "      <td>Always trouble-prone, the life of teenager Per...</td>\n",
       "      <td>Though it may seem like just another Harry Pot...</td>\n",
       "      <td>PG</td>\n",
       "      <td>Action &amp; Adventure, Comedy, Drama, Science Fic...</td>\n",
       "      <td>Chris Columbus</td>\n",
       "      <td>Craig Titley, Chris Columbus, Rick Riordan</td>\n",
       "      <td>Logan Lerman, Brandon T. Jackson, Alexandra Da...</td>\n",
       "      <td>2010-02-12</td>\n",
       "      <td>...</td>\n",
       "      <td>20th Century Fox</td>\n",
       "      <td>Rotten</td>\n",
       "      <td>49.0</td>\n",
       "      <td>149.0</td>\n",
       "      <td>Spilled</td>\n",
       "      <td>53.0</td>\n",
       "      <td>254421.0</td>\n",
       "      <td>43</td>\n",
       "      <td>73</td>\n",
       "      <td>76</td>\n",
       "    </tr>\n",
       "    <tr>\n",
       "      <th>1</th>\n",
       "      <td>m/0878835</td>\n",
       "      <td>Please Give</td>\n",
       "      <td>Kate (Catherine Keener) and her husband Alex (...</td>\n",
       "      <td>Nicole Holofcener's newest might seem slight i...</td>\n",
       "      <td>R</td>\n",
       "      <td>Comedy</td>\n",
       "      <td>Nicole Holofcener</td>\n",
       "      <td>Nicole Holofcener</td>\n",
       "      <td>Catherine Keener, Amanda Peet, Oliver Platt, R...</td>\n",
       "      <td>2010-04-30</td>\n",
       "      <td>...</td>\n",
       "      <td>Sony Pictures Classics</td>\n",
       "      <td>Certified-Fresh</td>\n",
       "      <td>87.0</td>\n",
       "      <td>142.0</td>\n",
       "      <td>Upright</td>\n",
       "      <td>64.0</td>\n",
       "      <td>11574.0</td>\n",
       "      <td>44</td>\n",
       "      <td>123</td>\n",
       "      <td>19</td>\n",
       "    </tr>\n",
       "    <tr>\n",
       "      <th>2</th>\n",
       "      <td>m/10</td>\n",
       "      <td>10</td>\n",
       "      <td>A successful, middle-aged Hollywood songwriter...</td>\n",
       "      <td>Blake Edwards' bawdy comedy may not score a pe...</td>\n",
       "      <td>R</td>\n",
       "      <td>Comedy, Romance</td>\n",
       "      <td>Blake Edwards</td>\n",
       "      <td>Blake Edwards</td>\n",
       "      <td>Dudley Moore, Bo Derek, Julie Andrews, Robert ...</td>\n",
       "      <td>1979-10-05</td>\n",
       "      <td>...</td>\n",
       "      <td>Waner Bros.</td>\n",
       "      <td>Fresh</td>\n",
       "      <td>67.0</td>\n",
       "      <td>24.0</td>\n",
       "      <td>Spilled</td>\n",
       "      <td>53.0</td>\n",
       "      <td>14684.0</td>\n",
       "      <td>2</td>\n",
       "      <td>16</td>\n",
       "      <td>8</td>\n",
       "    </tr>\n",
       "    <tr>\n",
       "      <th>3</th>\n",
       "      <td>m/1000013-12_angry_men</td>\n",
       "      <td>12 Angry Men (Twelve Angry Men)</td>\n",
       "      <td>Following the closing arguments in a murder tr...</td>\n",
       "      <td>Sidney Lumet's feature debut is a superbly wri...</td>\n",
       "      <td>NR</td>\n",
       "      <td>Classics, Drama</td>\n",
       "      <td>Sidney Lumet</td>\n",
       "      <td>Reginald Rose</td>\n",
       "      <td>Martin Balsam, John Fiedler, Lee J. Cobb, E.G....</td>\n",
       "      <td>1957-04-13</td>\n",
       "      <td>...</td>\n",
       "      <td>Criterion Collection</td>\n",
       "      <td>Certified-Fresh</td>\n",
       "      <td>100.0</td>\n",
       "      <td>54.0</td>\n",
       "      <td>Upright</td>\n",
       "      <td>97.0</td>\n",
       "      <td>105386.0</td>\n",
       "      <td>6</td>\n",
       "      <td>54</td>\n",
       "      <td>0</td>\n",
       "    </tr>\n",
       "    <tr>\n",
       "      <th>4</th>\n",
       "      <td>m/1000079-20000_leagues_under_the_sea</td>\n",
       "      <td>20,000 Leagues Under The Sea</td>\n",
       "      <td>In 1866, Professor Pierre M. Aronnax (Paul Luk...</td>\n",
       "      <td>One of Disney's finest live-action adventures,...</td>\n",
       "      <td>G</td>\n",
       "      <td>Action &amp; Adventure, Drama, Kids &amp; Family</td>\n",
       "      <td>Richard Fleischer</td>\n",
       "      <td>Earl Felton</td>\n",
       "      <td>James Mason, Kirk Douglas, Paul Lukas, Peter L...</td>\n",
       "      <td>1954-01-01</td>\n",
       "      <td>...</td>\n",
       "      <td>Disney</td>\n",
       "      <td>Fresh</td>\n",
       "      <td>89.0</td>\n",
       "      <td>27.0</td>\n",
       "      <td>Upright</td>\n",
       "      <td>74.0</td>\n",
       "      <td>68918.0</td>\n",
       "      <td>5</td>\n",
       "      <td>24</td>\n",
       "      <td>3</td>\n",
       "    </tr>\n",
       "  </tbody>\n",
       "</table>\n",
       "<p>5 rows × 22 columns</p>\n",
       "</div>"
      ],
      "text/plain": [
       "                    rotten_tomatoes_link  \\\n",
       "0                              m/0814255   \n",
       "1                              m/0878835   \n",
       "2                                   m/10   \n",
       "3                 m/1000013-12_angry_men   \n",
       "4  m/1000079-20000_leagues_under_the_sea   \n",
       "\n",
       "                                         movie_title  \\\n",
       "0  Percy Jackson & the Olympians: The Lightning T...   \n",
       "1                                        Please Give   \n",
       "2                                                 10   \n",
       "3                    12 Angry Men (Twelve Angry Men)   \n",
       "4                       20,000 Leagues Under The Sea   \n",
       "\n",
       "                                          movie_info  \\\n",
       "0  Always trouble-prone, the life of teenager Per...   \n",
       "1  Kate (Catherine Keener) and her husband Alex (...   \n",
       "2  A successful, middle-aged Hollywood songwriter...   \n",
       "3  Following the closing arguments in a murder tr...   \n",
       "4  In 1866, Professor Pierre M. Aronnax (Paul Luk...   \n",
       "\n",
       "                                   critics_consensus content_rating  \\\n",
       "0  Though it may seem like just another Harry Pot...             PG   \n",
       "1  Nicole Holofcener's newest might seem slight i...              R   \n",
       "2  Blake Edwards' bawdy comedy may not score a pe...              R   \n",
       "3  Sidney Lumet's feature debut is a superbly wri...             NR   \n",
       "4  One of Disney's finest live-action adventures,...              G   \n",
       "\n",
       "                                              genres          directors  \\\n",
       "0  Action & Adventure, Comedy, Drama, Science Fic...     Chris Columbus   \n",
       "1                                             Comedy  Nicole Holofcener   \n",
       "2                                    Comedy, Romance      Blake Edwards   \n",
       "3                                    Classics, Drama       Sidney Lumet   \n",
       "4           Action & Adventure, Drama, Kids & Family  Richard Fleischer   \n",
       "\n",
       "                                      authors  \\\n",
       "0  Craig Titley, Chris Columbus, Rick Riordan   \n",
       "1                           Nicole Holofcener   \n",
       "2                               Blake Edwards   \n",
       "3                               Reginald Rose   \n",
       "4                                 Earl Felton   \n",
       "\n",
       "                                              actors original_release_date  \\\n",
       "0  Logan Lerman, Brandon T. Jackson, Alexandra Da...            2010-02-12   \n",
       "1  Catherine Keener, Amanda Peet, Oliver Platt, R...            2010-04-30   \n",
       "2  Dudley Moore, Bo Derek, Julie Andrews, Robert ...            1979-10-05   \n",
       "3  Martin Balsam, John Fiedler, Lee J. Cobb, E.G....            1957-04-13   \n",
       "4  James Mason, Kirk Douglas, Paul Lukas, Peter L...            1954-01-01   \n",
       "\n",
       "   ...      production_company  tomatometer_status tomatometer_rating  \\\n",
       "0  ...        20th Century Fox              Rotten               49.0   \n",
       "1  ...  Sony Pictures Classics     Certified-Fresh               87.0   \n",
       "2  ...             Waner Bros.               Fresh               67.0   \n",
       "3  ...    Criterion Collection     Certified-Fresh              100.0   \n",
       "4  ...                  Disney               Fresh               89.0   \n",
       "\n",
       "  tomatometer_count  audience_status  audience_rating audience_count  \\\n",
       "0             149.0          Spilled             53.0       254421.0   \n",
       "1             142.0          Upright             64.0        11574.0   \n",
       "2              24.0          Spilled             53.0        14684.0   \n",
       "3              54.0          Upright             97.0       105386.0   \n",
       "4              27.0          Upright             74.0        68918.0   \n",
       "\n",
       "   tomatometer_top_critics_count  tomatometer_fresh_critics_count  \\\n",
       "0                             43                               73   \n",
       "1                             44                              123   \n",
       "2                              2                               16   \n",
       "3                              6                               54   \n",
       "4                              5                               24   \n",
       "\n",
       "   tomatometer_rotten_critics_count  \n",
       "0                                76  \n",
       "1                                19  \n",
       "2                                 8  \n",
       "3                                 0  \n",
       "4                                 3  \n",
       "\n",
       "[5 rows x 22 columns]"
      ]
     },
     "execution_count": 35,
     "metadata": {},
     "output_type": "execute_result"
    }
   ],
   "source": [
    "rotten_tomatoes.head()"
   ]
  },
  {
   "cell_type": "code",
   "execution_count": 73,
   "metadata": {},
   "outputs": [
    {
     "name": "stdout",
     "output_type": "stream",
     "text": [
      "<class 'pandas.core.frame.DataFrame'>\n",
      "RangeIndex: 17712 entries, 0 to 17711\n",
      "Data columns (total 17 columns):\n",
      " #   Column                            Non-Null Count  Dtype  \n",
      "---  ------                            --------------  -----  \n",
      " 0   movie_title                       17712 non-null  object \n",
      " 1   content_rating                    17712 non-null  object \n",
      " 2   genres                            17693 non-null  object \n",
      " 3   directors                         17518 non-null  object \n",
      " 4   authors                           16170 non-null  object \n",
      " 5   original_release_date             16546 non-null  object \n",
      " 6   runtime                           17398 non-null  float64\n",
      " 7   production_company                17213 non-null  object \n",
      " 8   tomatometer_status                17668 non-null  object \n",
      " 9   tomatometer_rating                17668 non-null  float64\n",
      " 10  tomatometer_count                 17668 non-null  float64\n",
      " 11  audience_rating                   17416 non-null  float64\n",
      " 12  audience_count                    17415 non-null  float64\n",
      " 13  tomatometer_top_critics_count     17712 non-null  int64  \n",
      " 14  tomatometer_fresh_critics_count   17712 non-null  int64  \n",
      " 15  tomatometer_rotten_critics_count  17712 non-null  int64  \n",
      " 16  year                              16546 non-null  object \n",
      "dtypes: float64(5), int64(3), object(9)\n",
      "memory usage: 2.3+ MB\n",
      "\n",
      " ############### NULL % ################\n",
      "\n",
      "movie_title                         0.000000\n",
      "content_rating                      0.000000\n",
      "genres                              0.001073\n",
      "directors                           0.010953\n",
      "authors                             0.087060\n",
      "original_release_date               0.065831\n",
      "runtime                             0.017728\n",
      "production_company                  0.028173\n",
      "tomatometer_status                  0.002484\n",
      "tomatometer_rating                  0.002484\n",
      "tomatometer_count                   0.002484\n",
      "audience_rating                     0.016712\n",
      "audience_count                      0.016768\n",
      "tomatometer_top_critics_count       0.000000\n",
      "tomatometer_fresh_critics_count     0.000000\n",
      "tomatometer_rotten_critics_count    0.000000\n",
      "year                                0.065831\n",
      "dtype: float64\n",
      "\n",
      " ############### Numerical Variables Sumarry Statistics ################\n",
      "\n"
     ]
    },
    {
     "data": {
      "text/html": [
       "<div>\n",
       "<style scoped>\n",
       "    .dataframe tbody tr th:only-of-type {\n",
       "        vertical-align: middle;\n",
       "    }\n",
       "\n",
       "    .dataframe tbody tr th {\n",
       "        vertical-align: top;\n",
       "    }\n",
       "\n",
       "    .dataframe thead th {\n",
       "        text-align: right;\n",
       "    }\n",
       "</style>\n",
       "<table border=\"1\" class=\"dataframe\">\n",
       "  <thead>\n",
       "    <tr style=\"text-align: right;\">\n",
       "      <th></th>\n",
       "      <th>runtime</th>\n",
       "      <th>tomatometer_rating</th>\n",
       "      <th>tomatometer_count</th>\n",
       "      <th>audience_rating</th>\n",
       "      <th>audience_count</th>\n",
       "      <th>tomatometer_top_critics_count</th>\n",
       "      <th>tomatometer_fresh_critics_count</th>\n",
       "      <th>tomatometer_rotten_critics_count</th>\n",
       "    </tr>\n",
       "  </thead>\n",
       "  <tbody>\n",
       "    <tr>\n",
       "      <th>count</th>\n",
       "      <td>17398.00</td>\n",
       "      <td>17668.00</td>\n",
       "      <td>17668.00</td>\n",
       "      <td>17416.00</td>\n",
       "      <td>17415.00</td>\n",
       "      <td>17712.00</td>\n",
       "      <td>17712.00</td>\n",
       "      <td>17712.00</td>\n",
       "    </tr>\n",
       "    <tr>\n",
       "      <th>mean</th>\n",
       "      <td>102.21</td>\n",
       "      <td>60.88</td>\n",
       "      <td>57.14</td>\n",
       "      <td>60.55</td>\n",
       "      <td>143940.07</td>\n",
       "      <td>14.59</td>\n",
       "      <td>36.37</td>\n",
       "      <td>20.70</td>\n",
       "    </tr>\n",
       "    <tr>\n",
       "      <th>std</th>\n",
       "      <td>18.70</td>\n",
       "      <td>28.44</td>\n",
       "      <td>68.37</td>\n",
       "      <td>20.54</td>\n",
       "      <td>1763577.42</td>\n",
       "      <td>15.15</td>\n",
       "      <td>52.60</td>\n",
       "      <td>30.25</td>\n",
       "    </tr>\n",
       "    <tr>\n",
       "      <th>min</th>\n",
       "      <td>5.00</td>\n",
       "      <td>0.00</td>\n",
       "      <td>5.00</td>\n",
       "      <td>0.00</td>\n",
       "      <td>5.00</td>\n",
       "      <td>0.00</td>\n",
       "      <td>0.00</td>\n",
       "      <td>0.00</td>\n",
       "    </tr>\n",
       "    <tr>\n",
       "      <th>25%</th>\n",
       "      <td>90.00</td>\n",
       "      <td>38.00</td>\n",
       "      <td>12.00</td>\n",
       "      <td>45.00</td>\n",
       "      <td>707.50</td>\n",
       "      <td>3.00</td>\n",
       "      <td>6.00</td>\n",
       "      <td>3.00</td>\n",
       "    </tr>\n",
       "    <tr>\n",
       "      <th>50%</th>\n",
       "      <td>99.00</td>\n",
       "      <td>67.00</td>\n",
       "      <td>28.00</td>\n",
       "      <td>63.00</td>\n",
       "      <td>4277.00</td>\n",
       "      <td>8.00</td>\n",
       "      <td>16.00</td>\n",
       "      <td>8.00</td>\n",
       "    </tr>\n",
       "    <tr>\n",
       "      <th>75%</th>\n",
       "      <td>111.00</td>\n",
       "      <td>86.00</td>\n",
       "      <td>75.00</td>\n",
       "      <td>78.00</td>\n",
       "      <td>24988.00</td>\n",
       "      <td>23.00</td>\n",
       "      <td>44.00</td>\n",
       "      <td>24.00</td>\n",
       "    </tr>\n",
       "    <tr>\n",
       "      <th>max</th>\n",
       "      <td>266.00</td>\n",
       "      <td>100.00</td>\n",
       "      <td>574.00</td>\n",
       "      <td>100.00</td>\n",
       "      <td>35797635.00</td>\n",
       "      <td>69.00</td>\n",
       "      <td>497.00</td>\n",
       "      <td>303.00</td>\n",
       "    </tr>\n",
       "  </tbody>\n",
       "</table>\n",
       "</div>"
      ],
      "text/plain": [
       "        runtime  tomatometer_rating  tomatometer_count  audience_rating  \\\n",
       "count  17398.00            17668.00           17668.00         17416.00   \n",
       "mean     102.21               60.88              57.14            60.55   \n",
       "std       18.70               28.44              68.37            20.54   \n",
       "min        5.00                0.00               5.00             0.00   \n",
       "25%       90.00               38.00              12.00            45.00   \n",
       "50%       99.00               67.00              28.00            63.00   \n",
       "75%      111.00               86.00              75.00            78.00   \n",
       "max      266.00              100.00             574.00           100.00   \n",
       "\n",
       "       audience_count  tomatometer_top_critics_count  \\\n",
       "count        17415.00                       17712.00   \n",
       "mean        143940.07                          14.59   \n",
       "std        1763577.42                          15.15   \n",
       "min              5.00                           0.00   \n",
       "25%            707.50                           3.00   \n",
       "50%           4277.00                           8.00   \n",
       "75%          24988.00                          23.00   \n",
       "max       35797635.00                          69.00   \n",
       "\n",
       "       tomatometer_fresh_critics_count  tomatometer_rotten_critics_count  \n",
       "count                         17712.00                          17712.00  \n",
       "mean                             36.37                             20.70  \n",
       "std                              52.60                             30.25  \n",
       "min                               0.00                              0.00  \n",
       "25%                               6.00                              3.00  \n",
       "50%                              16.00                              8.00  \n",
       "75%                              44.00                             24.00  \n",
       "max                             497.00                            303.00  "
      ]
     },
     "execution_count": 73,
     "metadata": {},
     "output_type": "execute_result"
    }
   ],
   "source": [
    "rotten_tomatoes.info()\n",
    "#nulls for only numerical values\n",
    "print(\"\\n ############### NULL % ################\\n\")\n",
    "print(rotten_tomatoes[rotten_tomatoes.columns].isnull().sum()/(rotten_tomatoes.shape[0]))\n",
    "\n",
    "print(\"\\n ############### Numerical Variables Sumarry Statistics ################\\n\")\n",
    "rotten_tomatoes.describe().round(2)\n",
    "      \n",
    "                                                    "
   ]
  },
  {
   "cell_type": "code",
   "execution_count": 37,
   "metadata": {},
   "outputs": [],
   "source": [
    "rotten_tomatoes.drop([\"streaming_release_date\",\"movie_info\",\"critics_consensus\",\"actors\",\"audience_status\",\"rotten_tomatoes_link\"] ,axis=1, inplace=True)\n"
   ]
  },
  {
   "cell_type": "code",
   "execution_count": 48,
   "metadata": {},
   "outputs": [
    {
     "data": {
      "text/html": [
       "<div>\n",
       "<style scoped>\n",
       "    .dataframe tbody tr th:only-of-type {\n",
       "        vertical-align: middle;\n",
       "    }\n",
       "\n",
       "    .dataframe tbody tr th {\n",
       "        vertical-align: top;\n",
       "    }\n",
       "\n",
       "    .dataframe thead th {\n",
       "        text-align: right;\n",
       "    }\n",
       "</style>\n",
       "<table border=\"1\" class=\"dataframe\">\n",
       "  <thead>\n",
       "    <tr style=\"text-align: right;\">\n",
       "      <th></th>\n",
       "      <th>runtime</th>\n",
       "      <th>tomatometer_rating</th>\n",
       "      <th>tomatometer_count</th>\n",
       "      <th>audience_rating</th>\n",
       "      <th>audience_count</th>\n",
       "      <th>tomatometer_top_critics_count</th>\n",
       "      <th>tomatometer_fresh_critics_count</th>\n",
       "      <th>tomatometer_rotten_critics_count</th>\n",
       "    </tr>\n",
       "  </thead>\n",
       "  <tbody>\n",
       "    <tr>\n",
       "      <th>count</th>\n",
       "      <td>17398.00</td>\n",
       "      <td>17668.00</td>\n",
       "      <td>17668.00</td>\n",
       "      <td>17416.00</td>\n",
       "      <td>17415.00</td>\n",
       "      <td>17712.00</td>\n",
       "      <td>17712.00</td>\n",
       "      <td>17712.00</td>\n",
       "    </tr>\n",
       "    <tr>\n",
       "      <th>mean</th>\n",
       "      <td>102.21</td>\n",
       "      <td>60.88</td>\n",
       "      <td>57.14</td>\n",
       "      <td>60.55</td>\n",
       "      <td>143940.07</td>\n",
       "      <td>14.59</td>\n",
       "      <td>36.37</td>\n",
       "      <td>20.70</td>\n",
       "    </tr>\n",
       "    <tr>\n",
       "      <th>std</th>\n",
       "      <td>18.70</td>\n",
       "      <td>28.44</td>\n",
       "      <td>68.37</td>\n",
       "      <td>20.54</td>\n",
       "      <td>1763577.42</td>\n",
       "      <td>15.15</td>\n",
       "      <td>52.60</td>\n",
       "      <td>30.25</td>\n",
       "    </tr>\n",
       "    <tr>\n",
       "      <th>min</th>\n",
       "      <td>5.00</td>\n",
       "      <td>0.00</td>\n",
       "      <td>5.00</td>\n",
       "      <td>0.00</td>\n",
       "      <td>5.00</td>\n",
       "      <td>0.00</td>\n",
       "      <td>0.00</td>\n",
       "      <td>0.00</td>\n",
       "    </tr>\n",
       "    <tr>\n",
       "      <th>25%</th>\n",
       "      <td>90.00</td>\n",
       "      <td>38.00</td>\n",
       "      <td>12.00</td>\n",
       "      <td>45.00</td>\n",
       "      <td>707.50</td>\n",
       "      <td>3.00</td>\n",
       "      <td>6.00</td>\n",
       "      <td>3.00</td>\n",
       "    </tr>\n",
       "    <tr>\n",
       "      <th>50%</th>\n",
       "      <td>99.00</td>\n",
       "      <td>67.00</td>\n",
       "      <td>28.00</td>\n",
       "      <td>63.00</td>\n",
       "      <td>4277.00</td>\n",
       "      <td>8.00</td>\n",
       "      <td>16.00</td>\n",
       "      <td>8.00</td>\n",
       "    </tr>\n",
       "    <tr>\n",
       "      <th>75%</th>\n",
       "      <td>111.00</td>\n",
       "      <td>86.00</td>\n",
       "      <td>75.00</td>\n",
       "      <td>78.00</td>\n",
       "      <td>24988.00</td>\n",
       "      <td>23.00</td>\n",
       "      <td>44.00</td>\n",
       "      <td>24.00</td>\n",
       "    </tr>\n",
       "    <tr>\n",
       "      <th>max</th>\n",
       "      <td>266.00</td>\n",
       "      <td>100.00</td>\n",
       "      <td>574.00</td>\n",
       "      <td>100.00</td>\n",
       "      <td>35797635.00</td>\n",
       "      <td>69.00</td>\n",
       "      <td>497.00</td>\n",
       "      <td>303.00</td>\n",
       "    </tr>\n",
       "  </tbody>\n",
       "</table>\n",
       "</div>"
      ],
      "text/plain": [
       "        runtime  tomatometer_rating  tomatometer_count  audience_rating  \\\n",
       "count  17398.00            17668.00           17668.00         17416.00   \n",
       "mean     102.21               60.88              57.14            60.55   \n",
       "std       18.70               28.44              68.37            20.54   \n",
       "min        5.00                0.00               5.00             0.00   \n",
       "25%       90.00               38.00              12.00            45.00   \n",
       "50%       99.00               67.00              28.00            63.00   \n",
       "75%      111.00               86.00              75.00            78.00   \n",
       "max      266.00              100.00             574.00           100.00   \n",
       "\n",
       "       audience_count  tomatometer_top_critics_count  \\\n",
       "count        17415.00                       17712.00   \n",
       "mean        143940.07                          14.59   \n",
       "std        1763577.42                          15.15   \n",
       "min              5.00                           0.00   \n",
       "25%            707.50                           3.00   \n",
       "50%           4277.00                           8.00   \n",
       "75%          24988.00                          23.00   \n",
       "max       35797635.00                          69.00   \n",
       "\n",
       "       tomatometer_fresh_critics_count  tomatometer_rotten_critics_count  \n",
       "count                         17712.00                          17712.00  \n",
       "mean                             36.37                             20.70  \n",
       "std                              52.60                             30.25  \n",
       "min                               0.00                              0.00  \n",
       "25%                               6.00                              3.00  \n",
       "50%                              16.00                              8.00  \n",
       "75%                              44.00                             24.00  \n",
       "max                             497.00                            303.00  "
      ]
     },
     "execution_count": 48,
     "metadata": {},
     "output_type": "execute_result"
    }
   ],
   "source": [
    "rotten_tomatoes.describe().round(2)"
   ]
  },
  {
   "attachments": {},
   "cell_type": "markdown",
   "metadata": {},
   "source": []
  },
  {
   "cell_type": "code",
   "execution_count": 39,
   "metadata": {},
   "outputs": [
    {
     "data": {
      "text/html": [
       "<div>\n",
       "<style scoped>\n",
       "    .dataframe tbody tr th:only-of-type {\n",
       "        vertical-align: middle;\n",
       "    }\n",
       "\n",
       "    .dataframe tbody tr th {\n",
       "        vertical-align: top;\n",
       "    }\n",
       "\n",
       "    .dataframe thead th {\n",
       "        text-align: right;\n",
       "    }\n",
       "</style>\n",
       "<table border=\"1\" class=\"dataframe\">\n",
       "  <thead>\n",
       "    <tr style=\"text-align: right;\">\n",
       "      <th></th>\n",
       "      <th>imbd_rating</th>\n",
       "      <th>imbd_votecount</th>\n",
       "      <th>imbd_title</th>\n",
       "      <th>year</th>\n",
       "      <th>movie_title</th>\n",
       "    </tr>\n",
       "  </thead>\n",
       "  <tbody>\n",
       "    <tr>\n",
       "      <th>0</th>\n",
       "      <td>9.3</td>\n",
       "      <td>2695887</td>\n",
       "      <td>The Shawshank Redemption</td>\n",
       "      <td>1994</td>\n",
       "      <td>The Shawshank Redemption</td>\n",
       "    </tr>\n",
       "    <tr>\n",
       "      <th>1</th>\n",
       "      <td>9.2</td>\n",
       "      <td>1870922</td>\n",
       "      <td>The Godfather</td>\n",
       "      <td>1972</td>\n",
       "      <td>The Godfather</td>\n",
       "    </tr>\n",
       "    <tr>\n",
       "      <th>2</th>\n",
       "      <td>9.0</td>\n",
       "      <td>2669915</td>\n",
       "      <td>The Dark Knight</td>\n",
       "      <td>2008</td>\n",
       "      <td>The Dark Knight</td>\n",
       "    </tr>\n",
       "    <tr>\n",
       "      <th>3</th>\n",
       "      <td>9.0</td>\n",
       "      <td>1279091</td>\n",
       "      <td>The Godfather: Part II</td>\n",
       "      <td>1974</td>\n",
       "      <td>The Godfather, Part II</td>\n",
       "    </tr>\n",
       "    <tr>\n",
       "      <th>4</th>\n",
       "      <td>9.0</td>\n",
       "      <td>796537</td>\n",
       "      <td>De 12 gezworenen</td>\n",
       "      <td>1957</td>\n",
       "      <td>nan</td>\n",
       "    </tr>\n",
       "    <tr>\n",
       "      <th>...</th>\n",
       "      <td>...</td>\n",
       "      <td>...</td>\n",
       "      <td>...</td>\n",
       "      <td>...</td>\n",
       "      <td>...</td>\n",
       "    </tr>\n",
       "    <tr>\n",
       "      <th>95</th>\n",
       "      <td>8.3</td>\n",
       "      <td>159979</td>\n",
       "      <td>M - Eine Stadt sucht einen Mörder</td>\n",
       "      <td>1931</td>\n",
       "      <td>nan</td>\n",
       "    </tr>\n",
       "    <tr>\n",
       "      <th>96</th>\n",
       "      <td>8.3</td>\n",
       "      <td>296955</td>\n",
       "      <td>Lawrence of Arabia</td>\n",
       "      <td>1962</td>\n",
       "      <td>Lawrence of Arabia</td>\n",
       "    </tr>\n",
       "    <tr>\n",
       "      <th>97</th>\n",
       "      <td>8.3</td>\n",
       "      <td>331183</td>\n",
       "      <td>North by Northwest</td>\n",
       "      <td>1959</td>\n",
       "      <td>North by Northwest</td>\n",
       "    </tr>\n",
       "    <tr>\n",
       "      <th>98</th>\n",
       "      <td>8.3</td>\n",
       "      <td>405906</td>\n",
       "      <td>Vertigo</td>\n",
       "      <td>1958</td>\n",
       "      <td>Vertigo</td>\n",
       "    </tr>\n",
       "    <tr>\n",
       "      <th>99</th>\n",
       "      <td>8.3</td>\n",
       "      <td>761532</td>\n",
       "      <td>Le fabuleux destin d'Amélie Poulain</td>\n",
       "      <td>2001</td>\n",
       "      <td>nan</td>\n",
       "    </tr>\n",
       "  </tbody>\n",
       "</table>\n",
       "<p>100 rows × 5 columns</p>\n",
       "</div>"
      ],
      "text/plain": [
       "    imbd_rating  imbd_votecount                           imbd_title  year  \\\n",
       "0           9.3         2695887             The Shawshank Redemption  1994   \n",
       "1           9.2         1870922                        The Godfather  1972   \n",
       "2           9.0         2669915                      The Dark Knight  2008   \n",
       "3           9.0         1279091               The Godfather: Part II  1974   \n",
       "4           9.0          796537                     De 12 gezworenen  1957   \n",
       "..          ...             ...                                  ...   ...   \n",
       "95          8.3          159979    M - Eine Stadt sucht einen Mörder  1931   \n",
       "96          8.3          296955                   Lawrence of Arabia  1962   \n",
       "97          8.3          331183                   North by Northwest  1959   \n",
       "98          8.3          405906                              Vertigo  1958   \n",
       "99          8.3          761532  Le fabuleux destin d'Amélie Poulain  2001   \n",
       "\n",
       "                 movie_title  \n",
       "0   The Shawshank Redemption  \n",
       "1              The Godfather  \n",
       "2            The Dark Knight  \n",
       "3     The Godfather, Part II  \n",
       "4                        nan  \n",
       "..                       ...  \n",
       "95                       nan  \n",
       "96        Lawrence of Arabia  \n",
       "97        North by Northwest  \n",
       "98                   Vertigo  \n",
       "99                       nan  \n",
       "\n",
       "[100 rows x 5 columns]"
      ]
     },
     "execution_count": 39,
     "metadata": {},
     "output_type": "execute_result"
    }
   ],
   "source": [
    "eda.str_match_index(imbd_table,\"imbd_title\",rotten_tomatoes,\"movie_title\")"
   ]
  },
  {
   "cell_type": "code",
   "execution_count": 38,
   "metadata": {},
   "outputs": [],
   "source": [
    "# Changing datatypes to use as index join\n",
    "rotten_tomatoes[\"year\"] = rotten_tomatoes[\"original_release_date\"].str.slice(start=0,stop=4)\n",
    "imbd_table[\"year\"] = imbd_table[\"year\"].astype(str)"
   ]
  },
  {
   "cell_type": "code",
   "execution_count": 40,
   "metadata": {},
   "outputs": [
    {
     "data": {
      "text/html": [
       "<div>\n",
       "<style scoped>\n",
       "    .dataframe tbody tr th:only-of-type {\n",
       "        vertical-align: middle;\n",
       "    }\n",
       "\n",
       "    .dataframe tbody tr th {\n",
       "        vertical-align: top;\n",
       "    }\n",
       "\n",
       "    .dataframe thead th {\n",
       "        text-align: right;\n",
       "    }\n",
       "</style>\n",
       "<table border=\"1\" class=\"dataframe\">\n",
       "  <thead>\n",
       "    <tr style=\"text-align: right;\">\n",
       "      <th></th>\n",
       "      <th>imbd_rating</th>\n",
       "      <th>imbd_votecount</th>\n",
       "      <th>imbd_title</th>\n",
       "      <th>year</th>\n",
       "      <th>movie_title</th>\n",
       "      <th>content_rating</th>\n",
       "      <th>genres</th>\n",
       "      <th>directors</th>\n",
       "      <th>authors</th>\n",
       "      <th>original_release_date</th>\n",
       "      <th>runtime</th>\n",
       "      <th>production_company</th>\n",
       "      <th>tomatometer_status</th>\n",
       "      <th>tomatometer_rating</th>\n",
       "      <th>tomatometer_count</th>\n",
       "      <th>audience_rating</th>\n",
       "      <th>audience_count</th>\n",
       "      <th>tomatometer_top_critics_count</th>\n",
       "      <th>tomatometer_fresh_critics_count</th>\n",
       "      <th>tomatometer_rotten_critics_count</th>\n",
       "    </tr>\n",
       "  </thead>\n",
       "  <tbody>\n",
       "    <tr>\n",
       "      <th>0</th>\n",
       "      <td>9.3</td>\n",
       "      <td>2695887</td>\n",
       "      <td>The Shawshank Redemption</td>\n",
       "      <td>1994</td>\n",
       "      <td>The Shawshank Redemption</td>\n",
       "      <td>R</td>\n",
       "      <td>Drama</td>\n",
       "      <td>Frank Darabont</td>\n",
       "      <td>Frank Darabont</td>\n",
       "      <td>1994-09-10</td>\n",
       "      <td>142.0</td>\n",
       "      <td>Columbia Pictures</td>\n",
       "      <td>Certified-Fresh</td>\n",
       "      <td>91.0</td>\n",
       "      <td>75.0</td>\n",
       "      <td>98.0</td>\n",
       "      <td>886485.0</td>\n",
       "      <td>19</td>\n",
       "      <td>68</td>\n",
       "      <td>7</td>\n",
       "    </tr>\n",
       "    <tr>\n",
       "      <th>1</th>\n",
       "      <td>9.2</td>\n",
       "      <td>1870922</td>\n",
       "      <td>The Godfather</td>\n",
       "      <td>1972</td>\n",
       "      <td>The Godfather</td>\n",
       "      <td>R</td>\n",
       "      <td>Drama</td>\n",
       "      <td>Francis Ford Coppola</td>\n",
       "      <td>Francis Ford Coppola, Mario Puzo</td>\n",
       "      <td>1972-03-24</td>\n",
       "      <td>177.0</td>\n",
       "      <td>Paramount Pictures</td>\n",
       "      <td>Certified-Fresh</td>\n",
       "      <td>98.0</td>\n",
       "      <td>99.0</td>\n",
       "      <td>98.0</td>\n",
       "      <td>733939.0</td>\n",
       "      <td>24</td>\n",
       "      <td>97</td>\n",
       "      <td>2</td>\n",
       "    </tr>\n",
       "    <tr>\n",
       "      <th>2</th>\n",
       "      <td>9.0</td>\n",
       "      <td>2669915</td>\n",
       "      <td>The Dark Knight</td>\n",
       "      <td>2008</td>\n",
       "      <td>The Dark Knight</td>\n",
       "      <td>PG-13</td>\n",
       "      <td>Action &amp; Adventure, Drama, Science Fiction &amp; F...</td>\n",
       "      <td>Christopher Nolan</td>\n",
       "      <td>Christopher Nolan, Jonathan Nolan</td>\n",
       "      <td>2008-07-18</td>\n",
       "      <td>152.0</td>\n",
       "      <td>Warner Bros. Pictures/Legendary</td>\n",
       "      <td>Certified-Fresh</td>\n",
       "      <td>94.0</td>\n",
       "      <td>340.0</td>\n",
       "      <td>94.0</td>\n",
       "      <td>1831566.0</td>\n",
       "      <td>63</td>\n",
       "      <td>320</td>\n",
       "      <td>20</td>\n",
       "    </tr>\n",
       "    <tr>\n",
       "      <th>3</th>\n",
       "      <td>9.0</td>\n",
       "      <td>1279091</td>\n",
       "      <td>The Godfather: Part II</td>\n",
       "      <td>1974</td>\n",
       "      <td>The Godfather, Part II</td>\n",
       "      <td>R</td>\n",
       "      <td>Drama, Mystery &amp; Suspense</td>\n",
       "      <td>Francis Ford Coppola</td>\n",
       "      <td>Mario Puzo, Francis Ford Coppola</td>\n",
       "      <td>1974-12-20</td>\n",
       "      <td>200.0</td>\n",
       "      <td>Paramount Pictures</td>\n",
       "      <td>Certified-Fresh</td>\n",
       "      <td>98.0</td>\n",
       "      <td>83.0</td>\n",
       "      <td>97.0</td>\n",
       "      <td>411461.0</td>\n",
       "      <td>17</td>\n",
       "      <td>81</td>\n",
       "      <td>2</td>\n",
       "    </tr>\n",
       "    <tr>\n",
       "      <th>4</th>\n",
       "      <td>9.0</td>\n",
       "      <td>1363421</td>\n",
       "      <td>Schindler's List</td>\n",
       "      <td>1993</td>\n",
       "      <td>Schindler's List</td>\n",
       "      <td>R</td>\n",
       "      <td>Drama</td>\n",
       "      <td>Steven Spielberg</td>\n",
       "      <td>Steven Zaillian</td>\n",
       "      <td>1993-12-15</td>\n",
       "      <td>195.0</td>\n",
       "      <td>Universal Pictures</td>\n",
       "      <td>Certified-Fresh</td>\n",
       "      <td>97.0</td>\n",
       "      <td>100.0</td>\n",
       "      <td>97.0</td>\n",
       "      <td>411608.0</td>\n",
       "      <td>24</td>\n",
       "      <td>97</td>\n",
       "      <td>3</td>\n",
       "    </tr>\n",
       "    <tr>\n",
       "      <th>...</th>\n",
       "      <td>...</td>\n",
       "      <td>...</td>\n",
       "      <td>...</td>\n",
       "      <td>...</td>\n",
       "      <td>...</td>\n",
       "      <td>...</td>\n",
       "      <td>...</td>\n",
       "      <td>...</td>\n",
       "      <td>...</td>\n",
       "      <td>...</td>\n",
       "      <td>...</td>\n",
       "      <td>...</td>\n",
       "      <td>...</td>\n",
       "      <td>...</td>\n",
       "      <td>...</td>\n",
       "      <td>...</td>\n",
       "      <td>...</td>\n",
       "      <td>...</td>\n",
       "      <td>...</td>\n",
       "      <td>...</td>\n",
       "    </tr>\n",
       "    <tr>\n",
       "      <th>69</th>\n",
       "      <td>8.4</td>\n",
       "      <td>82428</td>\n",
       "      <td>Idi i smotri</td>\n",
       "      <td>1985</td>\n",
       "      <td>Come and See (Idi i smotri)</td>\n",
       "      <td>NR</td>\n",
       "      <td>Art House &amp; International, Drama</td>\n",
       "      <td>Elem Klimov</td>\n",
       "      <td>Ales Adamovich, Elem Klimov, Ales Adamovich</td>\n",
       "      <td>1985-10-17</td>\n",
       "      <td>142.0</td>\n",
       "      <td>Kino International</td>\n",
       "      <td>Fresh</td>\n",
       "      <td>97.0</td>\n",
       "      <td>34.0</td>\n",
       "      <td>95.0</td>\n",
       "      <td>8575.0</td>\n",
       "      <td>7</td>\n",
       "      <td>33</td>\n",
       "      <td>1</td>\n",
       "    </tr>\n",
       "    <tr>\n",
       "      <th>70</th>\n",
       "      <td>8.3</td>\n",
       "      <td>445614</td>\n",
       "      <td>Citizen Kane</td>\n",
       "      <td>1941</td>\n",
       "      <td>Citizen Kane</td>\n",
       "      <td>PG</td>\n",
       "      <td>Classics, Drama, Mystery &amp; Suspense</td>\n",
       "      <td>Orson Welles</td>\n",
       "      <td>Herman J. Mankiewicz, Orson Welles</td>\n",
       "      <td>1941-05-01</td>\n",
       "      <td>119.0</td>\n",
       "      <td>RKO Radio Pictures</td>\n",
       "      <td>Certified-Fresh</td>\n",
       "      <td>100.0</td>\n",
       "      <td>93.0</td>\n",
       "      <td>90.0</td>\n",
       "      <td>159199.0</td>\n",
       "      <td>23</td>\n",
       "      <td>93</td>\n",
       "      <td>0</td>\n",
       "    </tr>\n",
       "    <tr>\n",
       "      <th>71</th>\n",
       "      <td>8.3</td>\n",
       "      <td>296955</td>\n",
       "      <td>Lawrence of Arabia</td>\n",
       "      <td>1962</td>\n",
       "      <td>Lawrence of Arabia</td>\n",
       "      <td>PG</td>\n",
       "      <td>Action &amp; Adventure, Classics, Drama</td>\n",
       "      <td>David Lean</td>\n",
       "      <td>Robert Bolt, Michael Wilson</td>\n",
       "      <td>1962-12-16</td>\n",
       "      <td>216.0</td>\n",
       "      <td>Columbia Pictures</td>\n",
       "      <td>Certified-Fresh</td>\n",
       "      <td>98.0</td>\n",
       "      <td>88.0</td>\n",
       "      <td>93.0</td>\n",
       "      <td>75122.0</td>\n",
       "      <td>23</td>\n",
       "      <td>86</td>\n",
       "      <td>2</td>\n",
       "    </tr>\n",
       "    <tr>\n",
       "      <th>72</th>\n",
       "      <td>8.3</td>\n",
       "      <td>331183</td>\n",
       "      <td>North by Northwest</td>\n",
       "      <td>1959</td>\n",
       "      <td>North by Northwest</td>\n",
       "      <td>NR</td>\n",
       "      <td>Classics, Mystery &amp; Suspense</td>\n",
       "      <td>Alfred Hitchcock</td>\n",
       "      <td>Ernest Lehman</td>\n",
       "      <td>1959-09-17</td>\n",
       "      <td>136.0</td>\n",
       "      <td>Turner Entertainment</td>\n",
       "      <td>Certified-Fresh</td>\n",
       "      <td>99.0</td>\n",
       "      <td>78.0</td>\n",
       "      <td>94.0</td>\n",
       "      <td>79771.0</td>\n",
       "      <td>18</td>\n",
       "      <td>77</td>\n",
       "      <td>1</td>\n",
       "    </tr>\n",
       "    <tr>\n",
       "      <th>73</th>\n",
       "      <td>8.3</td>\n",
       "      <td>405906</td>\n",
       "      <td>Vertigo</td>\n",
       "      <td>1958</td>\n",
       "      <td>Vertigo</td>\n",
       "      <td>PG</td>\n",
       "      <td>Classics, Drama, Mystery &amp; Suspense, Romance</td>\n",
       "      <td>Alfred Hitchcock</td>\n",
       "      <td>Samuel W. Taylor, Samuel Taylor, Alec Coppel</td>\n",
       "      <td>1958-01-01</td>\n",
       "      <td>128.0</td>\n",
       "      <td>Paramount Pictures</td>\n",
       "      <td>Certified-Fresh</td>\n",
       "      <td>94.0</td>\n",
       "      <td>81.0</td>\n",
       "      <td>93.0</td>\n",
       "      <td>102556.0</td>\n",
       "      <td>22</td>\n",
       "      <td>76</td>\n",
       "      <td>5</td>\n",
       "    </tr>\n",
       "  </tbody>\n",
       "</table>\n",
       "<p>74 rows × 20 columns</p>\n",
       "</div>"
      ],
      "text/plain": [
       "    imbd_rating  imbd_votecount                imbd_title  year  \\\n",
       "0           9.3         2695887  The Shawshank Redemption  1994   \n",
       "1           9.2         1870922             The Godfather  1972   \n",
       "2           9.0         2669915           The Dark Knight  2008   \n",
       "3           9.0         1279091    The Godfather: Part II  1974   \n",
       "4           9.0         1363421          Schindler's List  1993   \n",
       "..          ...             ...                       ...   ...   \n",
       "69          8.4           82428              Idi i smotri  1985   \n",
       "70          8.3          445614              Citizen Kane  1941   \n",
       "71          8.3          296955        Lawrence of Arabia  1962   \n",
       "72          8.3          331183        North by Northwest  1959   \n",
       "73          8.3          405906                   Vertigo  1958   \n",
       "\n",
       "                    movie_title content_rating  \\\n",
       "0      The Shawshank Redemption              R   \n",
       "1                 The Godfather              R   \n",
       "2               The Dark Knight          PG-13   \n",
       "3        The Godfather, Part II              R   \n",
       "4              Schindler's List              R   \n",
       "..                          ...            ...   \n",
       "69  Come and See (Idi i smotri)             NR   \n",
       "70                 Citizen Kane             PG   \n",
       "71           Lawrence of Arabia             PG   \n",
       "72           North by Northwest             NR   \n",
       "73                      Vertigo             PG   \n",
       "\n",
       "                                               genres             directors  \\\n",
       "0                                               Drama        Frank Darabont   \n",
       "1                                               Drama  Francis Ford Coppola   \n",
       "2   Action & Adventure, Drama, Science Fiction & F...     Christopher Nolan   \n",
       "3                           Drama, Mystery & Suspense  Francis Ford Coppola   \n",
       "4                                               Drama      Steven Spielberg   \n",
       "..                                                ...                   ...   \n",
       "69                   Art House & International, Drama           Elem Klimov   \n",
       "70                Classics, Drama, Mystery & Suspense          Orson Welles   \n",
       "71                Action & Adventure, Classics, Drama            David Lean   \n",
       "72                       Classics, Mystery & Suspense      Alfred Hitchcock   \n",
       "73       Classics, Drama, Mystery & Suspense, Romance      Alfred Hitchcock   \n",
       "\n",
       "                                         authors original_release_date  \\\n",
       "0                                 Frank Darabont            1994-09-10   \n",
       "1               Francis Ford Coppola, Mario Puzo            1972-03-24   \n",
       "2              Christopher Nolan, Jonathan Nolan            2008-07-18   \n",
       "3               Mario Puzo, Francis Ford Coppola            1974-12-20   \n",
       "4                                Steven Zaillian            1993-12-15   \n",
       "..                                           ...                   ...   \n",
       "69   Ales Adamovich, Elem Klimov, Ales Adamovich            1985-10-17   \n",
       "70            Herman J. Mankiewicz, Orson Welles            1941-05-01   \n",
       "71                   Robert Bolt, Michael Wilson            1962-12-16   \n",
       "72                                 Ernest Lehman            1959-09-17   \n",
       "73  Samuel W. Taylor, Samuel Taylor, Alec Coppel            1958-01-01   \n",
       "\n",
       "    runtime               production_company tomatometer_status  \\\n",
       "0     142.0                Columbia Pictures    Certified-Fresh   \n",
       "1     177.0               Paramount Pictures    Certified-Fresh   \n",
       "2     152.0  Warner Bros. Pictures/Legendary    Certified-Fresh   \n",
       "3     200.0               Paramount Pictures    Certified-Fresh   \n",
       "4     195.0               Universal Pictures    Certified-Fresh   \n",
       "..      ...                              ...                ...   \n",
       "69    142.0               Kino International              Fresh   \n",
       "70    119.0               RKO Radio Pictures    Certified-Fresh   \n",
       "71    216.0                Columbia Pictures    Certified-Fresh   \n",
       "72    136.0             Turner Entertainment    Certified-Fresh   \n",
       "73    128.0               Paramount Pictures    Certified-Fresh   \n",
       "\n",
       "    tomatometer_rating  tomatometer_count  audience_rating  audience_count  \\\n",
       "0                 91.0               75.0             98.0        886485.0   \n",
       "1                 98.0               99.0             98.0        733939.0   \n",
       "2                 94.0              340.0             94.0       1831566.0   \n",
       "3                 98.0               83.0             97.0        411461.0   \n",
       "4                 97.0              100.0             97.0        411608.0   \n",
       "..                 ...                ...              ...             ...   \n",
       "69                97.0               34.0             95.0          8575.0   \n",
       "70               100.0               93.0             90.0        159199.0   \n",
       "71                98.0               88.0             93.0         75122.0   \n",
       "72                99.0               78.0             94.0         79771.0   \n",
       "73                94.0               81.0             93.0        102556.0   \n",
       "\n",
       "    tomatometer_top_critics_count  tomatometer_fresh_critics_count  \\\n",
       "0                              19                               68   \n",
       "1                              24                               97   \n",
       "2                              63                              320   \n",
       "3                              17                               81   \n",
       "4                              24                               97   \n",
       "..                            ...                              ...   \n",
       "69                              7                               33   \n",
       "70                             23                               93   \n",
       "71                             23                               86   \n",
       "72                             18                               77   \n",
       "73                             22                               76   \n",
       "\n",
       "    tomatometer_rotten_critics_count  \n",
       "0                                  7  \n",
       "1                                  2  \n",
       "2                                 20  \n",
       "3                                  2  \n",
       "4                                  3  \n",
       "..                               ...  \n",
       "69                                 1  \n",
       "70                                 0  \n",
       "71                                 2  \n",
       "72                                 1  \n",
       "73                                 5  \n",
       "\n",
       "[74 rows x 20 columns]"
      ]
     },
     "execution_count": 40,
     "metadata": {},
     "output_type": "execute_result"
    }
   ],
   "source": [
    "full_table = pd.merge(imbd_table,rotten_tomatoes,how=\"inner\",on=[\"movie_title\",\"year\"])\n",
    "full_table"
   ]
  },
  {
   "cell_type": "code",
   "execution_count": 41,
   "metadata": {},
   "outputs": [
    {
     "data": {
      "text/html": [
       "<div>\n",
       "<style scoped>\n",
       "    .dataframe tbody tr th:only-of-type {\n",
       "        vertical-align: middle;\n",
       "    }\n",
       "\n",
       "    .dataframe tbody tr th {\n",
       "        vertical-align: top;\n",
       "    }\n",
       "\n",
       "    .dataframe thead th {\n",
       "        text-align: right;\n",
       "    }\n",
       "</style>\n",
       "<table border=\"1\" class=\"dataframe\">\n",
       "  <thead>\n",
       "    <tr style=\"text-align: right;\">\n",
       "      <th></th>\n",
       "      <th>index</th>\n",
       "      <th>imbd_rating</th>\n",
       "    </tr>\n",
       "  </thead>\n",
       "  <tbody>\n",
       "    <tr>\n",
       "      <th>0</th>\n",
       "      <td>nulls_%</td>\n",
       "      <td>0.000000</td>\n",
       "    </tr>\n",
       "    <tr>\n",
       "      <th>0</th>\n",
       "      <td>count</td>\n",
       "      <td>74.000000</td>\n",
       "    </tr>\n",
       "    <tr>\n",
       "      <th>1</th>\n",
       "      <td>mean</td>\n",
       "      <td>8.535135</td>\n",
       "    </tr>\n",
       "    <tr>\n",
       "      <th>2</th>\n",
       "      <td>std</td>\n",
       "      <td>0.224788</td>\n",
       "    </tr>\n",
       "    <tr>\n",
       "      <th>3</th>\n",
       "      <td>min</td>\n",
       "      <td>8.300000</td>\n",
       "    </tr>\n",
       "    <tr>\n",
       "      <th>4</th>\n",
       "      <td>25%</td>\n",
       "      <td>8.400000</td>\n",
       "    </tr>\n",
       "    <tr>\n",
       "      <th>5</th>\n",
       "      <td>50%</td>\n",
       "      <td>8.500000</td>\n",
       "    </tr>\n",
       "    <tr>\n",
       "      <th>6</th>\n",
       "      <td>75%</td>\n",
       "      <td>8.600000</td>\n",
       "    </tr>\n",
       "    <tr>\n",
       "      <th>7</th>\n",
       "      <td>max</td>\n",
       "      <td>9.300000</td>\n",
       "    </tr>\n",
       "  </tbody>\n",
       "</table>\n",
       "</div>"
      ],
      "text/plain": [
       "     index  imbd_rating\n",
       "0  nulls_%     0.000000\n",
       "0    count    74.000000\n",
       "1     mean     8.535135\n",
       "2      std     0.224788\n",
       "3      min     8.300000\n",
       "4      25%     8.400000\n",
       "5      50%     8.500000\n",
       "6      75%     8.600000\n",
       "7      max     9.300000"
      ]
     },
     "execution_count": 41,
     "metadata": {},
     "output_type": "execute_result"
    }
   ],
   "source": [
    "\n",
    "\n",
    "imbd_rating_desc = full_table[\"imbd_rating\"].describe().reset_index()\n",
    "\n",
    "\n",
    "nulls = pd.DataFrame({\"index\":[\"nulls_%\"],\"imbd_rating\":[full_table[\"imbd_rating\"].isnull().sum()/full_table[\"imbd_rating\"].count()\n",
    "]})\n",
    "\n",
    "pd.concat([nulls,imbd_rating_desc])\n"
   ]
  },
  {
   "cell_type": "code",
   "execution_count": 42,
   "metadata": {},
   "outputs": [
    {
     "data": {
      "text/html": [
       "<div>\n",
       "<style scoped>\n",
       "    .dataframe tbody tr th:only-of-type {\n",
       "        vertical-align: middle;\n",
       "    }\n",
       "\n",
       "    .dataframe tbody tr th {\n",
       "        vertical-align: top;\n",
       "    }\n",
       "\n",
       "    .dataframe thead th {\n",
       "        text-align: right;\n",
       "    }\n",
       "</style>\n",
       "<table border=\"1\" class=\"dataframe\">\n",
       "  <thead>\n",
       "    <tr style=\"text-align: right;\">\n",
       "      <th></th>\n",
       "      <th>imbd_rating</th>\n",
       "      <th>imbd_votecount</th>\n",
       "      <th>runtime</th>\n",
       "      <th>tomatometer_rating</th>\n",
       "      <th>tomatometer_count</th>\n",
       "      <th>audience_rating</th>\n",
       "      <th>audience_count</th>\n",
       "      <th>tomatometer_top_critics_count</th>\n",
       "      <th>tomatometer_fresh_critics_count</th>\n",
       "      <th>tomatometer_rotten_critics_count</th>\n",
       "    </tr>\n",
       "  </thead>\n",
       "  <tbody>\n",
       "    <tr>\n",
       "      <th>count</th>\n",
       "      <td>74.000000</td>\n",
       "      <td>7.400000e+01</td>\n",
       "      <td>74.000000</td>\n",
       "      <td>74.000000</td>\n",
       "      <td>74.000000</td>\n",
       "      <td>74.000000</td>\n",
       "      <td>7.400000e+01</td>\n",
       "      <td>74.000000</td>\n",
       "      <td>74.000000</td>\n",
       "      <td>74.000000</td>\n",
       "    </tr>\n",
       "    <tr>\n",
       "      <th>mean</th>\n",
       "      <td>8.535135</td>\n",
       "      <td>1.069851e+06</td>\n",
       "      <td>136.756757</td>\n",
       "      <td>91.716216</td>\n",
       "      <td>165.716216</td>\n",
       "      <td>93.418919</td>\n",
       "      <td>2.278172e+06</td>\n",
       "      <td>33.351351</td>\n",
       "      <td>149.094595</td>\n",
       "      <td>16.662162</td>\n",
       "    </tr>\n",
       "    <tr>\n",
       "      <th>std</th>\n",
       "      <td>0.224788</td>\n",
       "      <td>6.124042e+05</td>\n",
       "      <td>29.760142</td>\n",
       "      <td>7.611311</td>\n",
       "      <td>126.499285</td>\n",
       "      <td>3.025041</td>\n",
       "      <td>7.578353e+06</td>\n",
       "      <td>17.390308</td>\n",
       "      <td>110.445817</td>\n",
       "      <td>26.432793</td>\n",
       "    </tr>\n",
       "    <tr>\n",
       "      <th>min</th>\n",
       "      <td>8.300000</td>\n",
       "      <td>4.625200e+04</td>\n",
       "      <td>80.000000</td>\n",
       "      <td>68.000000</td>\n",
       "      <td>13.000000</td>\n",
       "      <td>85.000000</td>\n",
       "      <td>7.274000e+03</td>\n",
       "      <td>3.000000</td>\n",
       "      <td>13.000000</td>\n",
       "      <td>0.000000</td>\n",
       "    </tr>\n",
       "    <tr>\n",
       "      <th>25%</th>\n",
       "      <td>8.400000</td>\n",
       "      <td>5.480735e+05</td>\n",
       "      <td>116.250000</td>\n",
       "      <td>88.250000</td>\n",
       "      <td>81.250000</td>\n",
       "      <td>93.000000</td>\n",
       "      <td>1.146230e+05</td>\n",
       "      <td>21.250000</td>\n",
       "      <td>75.250000</td>\n",
       "      <td>2.000000</td>\n",
       "    </tr>\n",
       "    <tr>\n",
       "      <th>50%</th>\n",
       "      <td>8.500000</td>\n",
       "      <td>1.052229e+06</td>\n",
       "      <td>136.000000</td>\n",
       "      <td>94.000000</td>\n",
       "      <td>101.500000</td>\n",
       "      <td>94.000000</td>\n",
       "      <td>4.294315e+05</td>\n",
       "      <td>28.000000</td>\n",
       "      <td>97.000000</td>\n",
       "      <td>8.000000</td>\n",
       "    </tr>\n",
       "    <tr>\n",
       "      <th>75%</th>\n",
       "      <td>8.600000</td>\n",
       "      <td>1.370373e+06</td>\n",
       "      <td>153.000000</td>\n",
       "      <td>97.000000</td>\n",
       "      <td>243.500000</td>\n",
       "      <td>95.000000</td>\n",
       "      <td>8.387148e+05</td>\n",
       "      <td>48.750000</td>\n",
       "      <td>225.000000</td>\n",
       "      <td>19.000000</td>\n",
       "    </tr>\n",
       "    <tr>\n",
       "      <th>max</th>\n",
       "      <td>9.300000</td>\n",
       "      <td>2.695887e+06</td>\n",
       "      <td>216.000000</td>\n",
       "      <td>100.000000</td>\n",
       "      <td>574.000000</td>\n",
       "      <td>98.000000</td>\n",
       "      <td>3.467977e+07</td>\n",
       "      <td>67.000000</td>\n",
       "      <td>495.000000</td>\n",
       "      <td>182.000000</td>\n",
       "    </tr>\n",
       "  </tbody>\n",
       "</table>\n",
       "</div>"
      ],
      "text/plain": [
       "       imbd_rating  imbd_votecount     runtime  tomatometer_rating  \\\n",
       "count    74.000000    7.400000e+01   74.000000           74.000000   \n",
       "mean      8.535135    1.069851e+06  136.756757           91.716216   \n",
       "std       0.224788    6.124042e+05   29.760142            7.611311   \n",
       "min       8.300000    4.625200e+04   80.000000           68.000000   \n",
       "25%       8.400000    5.480735e+05  116.250000           88.250000   \n",
       "50%       8.500000    1.052229e+06  136.000000           94.000000   \n",
       "75%       8.600000    1.370373e+06  153.000000           97.000000   \n",
       "max       9.300000    2.695887e+06  216.000000          100.000000   \n",
       "\n",
       "       tomatometer_count  audience_rating  audience_count  \\\n",
       "count          74.000000        74.000000    7.400000e+01   \n",
       "mean          165.716216        93.418919    2.278172e+06   \n",
       "std           126.499285         3.025041    7.578353e+06   \n",
       "min            13.000000        85.000000    7.274000e+03   \n",
       "25%            81.250000        93.000000    1.146230e+05   \n",
       "50%           101.500000        94.000000    4.294315e+05   \n",
       "75%           243.500000        95.000000    8.387148e+05   \n",
       "max           574.000000        98.000000    3.467977e+07   \n",
       "\n",
       "       tomatometer_top_critics_count  tomatometer_fresh_critics_count  \\\n",
       "count                      74.000000                        74.000000   \n",
       "mean                       33.351351                       149.094595   \n",
       "std                        17.390308                       110.445817   \n",
       "min                         3.000000                        13.000000   \n",
       "25%                        21.250000                        75.250000   \n",
       "50%                        28.000000                        97.000000   \n",
       "75%                        48.750000                       225.000000   \n",
       "max                        67.000000                       495.000000   \n",
       "\n",
       "       tomatometer_rotten_critics_count  \n",
       "count                         74.000000  \n",
       "mean                          16.662162  \n",
       "std                           26.432793  \n",
       "min                            0.000000  \n",
       "25%                            2.000000  \n",
       "50%                            8.000000  \n",
       "75%                           19.000000  \n",
       "max                          182.000000  "
      ]
     },
     "execution_count": 42,
     "metadata": {},
     "output_type": "execute_result"
    }
   ],
   "source": [
    "full_table.describe()"
   ]
  },
  {
   "cell_type": "code",
   "execution_count": 43,
   "metadata": {},
   "outputs": [
    {
     "data": {
      "text/plain": [
       "imbd_rating                         0.0\n",
       "imbd_votecount                      0.0\n",
       "runtime                             0.0\n",
       "tomatometer_rating                  0.0\n",
       "tomatometer_count                   0.0\n",
       "audience_rating                     0.0\n",
       "audience_count                      0.0\n",
       "tomatometer_top_critics_count       0.0\n",
       "tomatometer_fresh_critics_count     0.0\n",
       "tomatometer_rotten_critics_count    0.0\n",
       "dtype: float64"
      ]
     },
     "execution_count": 43,
     "metadata": {},
     "output_type": "execute_result"
    }
   ],
   "source": [
    "#nulls for only numerical values\n",
    "null_perc = full_table[full_table.describe().columns].isnull().sum()/(full_table.shape[0])\n",
    "null_perc\n"
   ]
  },
  {
   "cell_type": "code",
   "execution_count": 44,
   "metadata": {},
   "outputs": [
    {
     "data": {
      "text/html": [
       "<div>\n",
       "<style scoped>\n",
       "    .dataframe tbody tr th:only-of-type {\n",
       "        vertical-align: middle;\n",
       "    }\n",
       "\n",
       "    .dataframe tbody tr th {\n",
       "        vertical-align: top;\n",
       "    }\n",
       "\n",
       "    .dataframe thead th {\n",
       "        text-align: right;\n",
       "    }\n",
       "</style>\n",
       "<table border=\"1\" class=\"dataframe\">\n",
       "  <thead>\n",
       "    <tr style=\"text-align: right;\">\n",
       "      <th></th>\n",
       "      <th>null_percentage</th>\n",
       "    </tr>\n",
       "  </thead>\n",
       "  <tbody>\n",
       "    <tr>\n",
       "      <th>imbd_rating</th>\n",
       "      <td>0.0</td>\n",
       "    </tr>\n",
       "    <tr>\n",
       "      <th>imbd_votecount</th>\n",
       "      <td>0.0</td>\n",
       "    </tr>\n",
       "    <tr>\n",
       "      <th>imbd_title</th>\n",
       "      <td>0.0</td>\n",
       "    </tr>\n",
       "    <tr>\n",
       "      <th>year</th>\n",
       "      <td>0.0</td>\n",
       "    </tr>\n",
       "    <tr>\n",
       "      <th>movie_title</th>\n",
       "      <td>0.0</td>\n",
       "    </tr>\n",
       "    <tr>\n",
       "      <th>content_rating</th>\n",
       "      <td>0.0</td>\n",
       "    </tr>\n",
       "    <tr>\n",
       "      <th>genres</th>\n",
       "      <td>0.0</td>\n",
       "    </tr>\n",
       "    <tr>\n",
       "      <th>directors</th>\n",
       "      <td>0.0</td>\n",
       "    </tr>\n",
       "    <tr>\n",
       "      <th>authors</th>\n",
       "      <td>0.0</td>\n",
       "    </tr>\n",
       "    <tr>\n",
       "      <th>original_release_date</th>\n",
       "      <td>0.0</td>\n",
       "    </tr>\n",
       "    <tr>\n",
       "      <th>runtime</th>\n",
       "      <td>0.0</td>\n",
       "    </tr>\n",
       "    <tr>\n",
       "      <th>production_company</th>\n",
       "      <td>0.0</td>\n",
       "    </tr>\n",
       "    <tr>\n",
       "      <th>tomatometer_status</th>\n",
       "      <td>0.0</td>\n",
       "    </tr>\n",
       "    <tr>\n",
       "      <th>tomatometer_rating</th>\n",
       "      <td>0.0</td>\n",
       "    </tr>\n",
       "    <tr>\n",
       "      <th>tomatometer_count</th>\n",
       "      <td>0.0</td>\n",
       "    </tr>\n",
       "    <tr>\n",
       "      <th>audience_rating</th>\n",
       "      <td>0.0</td>\n",
       "    </tr>\n",
       "    <tr>\n",
       "      <th>audience_count</th>\n",
       "      <td>0.0</td>\n",
       "    </tr>\n",
       "    <tr>\n",
       "      <th>tomatometer_top_critics_count</th>\n",
       "      <td>0.0</td>\n",
       "    </tr>\n",
       "    <tr>\n",
       "      <th>tomatometer_fresh_critics_count</th>\n",
       "      <td>0.0</td>\n",
       "    </tr>\n",
       "    <tr>\n",
       "      <th>tomatometer_rotten_critics_count</th>\n",
       "      <td>0.0</td>\n",
       "    </tr>\n",
       "  </tbody>\n",
       "</table>\n",
       "</div>"
      ],
      "text/plain": [
       "                                  null_percentage\n",
       "imbd_rating                                   0.0\n",
       "imbd_votecount                                0.0\n",
       "imbd_title                                    0.0\n",
       "year                                          0.0\n",
       "movie_title                                   0.0\n",
       "content_rating                                0.0\n",
       "genres                                        0.0\n",
       "directors                                     0.0\n",
       "authors                                       0.0\n",
       "original_release_date                         0.0\n",
       "runtime                                       0.0\n",
       "production_company                            0.0\n",
       "tomatometer_status                            0.0\n",
       "tomatometer_rating                            0.0\n",
       "tomatometer_count                             0.0\n",
       "audience_rating                               0.0\n",
       "audience_count                                0.0\n",
       "tomatometer_top_critics_count                 0.0\n",
       "tomatometer_fresh_critics_count               0.0\n",
       "tomatometer_rotten_critics_count              0.0"
      ]
     },
     "execution_count": 44,
     "metadata": {},
     "output_type": "execute_result"
    }
   ],
   "source": [
    "#nulls for all\n",
    "null_perc = full_table.isnull().sum()/(full_table.shape[0])\n",
    "pd.DataFrame(null_perc, columns=[\"null_percentage\"])"
   ]
  },
  {
   "cell_type": "code",
   "execution_count": 45,
   "metadata": {},
   "outputs": [
    {
     "name": "stdout",
     "output_type": "stream",
     "text": [
      "<class 'pandas.core.frame.DataFrame'>\n",
      "Int64Index: 74 entries, 0 to 73\n",
      "Data columns (total 20 columns):\n",
      " #   Column                            Non-Null Count  Dtype  \n",
      "---  ------                            --------------  -----  \n",
      " 0   imbd_rating                       74 non-null     float64\n",
      " 1   imbd_votecount                    74 non-null     int64  \n",
      " 2   imbd_title                        74 non-null     object \n",
      " 3   year                              74 non-null     object \n",
      " 4   movie_title                       74 non-null     object \n",
      " 5   content_rating                    74 non-null     object \n",
      " 6   genres                            74 non-null     object \n",
      " 7   directors                         74 non-null     object \n",
      " 8   authors                           74 non-null     object \n",
      " 9   original_release_date             74 non-null     object \n",
      " 10  runtime                           74 non-null     float64\n",
      " 11  production_company                74 non-null     object \n",
      " 12  tomatometer_status                74 non-null     object \n",
      " 13  tomatometer_rating                74 non-null     float64\n",
      " 14  tomatometer_count                 74 non-null     float64\n",
      " 15  audience_rating                   74 non-null     float64\n",
      " 16  audience_count                    74 non-null     float64\n",
      " 17  tomatometer_top_critics_count     74 non-null     int64  \n",
      " 18  tomatometer_fresh_critics_count   74 non-null     int64  \n",
      " 19  tomatometer_rotten_critics_count  74 non-null     int64  \n",
      "dtypes: float64(6), int64(4), object(10)\n",
      "memory usage: 12.1+ KB\n"
     ]
    },
    {
     "data": {
      "text/plain": [
       "NoneType"
      ]
     },
     "execution_count": 45,
     "metadata": {},
     "output_type": "execute_result"
    }
   ],
   "source": [
    "type(full_table.info(show_counts=True))"
   ]
  },
  {
   "cell_type": "code",
   "execution_count": 46,
   "metadata": {},
   "outputs": [
    {
     "ename": "NameError",
     "evalue": "name 'numerical_var' is not defined",
     "output_type": "error",
     "traceback": [
      "\u001b[1;31m---------------------------------------------------------------------------\u001b[0m",
      "\u001b[1;31mNameError\u001b[0m                                 Traceback (most recent call last)",
      "\u001b[1;32mc:\\Users\\Sofia\\Desktop\\IRONHACK_bootcamp\\data_scraping_project\\notebook.ipynb Cell 20\u001b[0m in \u001b[0;36m<cell line: 1>\u001b[1;34m()\u001b[0m\n\u001b[1;32m----> <a href='vscode-notebook-cell:/c%3A/Users/Sofia/Desktop/IRONHACK_bootcamp/data_scraping_project/notebook.ipynb#Y100sZmlsZQ%3D%3D?line=0'>1</a>\u001b[0m \u001b[39mfor\u001b[39;00m i \u001b[39min\u001b[39;00m numerical_var:\n\u001b[0;32m      <a href='vscode-notebook-cell:/c%3A/Users/Sofia/Desktop/IRONHACK_bootcamp/data_scraping_project/notebook.ipynb#Y100sZmlsZQ%3D%3D?line=1'>2</a>\u001b[0m     nulls \u001b[39m=\u001b[39m pd\u001b[39m.\u001b[39mDataFrame({\u001b[39m\"\u001b[39m\u001b[39mindex\u001b[39m\u001b[39m\"\u001b[39m:[\u001b[39m\"\u001b[39m\u001b[39mnulls_\u001b[39m\u001b[39m%\u001b[39m\u001b[39m\"\u001b[39m],i:[full_table[i]\u001b[39m.\u001b[39misnull()\u001b[39m.\u001b[39msum()\u001b[39m/\u001b[39mfull_table[i]\u001b[39m.\u001b[39mcount()]})\n\u001b[0;32m      <a href='vscode-notebook-cell:/c%3A/Users/Sofia/Desktop/IRONHACK_bootcamp/data_scraping_project/notebook.ipynb#Y100sZmlsZQ%3D%3D?line=2'>3</a>\u001b[0m     pd\u001b[39m.\u001b[39mconcat([nulls,imbd_rating_desc])\n",
      "\u001b[1;31mNameError\u001b[0m: name 'numerical_var' is not defined"
     ]
    }
   ],
   "source": [
    "\n",
    "\n",
    "for i in numerical_var:\n",
    "    nulls = pd.DataFrame({\"index\":[\"nulls_%\"],i:[full_table[i].isnull().sum()/full_table[i].count()]})\n",
    "    pd.concat([nulls,imbd_rating_desc])"
   ]
  },
  {
   "cell_type": "code",
   "execution_count": null,
   "metadata": {},
   "outputs": [],
   "source": [
    "full_table[\"imbd_rating\"] = full_table[\"imbd_rating\"]*10"
   ]
  },
  {
   "attachments": {},
   "cell_type": "markdown",
   "metadata": {},
   "source": [
    "sns.scatterplot(data=df, x=\"x_var\", y=\"y_var\")"
   ]
  },
  {
   "cell_type": "code",
   "execution_count": null,
   "metadata": {},
   "outputs": [
    {
     "data": {
      "application/vnd.plotly.v1+json": {
       "config": {
        "plotlyServerURL": "https://plot.ly"
       },
       "data": [
        {
         "hovertemplate": "<b>%{hovertext}</b><br><br>tomatometer_rating=%{x}<br>imbd_rating=%{y}<br>imbd_votecount=%{marker.color}<extra></extra>",
         "hovertext": [
          "The Shawshank Redemption",
          "The Godfather",
          "The Dark Knight",
          "The Godfather: Part II",
          "Schindler's List",
          "The Lord of the Rings: The Return of the King",
          "Pulp Fiction",
          "The Lord of the Rings: The Fellowship of the Ring",
          "The Good, the Bad and the Ugly",
          "Forrest Gump",
          "Fight Club",
          "The Lord of the Rings: The Two Towers",
          "Inception",
          "Star Wars: Episode V - The Empire Strikes Back",
          "The Matrix",
          "Goodfellas",
          "One Flew Over the Cuckoo's Nest",
          "It's a Wonderful Life",
          "The Silence of the Lambs",
          "Saving Private Ryan",
          "Interstellar",
          "The Green Mile",
          "Star Wars: Episode IV - A New Hope",
          "Terminator 2: Judgment Day",
          "The Pianist",
          "Psycho",
          "Gisaengchung",
          "The Lion King",
          "Gladiator",
          "American History X",
          "The Departed",
          "The Usual Suspects",
          "The Prestige",
          "Whiplash",
          "Casablanca",
          "Modern Times",
          "Rear Window",
          "Nuovo Cinema Paradiso",
          "Alien",
          "City Lights",
          "Apocalypse Now",
          "Memento",
          "Django Unchained",
          "WALL·E",
          "Sunset Boulevard",
          "The Shining",
          "Avengers: Infinity War",
          "Witness for the Prosecution",
          "Aliens",
          "Spider-Man: Een nieuw universum",
          "American Beauty",
          "Dr. Strangelove or: How I Learned to Stop Worrying and Love the Bomb",
          "The Dark Knight Rises",
          "Inglourious Basterds",
          "Amadeus",
          "Coco",
          "Toy Story",
          "Joker",
          "Braveheart",
          "Avengers: Endgame",
          "Once Upon a Time in America",
          "Good Will Hunting",
          "Requiem for a Dream",
          "3 Idiots",
          "Toy Story 3",
          "Tengoku to jigoku",
          "Star Wars: Episode VI - Return of the Jedi",
          "Eternal Sunshine of the Spotless Mind",
          "Reservoir Dogs",
          "Idi i smotri",
          "Citizen Kane",
          "Lawrence of Arabia",
          "North by Northwest",
          "Vertigo"
         ],
         "legendgroup": "",
         "marker": {
          "color": [
           2692111,
           1867802,
           2665878,
           1277300,
           1361513,
           1854655,
           2066160,
           1884238,
           765691,
           2090501,
           2137616,
           1674788,
           2364741,
           1298657,
           1921950,
           1168088,
           1012417,
           465836,
           1439892,
           1398411,
           1847070,
           1308910,
           1371107,
           1104968,
           837695,
           676078,
           814305,
           1064436,
           1508210,
           1127875,
           1332024,
           1090359,
           1340365,
           871629,
           575293,
           244811,
           495084,
           263742,
           888272,
           186471,
           671883,
           1244667,
           1564217,
           1122189,
           224072,
           1028933,
           1089463,
           127323,
           722368,
           537009,
           1159806,
           494297,
           1713034,
           1459008,
           404283,
           515128,
           999641,
           1300438,
           1042586,
           1140721,
           355055,
           979286,
           847780,
           403722,
           841176,
           46135,
           1059668,
           1013992,
           1024741,
           82167,
           445237,
           296612,
           330929,
           405508
          ],
          "coloraxis": "coloraxis",
          "line": {
           "color": "white",
           "width": 0.0001
          },
          "size": 14,
          "symbol": "circle"
         },
         "mode": "markers",
         "name": "",
         "orientation": "v",
         "showlegend": false,
         "type": "scatter",
         "x": [
          91,
          98,
          94,
          98,
          97,
          93,
          92,
          91,
          97,
          71,
          79,
          95,
          87,
          94,
          88,
          96,
          94,
          94,
          96,
          93,
          72,
          78,
          92,
          93,
          95,
          96,
          99,
          93,
          77,
          83,
          91,
          89,
          76,
          94,
          99,
          100,
          99,
          90,
          98,
          98,
          98,
          93,
          87,
          95,
          99,
          84,
          85,
          100,
          97,
          97,
          87,
          98,
          87,
          89,
          93,
          97,
          100,
          68,
          78,
          94,
          87,
          97,
          79,
          100,
          98,
          95,
          82,
          93,
          92,
          97,
          100,
          98,
          99,
          94
         ],
         "xaxis": "x",
         "y": [
          93,
          92,
          90,
          90,
          90,
          90,
          89,
          88,
          88,
          88,
          88,
          88,
          88,
          87,
          87,
          87,
          87,
          86,
          86,
          86,
          86,
          86,
          86,
          86,
          85,
          85,
          85,
          85,
          85,
          85,
          85,
          85,
          85,
          85,
          85,
          85,
          85,
          85,
          85,
          85,
          85,
          84,
          84,
          84,
          84,
          84,
          84,
          84,
          84,
          84,
          84,
          84,
          84,
          83,
          84,
          84,
          83,
          84,
          84,
          84,
          83,
          83,
          83,
          84,
          83,
          84,
          83,
          83,
          83,
          84,
          83,
          83,
          83,
          83
         ],
         "yaxis": "y"
        },
        {
         "alignmentgroup": "True",
         "bingroup": "x",
         "hovertemplate": "tomatometer_rating=%{x}<br>count=%{y}<extra></extra>",
         "legendgroup": "",
         "marker": {
          "color": "#0d0887"
         },
         "name": "",
         "offsetgroup": "",
         "opacity": 0.5,
         "showlegend": false,
         "type": "histogram",
         "x": [
          91,
          98,
          94,
          98,
          97,
          93,
          92,
          91,
          97,
          71,
          79,
          95,
          87,
          94,
          88,
          96,
          94,
          94,
          96,
          93,
          72,
          78,
          92,
          93,
          95,
          96,
          99,
          93,
          77,
          83,
          91,
          89,
          76,
          94,
          99,
          100,
          99,
          90,
          98,
          98,
          98,
          93,
          87,
          95,
          99,
          84,
          85,
          100,
          97,
          97,
          87,
          98,
          87,
          89,
          93,
          97,
          100,
          68,
          78,
          94,
          87,
          97,
          79,
          100,
          98,
          95,
          82,
          93,
          92,
          97,
          100,
          98,
          99,
          94
         ],
         "xaxis": "x3",
         "yaxis": "y3"
        },
        {
         "alignmentgroup": "True",
         "bingroup": "y",
         "hovertemplate": "imbd_rating=%{y}<br>count=%{x}<extra></extra>",
         "legendgroup": "",
         "marker": {
          "color": "#0d0887"
         },
         "name": "",
         "offsetgroup": "",
         "opacity": 0.5,
         "showlegend": false,
         "type": "histogram",
         "xaxis": "x2",
         "y": [
          93,
          92,
          90,
          90,
          90,
          90,
          89,
          88,
          88,
          88,
          88,
          88,
          88,
          87,
          87,
          87,
          87,
          86,
          86,
          86,
          86,
          86,
          86,
          86,
          85,
          85,
          85,
          85,
          85,
          85,
          85,
          85,
          85,
          85,
          85,
          85,
          85,
          85,
          85,
          85,
          85,
          84,
          84,
          84,
          84,
          84,
          84,
          84,
          84,
          84,
          84,
          84,
          84,
          83,
          84,
          84,
          83,
          84,
          84,
          84,
          83,
          83,
          83,
          84,
          83,
          84,
          83,
          83,
          83,
          84,
          83,
          83,
          83,
          83
         ],
         "yaxis": "y2"
        }
       ],
       "layout": {
        "barmode": "overlay",
        "coloraxis": {
         "colorbar": {
          "title": {
           "text": "imbd_votecount"
          }
         },
         "colorscale": [
          [
           0,
           "#0d0887"
          ],
          [
           0.1111111111111111,
           "#46039f"
          ],
          [
           0.2222222222222222,
           "#7201a8"
          ],
          [
           0.3333333333333333,
           "#9c179e"
          ],
          [
           0.4444444444444444,
           "#bd3786"
          ],
          [
           0.5555555555555556,
           "#d8576b"
          ],
          [
           0.6666666666666666,
           "#ed7953"
          ],
          [
           0.7777777777777778,
           "#fb9f3a"
          ],
          [
           0.8888888888888888,
           "#fdca26"
          ],
          [
           1,
           "#f0f921"
          ]
         ]
        },
        "height": 1000,
        "legend": {
         "tracegroupgap": 0
        },
        "template": {
         "data": {
          "bar": [
           {
            "error_x": {
             "color": "#2a3f5f"
            },
            "error_y": {
             "color": "#2a3f5f"
            },
            "marker": {
             "line": {
              "color": "#E5ECF6",
              "width": 0.5
             },
             "pattern": {
              "fillmode": "overlay",
              "size": 10,
              "solidity": 0.2
             }
            },
            "type": "bar"
           }
          ],
          "barpolar": [
           {
            "marker": {
             "line": {
              "color": "#E5ECF6",
              "width": 0.5
             },
             "pattern": {
              "fillmode": "overlay",
              "size": 10,
              "solidity": 0.2
             }
            },
            "type": "barpolar"
           }
          ],
          "carpet": [
           {
            "aaxis": {
             "endlinecolor": "#2a3f5f",
             "gridcolor": "white",
             "linecolor": "white",
             "minorgridcolor": "white",
             "startlinecolor": "#2a3f5f"
            },
            "baxis": {
             "endlinecolor": "#2a3f5f",
             "gridcolor": "white",
             "linecolor": "white",
             "minorgridcolor": "white",
             "startlinecolor": "#2a3f5f"
            },
            "type": "carpet"
           }
          ],
          "choropleth": [
           {
            "colorbar": {
             "outlinewidth": 0,
             "ticks": ""
            },
            "type": "choropleth"
           }
          ],
          "contour": [
           {
            "colorbar": {
             "outlinewidth": 0,
             "ticks": ""
            },
            "colorscale": [
             [
              0,
              "#0d0887"
             ],
             [
              0.1111111111111111,
              "#46039f"
             ],
             [
              0.2222222222222222,
              "#7201a8"
             ],
             [
              0.3333333333333333,
              "#9c179e"
             ],
             [
              0.4444444444444444,
              "#bd3786"
             ],
             [
              0.5555555555555556,
              "#d8576b"
             ],
             [
              0.6666666666666666,
              "#ed7953"
             ],
             [
              0.7777777777777778,
              "#fb9f3a"
             ],
             [
              0.8888888888888888,
              "#fdca26"
             ],
             [
              1,
              "#f0f921"
             ]
            ],
            "type": "contour"
           }
          ],
          "contourcarpet": [
           {
            "colorbar": {
             "outlinewidth": 0,
             "ticks": ""
            },
            "type": "contourcarpet"
           }
          ],
          "heatmap": [
           {
            "colorbar": {
             "outlinewidth": 0,
             "ticks": ""
            },
            "colorscale": [
             [
              0,
              "#0d0887"
             ],
             [
              0.1111111111111111,
              "#46039f"
             ],
             [
              0.2222222222222222,
              "#7201a8"
             ],
             [
              0.3333333333333333,
              "#9c179e"
             ],
             [
              0.4444444444444444,
              "#bd3786"
             ],
             [
              0.5555555555555556,
              "#d8576b"
             ],
             [
              0.6666666666666666,
              "#ed7953"
             ],
             [
              0.7777777777777778,
              "#fb9f3a"
             ],
             [
              0.8888888888888888,
              "#fdca26"
             ],
             [
              1,
              "#f0f921"
             ]
            ],
            "type": "heatmap"
           }
          ],
          "heatmapgl": [
           {
            "colorbar": {
             "outlinewidth": 0,
             "ticks": ""
            },
            "colorscale": [
             [
              0,
              "#0d0887"
             ],
             [
              0.1111111111111111,
              "#46039f"
             ],
             [
              0.2222222222222222,
              "#7201a8"
             ],
             [
              0.3333333333333333,
              "#9c179e"
             ],
             [
              0.4444444444444444,
              "#bd3786"
             ],
             [
              0.5555555555555556,
              "#d8576b"
             ],
             [
              0.6666666666666666,
              "#ed7953"
             ],
             [
              0.7777777777777778,
              "#fb9f3a"
             ],
             [
              0.8888888888888888,
              "#fdca26"
             ],
             [
              1,
              "#f0f921"
             ]
            ],
            "type": "heatmapgl"
           }
          ],
          "histogram": [
           {
            "marker": {
             "pattern": {
              "fillmode": "overlay",
              "size": 10,
              "solidity": 0.2
             }
            },
            "type": "histogram"
           }
          ],
          "histogram2d": [
           {
            "colorbar": {
             "outlinewidth": 0,
             "ticks": ""
            },
            "colorscale": [
             [
              0,
              "#0d0887"
             ],
             [
              0.1111111111111111,
              "#46039f"
             ],
             [
              0.2222222222222222,
              "#7201a8"
             ],
             [
              0.3333333333333333,
              "#9c179e"
             ],
             [
              0.4444444444444444,
              "#bd3786"
             ],
             [
              0.5555555555555556,
              "#d8576b"
             ],
             [
              0.6666666666666666,
              "#ed7953"
             ],
             [
              0.7777777777777778,
              "#fb9f3a"
             ],
             [
              0.8888888888888888,
              "#fdca26"
             ],
             [
              1,
              "#f0f921"
             ]
            ],
            "type": "histogram2d"
           }
          ],
          "histogram2dcontour": [
           {
            "colorbar": {
             "outlinewidth": 0,
             "ticks": ""
            },
            "colorscale": [
             [
              0,
              "#0d0887"
             ],
             [
              0.1111111111111111,
              "#46039f"
             ],
             [
              0.2222222222222222,
              "#7201a8"
             ],
             [
              0.3333333333333333,
              "#9c179e"
             ],
             [
              0.4444444444444444,
              "#bd3786"
             ],
             [
              0.5555555555555556,
              "#d8576b"
             ],
             [
              0.6666666666666666,
              "#ed7953"
             ],
             [
              0.7777777777777778,
              "#fb9f3a"
             ],
             [
              0.8888888888888888,
              "#fdca26"
             ],
             [
              1,
              "#f0f921"
             ]
            ],
            "type": "histogram2dcontour"
           }
          ],
          "mesh3d": [
           {
            "colorbar": {
             "outlinewidth": 0,
             "ticks": ""
            },
            "type": "mesh3d"
           }
          ],
          "parcoords": [
           {
            "line": {
             "colorbar": {
              "outlinewidth": 0,
              "ticks": ""
             }
            },
            "type": "parcoords"
           }
          ],
          "pie": [
           {
            "automargin": true,
            "type": "pie"
           }
          ],
          "scatter": [
           {
            "fillpattern": {
             "fillmode": "overlay",
             "size": 10,
             "solidity": 0.2
            },
            "type": "scatter"
           }
          ],
          "scatter3d": [
           {
            "line": {
             "colorbar": {
              "outlinewidth": 0,
              "ticks": ""
             }
            },
            "marker": {
             "colorbar": {
              "outlinewidth": 0,
              "ticks": ""
             }
            },
            "type": "scatter3d"
           }
          ],
          "scattercarpet": [
           {
            "marker": {
             "colorbar": {
              "outlinewidth": 0,
              "ticks": ""
             }
            },
            "type": "scattercarpet"
           }
          ],
          "scattergeo": [
           {
            "marker": {
             "colorbar": {
              "outlinewidth": 0,
              "ticks": ""
             }
            },
            "type": "scattergeo"
           }
          ],
          "scattergl": [
           {
            "marker": {
             "colorbar": {
              "outlinewidth": 0,
              "ticks": ""
             }
            },
            "type": "scattergl"
           }
          ],
          "scattermapbox": [
           {
            "marker": {
             "colorbar": {
              "outlinewidth": 0,
              "ticks": ""
             }
            },
            "type": "scattermapbox"
           }
          ],
          "scatterpolar": [
           {
            "marker": {
             "colorbar": {
              "outlinewidth": 0,
              "ticks": ""
             }
            },
            "type": "scatterpolar"
           }
          ],
          "scatterpolargl": [
           {
            "marker": {
             "colorbar": {
              "outlinewidth": 0,
              "ticks": ""
             }
            },
            "type": "scatterpolargl"
           }
          ],
          "scatterternary": [
           {
            "marker": {
             "colorbar": {
              "outlinewidth": 0,
              "ticks": ""
             }
            },
            "type": "scatterternary"
           }
          ],
          "surface": [
           {
            "colorbar": {
             "outlinewidth": 0,
             "ticks": ""
            },
            "colorscale": [
             [
              0,
              "#0d0887"
             ],
             [
              0.1111111111111111,
              "#46039f"
             ],
             [
              0.2222222222222222,
              "#7201a8"
             ],
             [
              0.3333333333333333,
              "#9c179e"
             ],
             [
              0.4444444444444444,
              "#bd3786"
             ],
             [
              0.5555555555555556,
              "#d8576b"
             ],
             [
              0.6666666666666666,
              "#ed7953"
             ],
             [
              0.7777777777777778,
              "#fb9f3a"
             ],
             [
              0.8888888888888888,
              "#fdca26"
             ],
             [
              1,
              "#f0f921"
             ]
            ],
            "type": "surface"
           }
          ],
          "table": [
           {
            "cells": {
             "fill": {
              "color": "#EBF0F8"
             },
             "line": {
              "color": "white"
             }
            },
            "header": {
             "fill": {
              "color": "#C8D4E3"
             },
             "line": {
              "color": "white"
             }
            },
            "type": "table"
           }
          ]
         },
         "layout": {
          "annotationdefaults": {
           "arrowcolor": "#2a3f5f",
           "arrowhead": 0,
           "arrowwidth": 1
          },
          "autotypenumbers": "strict",
          "coloraxis": {
           "colorbar": {
            "outlinewidth": 0,
            "ticks": ""
           }
          },
          "colorscale": {
           "diverging": [
            [
             0,
             "#8e0152"
            ],
            [
             0.1,
             "#c51b7d"
            ],
            [
             0.2,
             "#de77ae"
            ],
            [
             0.3,
             "#f1b6da"
            ],
            [
             0.4,
             "#fde0ef"
            ],
            [
             0.5,
             "#f7f7f7"
            ],
            [
             0.6,
             "#e6f5d0"
            ],
            [
             0.7,
             "#b8e186"
            ],
            [
             0.8,
             "#7fbc41"
            ],
            [
             0.9,
             "#4d9221"
            ],
            [
             1,
             "#276419"
            ]
           ],
           "sequential": [
            [
             0,
             "#0d0887"
            ],
            [
             0.1111111111111111,
             "#46039f"
            ],
            [
             0.2222222222222222,
             "#7201a8"
            ],
            [
             0.3333333333333333,
             "#9c179e"
            ],
            [
             0.4444444444444444,
             "#bd3786"
            ],
            [
             0.5555555555555556,
             "#d8576b"
            ],
            [
             0.6666666666666666,
             "#ed7953"
            ],
            [
             0.7777777777777778,
             "#fb9f3a"
            ],
            [
             0.8888888888888888,
             "#fdca26"
            ],
            [
             1,
             "#f0f921"
            ]
           ],
           "sequentialminus": [
            [
             0,
             "#0d0887"
            ],
            [
             0.1111111111111111,
             "#46039f"
            ],
            [
             0.2222222222222222,
             "#7201a8"
            ],
            [
             0.3333333333333333,
             "#9c179e"
            ],
            [
             0.4444444444444444,
             "#bd3786"
            ],
            [
             0.5555555555555556,
             "#d8576b"
            ],
            [
             0.6666666666666666,
             "#ed7953"
            ],
            [
             0.7777777777777778,
             "#fb9f3a"
            ],
            [
             0.8888888888888888,
             "#fdca26"
            ],
            [
             1,
             "#f0f921"
            ]
           ]
          },
          "colorway": [
           "#636efa",
           "#EF553B",
           "#00cc96",
           "#ab63fa",
           "#FFA15A",
           "#19d3f3",
           "#FF6692",
           "#B6E880",
           "#FF97FF",
           "#FECB52"
          ],
          "font": {
           "color": "#2a3f5f"
          },
          "geo": {
           "bgcolor": "white",
           "lakecolor": "white",
           "landcolor": "#E5ECF6",
           "showlakes": true,
           "showland": true,
           "subunitcolor": "white"
          },
          "hoverlabel": {
           "align": "left"
          },
          "hovermode": "closest",
          "mapbox": {
           "style": "light"
          },
          "paper_bgcolor": "white",
          "plot_bgcolor": "#E5ECF6",
          "polar": {
           "angularaxis": {
            "gridcolor": "white",
            "linecolor": "white",
            "ticks": ""
           },
           "bgcolor": "#E5ECF6",
           "radialaxis": {
            "gridcolor": "white",
            "linecolor": "white",
            "ticks": ""
           }
          },
          "scene": {
           "xaxis": {
            "backgroundcolor": "#E5ECF6",
            "gridcolor": "white",
            "gridwidth": 2,
            "linecolor": "white",
            "showbackground": true,
            "ticks": "",
            "zerolinecolor": "white"
           },
           "yaxis": {
            "backgroundcolor": "#E5ECF6",
            "gridcolor": "white",
            "gridwidth": 2,
            "linecolor": "white",
            "showbackground": true,
            "ticks": "",
            "zerolinecolor": "white"
           },
           "zaxis": {
            "backgroundcolor": "#E5ECF6",
            "gridcolor": "white",
            "gridwidth": 2,
            "linecolor": "white",
            "showbackground": true,
            "ticks": "",
            "zerolinecolor": "white"
           }
          },
          "shapedefaults": {
           "line": {
            "color": "#2a3f5f"
           }
          },
          "ternary": {
           "aaxis": {
            "gridcolor": "white",
            "linecolor": "white",
            "ticks": ""
           },
           "baxis": {
            "gridcolor": "white",
            "linecolor": "white",
            "ticks": ""
           },
           "bgcolor": "#E5ECF6",
           "caxis": {
            "gridcolor": "white",
            "linecolor": "white",
            "ticks": ""
           }
          },
          "title": {
           "x": 0.05
          },
          "xaxis": {
           "automargin": true,
           "gridcolor": "white",
           "linecolor": "white",
           "ticks": "",
           "title": {
            "standoff": 15
           },
           "zerolinecolor": "white",
           "zerolinewidth": 2
          },
          "yaxis": {
           "automargin": true,
           "gridcolor": "white",
           "linecolor": "white",
           "ticks": "",
           "title": {
            "standoff": 15
           },
           "zerolinecolor": "white",
           "zerolinewidth": 2
          }
         }
        },
        "title": {
         "text": "Top Movies: IMBD user rating Vs Critics rating"
        },
        "width": 1200,
        "xaxis": {
         "anchor": "y",
         "domain": [
          0,
          0.7363
         ],
         "title": {
          "text": "tomatometer_rating"
         }
        },
        "xaxis2": {
         "anchor": "y2",
         "domain": [
          0.7413,
          1
         ],
         "matches": "x2",
         "showgrid": true,
         "showline": false,
         "showticklabels": false,
         "ticks": ""
        },
        "xaxis3": {
         "anchor": "y3",
         "domain": [
          0,
          0.7363
         ],
         "matches": "x",
         "showgrid": true,
         "showticklabels": false
        },
        "xaxis4": {
         "anchor": "y4",
         "domain": [
          0.7413,
          1
         ],
         "matches": "x2",
         "showgrid": true,
         "showline": false,
         "showticklabels": false,
         "ticks": ""
        },
        "yaxis": {
         "anchor": "x",
         "domain": [
          0,
          0.7326
         ],
         "title": {
          "text": "imbd_rating"
         }
        },
        "yaxis2": {
         "anchor": "x2",
         "domain": [
          0,
          0.7326
         ],
         "matches": "y",
         "showgrid": true,
         "showticklabels": false
        },
        "yaxis3": {
         "anchor": "x3",
         "domain": [
          0.7426,
          1
         ],
         "matches": "y3",
         "showgrid": true,
         "showline": false,
         "showticklabels": false,
         "ticks": ""
        },
        "yaxis4": {
         "anchor": "x4",
         "domain": [
          0.7426,
          1
         ],
         "matches": "y3",
         "showgrid": true,
         "showline": false,
         "showticklabels": false,
         "ticks": ""
        }
       }
      }
     },
     "metadata": {},
     "output_type": "display_data"
    }
   ],
   "source": [
    "#df = px.full_table.iris() # iris is a pandas DataFrame\n",
    "fig = px.scatter(full_table, x=\"tomatometer_rating\", y= \"imbd_rating\",  title=\"Top Movies: IMBD user rating Vs Critics rating\", color = \"imbd_votecount\" , hover_name=\"imbd_title\" , marginal_x=\"histogram\", marginal_y=\"histogram\",width=1200, height=1000)\n",
    "fig.update_traces(marker=dict(size=14,\n",
    "                              line=dict(width=0.0001,\n",
    "                                        color='white')),\n",
    "                  selector=dict(mode='markers'))\n",
    "fig.show()"
   ]
  },
  {
   "cell_type": "code",
   "execution_count": null,
   "metadata": {},
   "outputs": [
    {
     "data": {
      "text/html": [
       "<div>\n",
       "<style scoped>\n",
       "    .dataframe tbody tr th:only-of-type {\n",
       "        vertical-align: middle;\n",
       "    }\n",
       "\n",
       "    .dataframe tbody tr th {\n",
       "        vertical-align: top;\n",
       "    }\n",
       "\n",
       "    .dataframe thead th {\n",
       "        text-align: right;\n",
       "    }\n",
       "</style>\n",
       "<table border=\"1\" class=\"dataframe\">\n",
       "  <thead>\n",
       "    <tr style=\"text-align: right;\">\n",
       "      <th></th>\n",
       "      <th>index</th>\n",
       "      <th>production_company</th>\n",
       "    </tr>\n",
       "  </thead>\n",
       "  <tbody>\n",
       "    <tr>\n",
       "      <th>0</th>\n",
       "      <td>Warner Bros. Pictures</td>\n",
       "      <td>9</td>\n",
       "    </tr>\n",
       "    <tr>\n",
       "      <th>1</th>\n",
       "      <td>Paramount Pictures</td>\n",
       "      <td>9</td>\n",
       "    </tr>\n",
       "    <tr>\n",
       "      <th>2</th>\n",
       "      <td>United Artists</td>\n",
       "      <td>5</td>\n",
       "    </tr>\n",
       "    <tr>\n",
       "      <th>3</th>\n",
       "      <td>New Line Cinema</td>\n",
       "      <td>4</td>\n",
       "    </tr>\n",
       "    <tr>\n",
       "      <th>4</th>\n",
       "      <td>Miramax Films</td>\n",
       "      <td>4</td>\n",
       "    </tr>\n",
       "  </tbody>\n",
       "</table>\n",
       "</div>"
      ],
      "text/plain": [
       "                   index  production_company\n",
       "0  Warner Bros. Pictures                   9\n",
       "1     Paramount Pictures                   9\n",
       "2         United Artists                   5\n",
       "3        New Line Cinema                   4\n",
       "4          Miramax Films                   4"
      ]
     },
     "execution_count": 32,
     "metadata": {},
     "output_type": "execute_result"
    }
   ],
   "source": [
    "production_company = full_table[\"production_company\"].value_counts().reset_index().sort_index().head(5)\n",
    "production_company"
   ]
  },
  {
   "cell_type": "code",
   "execution_count": null,
   "metadata": {},
   "outputs": [
    {
     "data": {
      "image/png": "[encoded data removed]",
      "text/plain": [
       "<Figure size 1080x1080 with 1 Axes>"
      ]
     },
     "metadata": {},
     "output_type": "display_data"
    }
   ],
   "source": [
    "eda.barplot_sns(production_company,\"production_company\",\"index\",\"crest\",\"Top 5: # of high valued movies per Production Company\",'# Movies',\"Production Company\")"
   ]
  },
  {
   "cell_type": "code",
   "execution_count": null,
   "metadata": {},
   "outputs": [
    {
     "data": {
      "text/html": [
       "<div>\n",
       "<style scoped>\n",
       "    .dataframe tbody tr th:only-of-type {\n",
       "        vertical-align: middle;\n",
       "    }\n",
       "\n",
       "    .dataframe tbody tr th {\n",
       "        vertical-align: top;\n",
       "    }\n",
       "\n",
       "    .dataframe thead th {\n",
       "        text-align: right;\n",
       "    }\n",
       "</style>\n",
       "<table border=\"1\" class=\"dataframe\">\n",
       "  <thead>\n",
       "    <tr style=\"text-align: right;\">\n",
       "      <th></th>\n",
       "      <th>index</th>\n",
       "      <th>directors</th>\n",
       "    </tr>\n",
       "  </thead>\n",
       "  <tbody>\n",
       "    <tr>\n",
       "      <th>0</th>\n",
       "      <td>Christopher Nolan</td>\n",
       "      <td>6</td>\n",
       "    </tr>\n",
       "    <tr>\n",
       "      <th>1</th>\n",
       "      <td>Quentin Tarantino</td>\n",
       "      <td>4</td>\n",
       "    </tr>\n",
       "    <tr>\n",
       "      <th>2</th>\n",
       "      <td>Alfred Hitchcock</td>\n",
       "      <td>4</td>\n",
       "    </tr>\n",
       "    <tr>\n",
       "      <th>3</th>\n",
       "      <td>Peter Jackson</td>\n",
       "      <td>3</td>\n",
       "    </tr>\n",
       "    <tr>\n",
       "      <th>4</th>\n",
       "      <td>Francis Ford Coppola</td>\n",
       "      <td>3</td>\n",
       "    </tr>\n",
       "  </tbody>\n",
       "</table>\n",
       "</div>"
      ],
      "text/plain": [
       "                  index  directors\n",
       "0     Christopher Nolan          6\n",
       "1     Quentin Tarantino          4\n",
       "2      Alfred Hitchcock          4\n",
       "3         Peter Jackson          3\n",
       "4  Francis Ford Coppola          3"
      ]
     },
     "execution_count": 20,
     "metadata": {},
     "output_type": "execute_result"
    }
   ],
   "source": [
    "directors_mov = full_table[\"directors\"].value_counts().reset_index().sort_index().head(5)\n",
    "directors_mov"
   ]
  },
  {
   "cell_type": "code",
   "execution_count": null,
   "metadata": {},
   "outputs": [
    {
     "data": {
      "image/png": "[encoded data removed]",
      "text/plain": [
       "<Figure size 1080x1080 with 1 Axes>"
      ]
     },
     "metadata": {},
     "output_type": "display_data"
    }
   ],
   "source": [
    "eda.barplot_sns(directors_mov,\"directors\",\"index\",\"crest\",\"Top 5: # of high valued movies per Director\",'# Movies',\"Director\")"
   ]
  },
  {
   "cell_type": "code",
   "execution_count": null,
   "metadata": {},
   "outputs": [
    {
     "data": {
      "text/plain": [
       "<seaborn.axisgrid.PairGrid at 0x17e39f8ce20>"
      ]
     },
     "execution_count": 31,
     "metadata": {},
     "output_type": "execute_result"
    },
    {
     "data": {
      "image/png": "[encoded data removed]",
      "text/plain": [
       "<Figure size 1080x1080 with 12 Axes>"
      ]
     },
     "metadata": {},
     "output_type": "display_data"
    }
   ],
   "source": [
    "sns.set(rc={'figure.figsize':(15,15)})\n",
    "sns.pairplot(data = full_table, vars=['tomatometer_rating','imbd_rating','imbd_votecount'], height=5)\n",
    "\n",
    "\n"
   ]
  },
  {
   "cell_type": "code",
   "execution_count": null,
   "metadata": {},
   "outputs": [],
   "source": []
  }
 ],
 "metadata": {
  "kernelspec": {
   "display_name": "base",
   "language": "python",
   "name": "python3"
  },
  "language_info": {
   "codemirror_mode": {
    "name": "ipython",
    "version": 3
   },
   "file_extension": ".py",
   "mimetype": "text/x-python",
   "name": "python",
   "nbconvert_exporter": "python",
   "pygments_lexer": "ipython3",
   "version": "3.10.8"
  },
  "orig_nbformat": 4,
  "vscode": {
   "interpreter": {
    "hash": "668b822ab921c22426a9366adc9c25d92dc8e958432b516ddaac9ea41a260bcd"
   }
  }
 },
 "nbformat": 4,
 "nbformat_minor": 2
}
