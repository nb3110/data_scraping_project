{
 "cells": [
  {
   "cell_type": "code",
   "execution_count": 192,
   "metadata": {},
   "outputs": [],
   "source": [
    "import pandas as pd\n",
    "import numpy as np\n",
    "\n",
    "import src.eda_cleaning as eda\n",
    "import src.scraping as scrp\n",
    "\n",
    "import matplotlib.pyplot as plt\n",
    "import seaborn as sns\n",
    "import plotly.express as px\n",
    "\n",
    "\n",
    "\n"
   ]
  },
  {
   "attachments": {},
   "cell_type": "markdown",
   "metadata": {},
   "source": [
    "# Project: Data Pipeline\n",
    "## By: Nicolas Blasi\n",
    "<br>\n",
    "\n",
    "![local_picture](./images/logo.png)\n",
    "\n",
    "\n",
    "## <i>Audience vs Critics: Is the audience more picky in terms of their rating vs Critics?\n",
    "\n",
    "#### <b> In this project, we were asked to extract data from 2 different sources, creating an enriched dataset and perform EDA. I scraped an API using requests, in addition to using other packages such as Pandas, Numpy, Matplotlib, Seaborn , Difflib."
   ]
  },
  {
   "attachments": {},
   "cell_type": "markdown",
   "metadata": {},
   "source": [
    "## Scraping Movie database API\n",
    "\n",
    "- The scraping script is in the scraping.py module, in order to avoid running this script when refreshing the Notebook\n",
    "- It has user defined functions tailored to the API's dataset structure\n",
    "- The result is the top 100 movies of all times, following the IMBD user rating.\n",
    "- DataSet is considerably clean"
   ]
  },
  {
   "cell_type": "code",
   "execution_count": 193,
   "metadata": {},
   "outputs": [],
   "source": [
    "#!python \"src\\scraping.py\""
   ]
  },
  {
   "cell_type": "code",
   "execution_count": 194,
   "metadata": {},
   "outputs": [
    {
     "data": {
      "text/html": [
       "<div>\n",
       "<style scoped>\n",
       "    .dataframe tbody tr th:only-of-type {\n",
       "        vertical-align: middle;\n",
       "    }\n",
       "\n",
       "    .dataframe tbody tr th {\n",
       "        vertical-align: top;\n",
       "    }\n",
       "\n",
       "    .dataframe thead th {\n",
       "        text-align: right;\n",
       "    }\n",
       "</style>\n",
       "<table border=\"1\" class=\"dataframe\">\n",
       "  <thead>\n",
       "    <tr style=\"text-align: right;\">\n",
       "      <th></th>\n",
       "      <th>imbd_rating</th>\n",
       "      <th>imbd_votecount</th>\n",
       "      <th>imbd_title</th>\n",
       "      <th>year</th>\n",
       "    </tr>\n",
       "  </thead>\n",
       "  <tbody>\n",
       "    <tr>\n",
       "      <th>0</th>\n",
       "      <td>9.3</td>\n",
       "      <td>2695887</td>\n",
       "      <td>The Shawshank Redemption</td>\n",
       "      <td>1994</td>\n",
       "    </tr>\n",
       "    <tr>\n",
       "      <th>1</th>\n",
       "      <td>9.2</td>\n",
       "      <td>1870922</td>\n",
       "      <td>The Godfather</td>\n",
       "      <td>1972</td>\n",
       "    </tr>\n",
       "    <tr>\n",
       "      <th>2</th>\n",
       "      <td>9.0</td>\n",
       "      <td>2669915</td>\n",
       "      <td>The Dark Knight</td>\n",
       "      <td>2008</td>\n",
       "    </tr>\n",
       "    <tr>\n",
       "      <th>3</th>\n",
       "      <td>9.0</td>\n",
       "      <td>1279091</td>\n",
       "      <td>The Godfather: Part II</td>\n",
       "      <td>1974</td>\n",
       "    </tr>\n",
       "    <tr>\n",
       "      <th>4</th>\n",
       "      <td>9.0</td>\n",
       "      <td>796537</td>\n",
       "      <td>De 12 gezworenen</td>\n",
       "      <td>1957</td>\n",
       "    </tr>\n",
       "    <tr>\n",
       "      <th>...</th>\n",
       "      <td>...</td>\n",
       "      <td>...</td>\n",
       "      <td>...</td>\n",
       "      <td>...</td>\n",
       "    </tr>\n",
       "    <tr>\n",
       "      <th>95</th>\n",
       "      <td>8.3</td>\n",
       "      <td>159979</td>\n",
       "      <td>M - Eine Stadt sucht einen Mörder</td>\n",
       "      <td>1931</td>\n",
       "    </tr>\n",
       "    <tr>\n",
       "      <th>96</th>\n",
       "      <td>8.3</td>\n",
       "      <td>296955</td>\n",
       "      <td>Lawrence of Arabia</td>\n",
       "      <td>1962</td>\n",
       "    </tr>\n",
       "    <tr>\n",
       "      <th>97</th>\n",
       "      <td>8.3</td>\n",
       "      <td>331183</td>\n",
       "      <td>North by Northwest</td>\n",
       "      <td>1959</td>\n",
       "    </tr>\n",
       "    <tr>\n",
       "      <th>98</th>\n",
       "      <td>8.3</td>\n",
       "      <td>405906</td>\n",
       "      <td>Vertigo</td>\n",
       "      <td>1958</td>\n",
       "    </tr>\n",
       "    <tr>\n",
       "      <th>99</th>\n",
       "      <td>8.3</td>\n",
       "      <td>761532</td>\n",
       "      <td>Le fabuleux destin d'Amélie Poulain</td>\n",
       "      <td>2001</td>\n",
       "    </tr>\n",
       "  </tbody>\n",
       "</table>\n",
       "<p>100 rows × 4 columns</p>\n",
       "</div>"
      ],
      "text/plain": [
       "    imbd_rating  imbd_votecount                           imbd_title  year\n",
       "0           9.3         2695887             The Shawshank Redemption  1994\n",
       "1           9.2         1870922                        The Godfather  1972\n",
       "2           9.0         2669915                      The Dark Knight  2008\n",
       "3           9.0         1279091               The Godfather: Part II  1974\n",
       "4           9.0          796537                     De 12 gezworenen  1957\n",
       "..          ...             ...                                  ...   ...\n",
       "95          8.3          159979    M - Eine Stadt sucht einen Mörder  1931\n",
       "96          8.3          296955                   Lawrence of Arabia  1962\n",
       "97          8.3          331183                   North by Northwest  1959\n",
       "98          8.3          405906                              Vertigo  1958\n",
       "99          8.3          761532  Le fabuleux destin d'Amélie Poulain  2001\n",
       "\n",
       "[100 rows x 4 columns]"
      ]
     },
     "execution_count": 194,
     "metadata": {},
     "output_type": "execute_result"
    }
   ],
   "source": [
    "imbd_table = pd.read_csv(\"csv\\imbd_table.csv\", index_col=0)\n",
    "#source: https://www.kaggle.com/datasets/stefanoleone992/rotten-tomatoes-movies-and-critic-reviews-dataset?resource=download\n",
    "imbd_table"
   ]
  },
  {
   "cell_type": "code",
   "execution_count": 195,
   "metadata": {},
   "outputs": [
    {
     "data": {
      "text/html": [
       "<div>\n",
       "<style scoped>\n",
       "    .dataframe tbody tr th:only-of-type {\n",
       "        vertical-align: middle;\n",
       "    }\n",
       "\n",
       "    .dataframe tbody tr th {\n",
       "        vertical-align: top;\n",
       "    }\n",
       "\n",
       "    .dataframe thead th {\n",
       "        text-align: right;\n",
       "    }\n",
       "</style>\n",
       "<table border=\"1\" class=\"dataframe\">\n",
       "  <thead>\n",
       "    <tr style=\"text-align: right;\">\n",
       "      <th></th>\n",
       "      <th>null_%</th>\n",
       "      <th>null_count</th>\n",
       "      <th>dtype</th>\n",
       "      <th>count</th>\n",
       "      <th>mean</th>\n",
       "      <th>std</th>\n",
       "      <th>min</th>\n",
       "      <th>25%</th>\n",
       "      <th>50%</th>\n",
       "      <th>75%</th>\n",
       "      <th>max</th>\n",
       "    </tr>\n",
       "    <tr>\n",
       "      <th>index</th>\n",
       "      <th></th>\n",
       "      <th></th>\n",
       "      <th></th>\n",
       "      <th></th>\n",
       "      <th></th>\n",
       "      <th></th>\n",
       "      <th></th>\n",
       "      <th></th>\n",
       "      <th></th>\n",
       "      <th></th>\n",
       "      <th></th>\n",
       "    </tr>\n",
       "  </thead>\n",
       "  <tbody>\n",
       "    <tr>\n",
       "      <th>imbd_votecount</th>\n",
       "      <td>0.0</td>\n",
       "      <td>0</td>\n",
       "      <td>int64</td>\n",
       "      <td>100.0</td>\n",
       "      <td>937051.59</td>\n",
       "      <td>605712.23</td>\n",
       "      <td>46252.0</td>\n",
       "      <td>404591.25</td>\n",
       "      <td>869990.5</td>\n",
       "      <td>1301255.5</td>\n",
       "      <td>2695887.0</td>\n",
       "    </tr>\n",
       "    <tr>\n",
       "      <th>year</th>\n",
       "      <td>0.0</td>\n",
       "      <td>0</td>\n",
       "      <td>int64</td>\n",
       "      <td>100.0</td>\n",
       "      <td>1987.39</td>\n",
       "      <td>22.72</td>\n",
       "      <td>1931.0</td>\n",
       "      <td>1973.50</td>\n",
       "      <td>1994.0</td>\n",
       "      <td>2003.0</td>\n",
       "      <td>2019.0</td>\n",
       "    </tr>\n",
       "    <tr>\n",
       "      <th>imbd_rating</th>\n",
       "      <td>0.0</td>\n",
       "      <td>0</td>\n",
       "      <td>float64</td>\n",
       "      <td>100.0</td>\n",
       "      <td>8.52</td>\n",
       "      <td>0.21</td>\n",
       "      <td>8.3</td>\n",
       "      <td>8.40</td>\n",
       "      <td>8.5</td>\n",
       "      <td>8.6</td>\n",
       "      <td>9.3</td>\n",
       "    </tr>\n",
       "    <tr>\n",
       "      <th>imbd_title</th>\n",
       "      <td>0.0</td>\n",
       "      <td>0</td>\n",
       "      <td>object</td>\n",
       "      <td>NaN</td>\n",
       "      <td>NaN</td>\n",
       "      <td>NaN</td>\n",
       "      <td>NaN</td>\n",
       "      <td>NaN</td>\n",
       "      <td>NaN</td>\n",
       "      <td>NaN</td>\n",
       "      <td>NaN</td>\n",
       "    </tr>\n",
       "  </tbody>\n",
       "</table>\n",
       "</div>"
      ],
      "text/plain": [
       "                null_%  null_count    dtype  count       mean        std  \\\n",
       "index                                                                      \n",
       "imbd_votecount     0.0           0    int64  100.0  937051.59  605712.23   \n",
       "year               0.0           0    int64  100.0    1987.39      22.72   \n",
       "imbd_rating        0.0           0  float64  100.0       8.52       0.21   \n",
       "imbd_title         0.0           0   object    NaN        NaN        NaN   \n",
       "\n",
       "                    min        25%       50%        75%        max  \n",
       "index                                                               \n",
       "imbd_votecount  46252.0  404591.25  869990.5  1301255.5  2695887.0  \n",
       "year             1931.0    1973.50    1994.0     2003.0     2019.0  \n",
       "imbd_rating         8.3       8.40       8.5        8.6        9.3  \n",
       "imbd_title          NaN        NaN       NaN        NaN        NaN  "
      ]
     },
     "execution_count": 195,
     "metadata": {},
     "output_type": "execute_result"
    }
   ],
   "source": [
    "eda.summary_statistics(imbd_table)"
   ]
  },
  {
   "attachments": {},
   "cell_type": "markdown",
   "metadata": {},
   "source": [
    "## Rotten tomatoes Movie csv\n",
    "\n",
    "- The rotten tomatoes csv will enrich the overall dataset\n",
    "- Its main purpose is to provide the critic's review of the movies scraped previously\n",
    "- DataSet is considerably clean"
   ]
  },
  {
   "cell_type": "code",
   "execution_count": 196,
   "metadata": {},
   "outputs": [],
   "source": [
    "rotten_tomatoes = pd.read_csv(r\"csv\\rotten_tomatoes_movies.csv\")"
   ]
  },
  {
   "cell_type": "code",
   "execution_count": 197,
   "metadata": {},
   "outputs": [
    {
     "data": {
      "text/html": [
       "<div>\n",
       "<style scoped>\n",
       "    .dataframe tbody tr th:only-of-type {\n",
       "        vertical-align: middle;\n",
       "    }\n",
       "\n",
       "    .dataframe tbody tr th {\n",
       "        vertical-align: top;\n",
       "    }\n",
       "\n",
       "    .dataframe thead th {\n",
       "        text-align: right;\n",
       "    }\n",
       "</style>\n",
       "<table border=\"1\" class=\"dataframe\">\n",
       "  <thead>\n",
       "    <tr style=\"text-align: right;\">\n",
       "      <th></th>\n",
       "      <th>rotten_tomatoes_link</th>\n",
       "      <th>movie_title</th>\n",
       "      <th>movie_info</th>\n",
       "      <th>critics_consensus</th>\n",
       "      <th>content_rating</th>\n",
       "      <th>genres</th>\n",
       "      <th>directors</th>\n",
       "      <th>authors</th>\n",
       "      <th>actors</th>\n",
       "      <th>original_release_date</th>\n",
       "      <th>...</th>\n",
       "      <th>production_company</th>\n",
       "      <th>tomatometer_status</th>\n",
       "      <th>tomatometer_rating</th>\n",
       "      <th>tomatometer_count</th>\n",
       "      <th>audience_status</th>\n",
       "      <th>audience_rating</th>\n",
       "      <th>audience_count</th>\n",
       "      <th>tomatometer_top_critics_count</th>\n",
       "      <th>tomatometer_fresh_critics_count</th>\n",
       "      <th>tomatometer_rotten_critics_count</th>\n",
       "    </tr>\n",
       "  </thead>\n",
       "  <tbody>\n",
       "    <tr>\n",
       "      <th>0</th>\n",
       "      <td>m/0814255</td>\n",
       "      <td>Percy Jackson &amp; the Olympians: The Lightning T...</td>\n",
       "      <td>Always trouble-prone, the life of teenager Per...</td>\n",
       "      <td>Though it may seem like just another Harry Pot...</td>\n",
       "      <td>PG</td>\n",
       "      <td>Action &amp; Adventure, Comedy, Drama, Science Fic...</td>\n",
       "      <td>Chris Columbus</td>\n",
       "      <td>Craig Titley, Chris Columbus, Rick Riordan</td>\n",
       "      <td>Logan Lerman, Brandon T. Jackson, Alexandra Da...</td>\n",
       "      <td>2010-02-12</td>\n",
       "      <td>...</td>\n",
       "      <td>20th Century Fox</td>\n",
       "      <td>Rotten</td>\n",
       "      <td>49.0</td>\n",
       "      <td>149.0</td>\n",
       "      <td>Spilled</td>\n",
       "      <td>53.0</td>\n",
       "      <td>254421.0</td>\n",
       "      <td>43</td>\n",
       "      <td>73</td>\n",
       "      <td>76</td>\n",
       "    </tr>\n",
       "    <tr>\n",
       "      <th>1</th>\n",
       "      <td>m/0878835</td>\n",
       "      <td>Please Give</td>\n",
       "      <td>Kate (Catherine Keener) and her husband Alex (...</td>\n",
       "      <td>Nicole Holofcener's newest might seem slight i...</td>\n",
       "      <td>R</td>\n",
       "      <td>Comedy</td>\n",
       "      <td>Nicole Holofcener</td>\n",
       "      <td>Nicole Holofcener</td>\n",
       "      <td>Catherine Keener, Amanda Peet, Oliver Platt, R...</td>\n",
       "      <td>2010-04-30</td>\n",
       "      <td>...</td>\n",
       "      <td>Sony Pictures Classics</td>\n",
       "      <td>Certified-Fresh</td>\n",
       "      <td>87.0</td>\n",
       "      <td>142.0</td>\n",
       "      <td>Upright</td>\n",
       "      <td>64.0</td>\n",
       "      <td>11574.0</td>\n",
       "      <td>44</td>\n",
       "      <td>123</td>\n",
       "      <td>19</td>\n",
       "    </tr>\n",
       "    <tr>\n",
       "      <th>2</th>\n",
       "      <td>m/10</td>\n",
       "      <td>10</td>\n",
       "      <td>A successful, middle-aged Hollywood songwriter...</td>\n",
       "      <td>Blake Edwards' bawdy comedy may not score a pe...</td>\n",
       "      <td>R</td>\n",
       "      <td>Comedy, Romance</td>\n",
       "      <td>Blake Edwards</td>\n",
       "      <td>Blake Edwards</td>\n",
       "      <td>Dudley Moore, Bo Derek, Julie Andrews, Robert ...</td>\n",
       "      <td>1979-10-05</td>\n",
       "      <td>...</td>\n",
       "      <td>Waner Bros.</td>\n",
       "      <td>Fresh</td>\n",
       "      <td>67.0</td>\n",
       "      <td>24.0</td>\n",
       "      <td>Spilled</td>\n",
       "      <td>53.0</td>\n",
       "      <td>14684.0</td>\n",
       "      <td>2</td>\n",
       "      <td>16</td>\n",
       "      <td>8</td>\n",
       "    </tr>\n",
       "    <tr>\n",
       "      <th>3</th>\n",
       "      <td>m/1000013-12_angry_men</td>\n",
       "      <td>12 Angry Men (Twelve Angry Men)</td>\n",
       "      <td>Following the closing arguments in a murder tr...</td>\n",
       "      <td>Sidney Lumet's feature debut is a superbly wri...</td>\n",
       "      <td>NR</td>\n",
       "      <td>Classics, Drama</td>\n",
       "      <td>Sidney Lumet</td>\n",
       "      <td>Reginald Rose</td>\n",
       "      <td>Martin Balsam, John Fiedler, Lee J. Cobb, E.G....</td>\n",
       "      <td>1957-04-13</td>\n",
       "      <td>...</td>\n",
       "      <td>Criterion Collection</td>\n",
       "      <td>Certified-Fresh</td>\n",
       "      <td>100.0</td>\n",
       "      <td>54.0</td>\n",
       "      <td>Upright</td>\n",
       "      <td>97.0</td>\n",
       "      <td>105386.0</td>\n",
       "      <td>6</td>\n",
       "      <td>54</td>\n",
       "      <td>0</td>\n",
       "    </tr>\n",
       "    <tr>\n",
       "      <th>4</th>\n",
       "      <td>m/1000079-20000_leagues_under_the_sea</td>\n",
       "      <td>20,000 Leagues Under The Sea</td>\n",
       "      <td>In 1866, Professor Pierre M. Aronnax (Paul Luk...</td>\n",
       "      <td>One of Disney's finest live-action adventures,...</td>\n",
       "      <td>G</td>\n",
       "      <td>Action &amp; Adventure, Drama, Kids &amp; Family</td>\n",
       "      <td>Richard Fleischer</td>\n",
       "      <td>Earl Felton</td>\n",
       "      <td>James Mason, Kirk Douglas, Paul Lukas, Peter L...</td>\n",
       "      <td>1954-01-01</td>\n",
       "      <td>...</td>\n",
       "      <td>Disney</td>\n",
       "      <td>Fresh</td>\n",
       "      <td>89.0</td>\n",
       "      <td>27.0</td>\n",
       "      <td>Upright</td>\n",
       "      <td>74.0</td>\n",
       "      <td>68918.0</td>\n",
       "      <td>5</td>\n",
       "      <td>24</td>\n",
       "      <td>3</td>\n",
       "    </tr>\n",
       "  </tbody>\n",
       "</table>\n",
       "<p>5 rows × 22 columns</p>\n",
       "</div>"
      ],
      "text/plain": [
       "                    rotten_tomatoes_link  \\\n",
       "0                              m/0814255   \n",
       "1                              m/0878835   \n",
       "2                                   m/10   \n",
       "3                 m/1000013-12_angry_men   \n",
       "4  m/1000079-20000_leagues_under_the_sea   \n",
       "\n",
       "                                         movie_title  \\\n",
       "0  Percy Jackson & the Olympians: The Lightning T...   \n",
       "1                                        Please Give   \n",
       "2                                                 10   \n",
       "3                    12 Angry Men (Twelve Angry Men)   \n",
       "4                       20,000 Leagues Under The Sea   \n",
       "\n",
       "                                          movie_info  \\\n",
       "0  Always trouble-prone, the life of teenager Per...   \n",
       "1  Kate (Catherine Keener) and her husband Alex (...   \n",
       "2  A successful, middle-aged Hollywood songwriter...   \n",
       "3  Following the closing arguments in a murder tr...   \n",
       "4  In 1866, Professor Pierre M. Aronnax (Paul Luk...   \n",
       "\n",
       "                                   critics_consensus content_rating  \\\n",
       "0  Though it may seem like just another Harry Pot...             PG   \n",
       "1  Nicole Holofcener's newest might seem slight i...              R   \n",
       "2  Blake Edwards' bawdy comedy may not score a pe...              R   \n",
       "3  Sidney Lumet's feature debut is a superbly wri...             NR   \n",
       "4  One of Disney's finest live-action adventures,...              G   \n",
       "\n",
       "                                              genres          directors  \\\n",
       "0  Action & Adventure, Comedy, Drama, Science Fic...     Chris Columbus   \n",
       "1                                             Comedy  Nicole Holofcener   \n",
       "2                                    Comedy, Romance      Blake Edwards   \n",
       "3                                    Classics, Drama       Sidney Lumet   \n",
       "4           Action & Adventure, Drama, Kids & Family  Richard Fleischer   \n",
       "\n",
       "                                      authors  \\\n",
       "0  Craig Titley, Chris Columbus, Rick Riordan   \n",
       "1                           Nicole Holofcener   \n",
       "2                               Blake Edwards   \n",
       "3                               Reginald Rose   \n",
       "4                                 Earl Felton   \n",
       "\n",
       "                                              actors original_release_date  \\\n",
       "0  Logan Lerman, Brandon T. Jackson, Alexandra Da...            2010-02-12   \n",
       "1  Catherine Keener, Amanda Peet, Oliver Platt, R...            2010-04-30   \n",
       "2  Dudley Moore, Bo Derek, Julie Andrews, Robert ...            1979-10-05   \n",
       "3  Martin Balsam, John Fiedler, Lee J. Cobb, E.G....            1957-04-13   \n",
       "4  James Mason, Kirk Douglas, Paul Lukas, Peter L...            1954-01-01   \n",
       "\n",
       "   ...      production_company  tomatometer_status tomatometer_rating  \\\n",
       "0  ...        20th Century Fox              Rotten               49.0   \n",
       "1  ...  Sony Pictures Classics     Certified-Fresh               87.0   \n",
       "2  ...             Waner Bros.               Fresh               67.0   \n",
       "3  ...    Criterion Collection     Certified-Fresh              100.0   \n",
       "4  ...                  Disney               Fresh               89.0   \n",
       "\n",
       "  tomatometer_count  audience_status  audience_rating audience_count  \\\n",
       "0             149.0          Spilled             53.0       254421.0   \n",
       "1             142.0          Upright             64.0        11574.0   \n",
       "2              24.0          Spilled             53.0        14684.0   \n",
       "3              54.0          Upright             97.0       105386.0   \n",
       "4              27.0          Upright             74.0        68918.0   \n",
       "\n",
       "   tomatometer_top_critics_count  tomatometer_fresh_critics_count  \\\n",
       "0                             43                               73   \n",
       "1                             44                              123   \n",
       "2                              2                               16   \n",
       "3                              6                               54   \n",
       "4                              5                               24   \n",
       "\n",
       "   tomatometer_rotten_critics_count  \n",
       "0                                76  \n",
       "1                                19  \n",
       "2                                 8  \n",
       "3                                 0  \n",
       "4                                 3  \n",
       "\n",
       "[5 rows x 22 columns]"
      ]
     },
     "execution_count": 197,
     "metadata": {},
     "output_type": "execute_result"
    }
   ],
   "source": [
    "rotten_tomatoes.head()"
   ]
  },
  {
   "cell_type": "code",
   "execution_count": 198,
   "metadata": {},
   "outputs": [],
   "source": [
    "#Drop columns that don't add value to my analysis\n",
    "rotten_tomatoes.drop([\"streaming_release_date\",\"movie_info\",\"critics_consensus\",\"actors\",\"audience_status\",\"rotten_tomatoes_link\",\"content_rating\",\"tomatometer_status\",\"audience_count\",\"audience_rating\"] ,axis=1, inplace=True)\n"
   ]
  },
  {
   "cell_type": "code",
   "execution_count": 199,
   "metadata": {},
   "outputs": [
    {
     "data": {
      "text/html": [
       "<div>\n",
       "<style scoped>\n",
       "    .dataframe tbody tr th:only-of-type {\n",
       "        vertical-align: middle;\n",
       "    }\n",
       "\n",
       "    .dataframe tbody tr th {\n",
       "        vertical-align: top;\n",
       "    }\n",
       "\n",
       "    .dataframe thead th {\n",
       "        text-align: right;\n",
       "    }\n",
       "</style>\n",
       "<table border=\"1\" class=\"dataframe\">\n",
       "  <thead>\n",
       "    <tr style=\"text-align: right;\">\n",
       "      <th></th>\n",
       "      <th>null_%</th>\n",
       "      <th>null_count</th>\n",
       "      <th>dtype</th>\n",
       "      <th>count</th>\n",
       "      <th>mean</th>\n",
       "      <th>std</th>\n",
       "      <th>min</th>\n",
       "      <th>25%</th>\n",
       "      <th>50%</th>\n",
       "      <th>75%</th>\n",
       "      <th>max</th>\n",
       "    </tr>\n",
       "    <tr>\n",
       "      <th>index</th>\n",
       "      <th></th>\n",
       "      <th></th>\n",
       "      <th></th>\n",
       "      <th></th>\n",
       "      <th></th>\n",
       "      <th></th>\n",
       "      <th></th>\n",
       "      <th></th>\n",
       "      <th></th>\n",
       "      <th></th>\n",
       "      <th></th>\n",
       "    </tr>\n",
       "  </thead>\n",
       "  <tbody>\n",
       "    <tr>\n",
       "      <th>tomatometer_top_critics_count</th>\n",
       "      <td>0.00</td>\n",
       "      <td>0</td>\n",
       "      <td>int64</td>\n",
       "      <td>17712.0</td>\n",
       "      <td>14.59</td>\n",
       "      <td>15.15</td>\n",
       "      <td>0.0</td>\n",
       "      <td>3.0</td>\n",
       "      <td>8.0</td>\n",
       "      <td>23.0</td>\n",
       "      <td>69.0</td>\n",
       "    </tr>\n",
       "    <tr>\n",
       "      <th>tomatometer_fresh_critics_count</th>\n",
       "      <td>0.00</td>\n",
       "      <td>0</td>\n",
       "      <td>int64</td>\n",
       "      <td>17712.0</td>\n",
       "      <td>36.37</td>\n",
       "      <td>52.60</td>\n",
       "      <td>0.0</td>\n",
       "      <td>6.0</td>\n",
       "      <td>16.0</td>\n",
       "      <td>44.0</td>\n",
       "      <td>497.0</td>\n",
       "    </tr>\n",
       "    <tr>\n",
       "      <th>tomatometer_rotten_critics_count</th>\n",
       "      <td>0.00</td>\n",
       "      <td>0</td>\n",
       "      <td>int64</td>\n",
       "      <td>17712.0</td>\n",
       "      <td>20.70</td>\n",
       "      <td>30.25</td>\n",
       "      <td>0.0</td>\n",
       "      <td>3.0</td>\n",
       "      <td>8.0</td>\n",
       "      <td>24.0</td>\n",
       "      <td>303.0</td>\n",
       "    </tr>\n",
       "    <tr>\n",
       "      <th>runtime</th>\n",
       "      <td>0.02</td>\n",
       "      <td>314</td>\n",
       "      <td>float64</td>\n",
       "      <td>17398.0</td>\n",
       "      <td>102.21</td>\n",
       "      <td>18.70</td>\n",
       "      <td>5.0</td>\n",
       "      <td>90.0</td>\n",
       "      <td>99.0</td>\n",
       "      <td>111.0</td>\n",
       "      <td>266.0</td>\n",
       "    </tr>\n",
       "    <tr>\n",
       "      <th>tomatometer_rating</th>\n",
       "      <td>0.00</td>\n",
       "      <td>44</td>\n",
       "      <td>float64</td>\n",
       "      <td>17668.0</td>\n",
       "      <td>60.88</td>\n",
       "      <td>28.44</td>\n",
       "      <td>0.0</td>\n",
       "      <td>38.0</td>\n",
       "      <td>67.0</td>\n",
       "      <td>86.0</td>\n",
       "      <td>100.0</td>\n",
       "    </tr>\n",
       "    <tr>\n",
       "      <th>tomatometer_count</th>\n",
       "      <td>0.00</td>\n",
       "      <td>44</td>\n",
       "      <td>float64</td>\n",
       "      <td>17668.0</td>\n",
       "      <td>57.14</td>\n",
       "      <td>68.37</td>\n",
       "      <td>5.0</td>\n",
       "      <td>12.0</td>\n",
       "      <td>28.0</td>\n",
       "      <td>75.0</td>\n",
       "      <td>574.0</td>\n",
       "    </tr>\n",
       "    <tr>\n",
       "      <th>movie_title</th>\n",
       "      <td>0.00</td>\n",
       "      <td>0</td>\n",
       "      <td>object</td>\n",
       "      <td>NaN</td>\n",
       "      <td>NaN</td>\n",
       "      <td>NaN</td>\n",
       "      <td>NaN</td>\n",
       "      <td>NaN</td>\n",
       "      <td>NaN</td>\n",
       "      <td>NaN</td>\n",
       "      <td>NaN</td>\n",
       "    </tr>\n",
       "    <tr>\n",
       "      <th>genres</th>\n",
       "      <td>0.00</td>\n",
       "      <td>19</td>\n",
       "      <td>object</td>\n",
       "      <td>NaN</td>\n",
       "      <td>NaN</td>\n",
       "      <td>NaN</td>\n",
       "      <td>NaN</td>\n",
       "      <td>NaN</td>\n",
       "      <td>NaN</td>\n",
       "      <td>NaN</td>\n",
       "      <td>NaN</td>\n",
       "    </tr>\n",
       "    <tr>\n",
       "      <th>directors</th>\n",
       "      <td>0.01</td>\n",
       "      <td>194</td>\n",
       "      <td>object</td>\n",
       "      <td>NaN</td>\n",
       "      <td>NaN</td>\n",
       "      <td>NaN</td>\n",
       "      <td>NaN</td>\n",
       "      <td>NaN</td>\n",
       "      <td>NaN</td>\n",
       "      <td>NaN</td>\n",
       "      <td>NaN</td>\n",
       "    </tr>\n",
       "    <tr>\n",
       "      <th>authors</th>\n",
       "      <td>0.09</td>\n",
       "      <td>1542</td>\n",
       "      <td>object</td>\n",
       "      <td>NaN</td>\n",
       "      <td>NaN</td>\n",
       "      <td>NaN</td>\n",
       "      <td>NaN</td>\n",
       "      <td>NaN</td>\n",
       "      <td>NaN</td>\n",
       "      <td>NaN</td>\n",
       "      <td>NaN</td>\n",
       "    </tr>\n",
       "    <tr>\n",
       "      <th>original_release_date</th>\n",
       "      <td>0.07</td>\n",
       "      <td>1166</td>\n",
       "      <td>object</td>\n",
       "      <td>NaN</td>\n",
       "      <td>NaN</td>\n",
       "      <td>NaN</td>\n",
       "      <td>NaN</td>\n",
       "      <td>NaN</td>\n",
       "      <td>NaN</td>\n",
       "      <td>NaN</td>\n",
       "      <td>NaN</td>\n",
       "    </tr>\n",
       "    <tr>\n",
       "      <th>production_company</th>\n",
       "      <td>0.03</td>\n",
       "      <td>499</td>\n",
       "      <td>object</td>\n",
       "      <td>NaN</td>\n",
       "      <td>NaN</td>\n",
       "      <td>NaN</td>\n",
       "      <td>NaN</td>\n",
       "      <td>NaN</td>\n",
       "      <td>NaN</td>\n",
       "      <td>NaN</td>\n",
       "      <td>NaN</td>\n",
       "    </tr>\n",
       "  </tbody>\n",
       "</table>\n",
       "</div>"
      ],
      "text/plain": [
       "                                  null_%  null_count    dtype    count  \\\n",
       "index                                                                    \n",
       "tomatometer_top_critics_count       0.00           0    int64  17712.0   \n",
       "tomatometer_fresh_critics_count     0.00           0    int64  17712.0   \n",
       "tomatometer_rotten_critics_count    0.00           0    int64  17712.0   \n",
       "runtime                             0.02         314  float64  17398.0   \n",
       "tomatometer_rating                  0.00          44  float64  17668.0   \n",
       "tomatometer_count                   0.00          44  float64  17668.0   \n",
       "movie_title                         0.00           0   object      NaN   \n",
       "genres                              0.00          19   object      NaN   \n",
       "directors                           0.01         194   object      NaN   \n",
       "authors                             0.09        1542   object      NaN   \n",
       "original_release_date               0.07        1166   object      NaN   \n",
       "production_company                  0.03         499   object      NaN   \n",
       "\n",
       "                                    mean    std  min   25%   50%    75%    max  \n",
       "index                                                                           \n",
       "tomatometer_top_critics_count      14.59  15.15  0.0   3.0   8.0   23.0   69.0  \n",
       "tomatometer_fresh_critics_count    36.37  52.60  0.0   6.0  16.0   44.0  497.0  \n",
       "tomatometer_rotten_critics_count   20.70  30.25  0.0   3.0   8.0   24.0  303.0  \n",
       "runtime                           102.21  18.70  5.0  90.0  99.0  111.0  266.0  \n",
       "tomatometer_rating                 60.88  28.44  0.0  38.0  67.0   86.0  100.0  \n",
       "tomatometer_count                  57.14  68.37  5.0  12.0  28.0   75.0  574.0  \n",
       "movie_title                          NaN    NaN  NaN   NaN   NaN    NaN    NaN  \n",
       "genres                               NaN    NaN  NaN   NaN   NaN    NaN    NaN  \n",
       "directors                            NaN    NaN  NaN   NaN   NaN    NaN    NaN  \n",
       "authors                              NaN    NaN  NaN   NaN   NaN    NaN    NaN  \n",
       "original_release_date                NaN    NaN  NaN   NaN   NaN    NaN    NaN  \n",
       "production_company                   NaN    NaN  NaN   NaN   NaN    NaN    NaN  "
      ]
     },
     "execution_count": 199,
     "metadata": {},
     "output_type": "execute_result"
    }
   ],
   "source": [
    "eda.summary_statistics(rotten_tomatoes)"
   ]
  },
  {
   "attachments": {},
   "cell_type": "markdown",
   "metadata": {},
   "source": [
    "## DataFrames merge:\n",
    "\n",
    "- Focus on enriching the API's Dataset with the rotten tomatoes csv.\n",
    "- Used string matching Algorith from the Difflib library, joined on new index and year of release.\n",
    "- This resulted in 74/100 rows match, reasonable for the analysis that follows."
   ]
  },
  {
   "cell_type": "code",
   "execution_count": 200,
   "metadata": {},
   "outputs": [
    {
     "data": {
      "text/html": [
       "<div>\n",
       "<style scoped>\n",
       "    .dataframe tbody tr th:only-of-type {\n",
       "        vertical-align: middle;\n",
       "    }\n",
       "\n",
       "    .dataframe tbody tr th {\n",
       "        vertical-align: top;\n",
       "    }\n",
       "\n",
       "    .dataframe thead th {\n",
       "        text-align: right;\n",
       "    }\n",
       "</style>\n",
       "<table border=\"1\" class=\"dataframe\">\n",
       "  <thead>\n",
       "    <tr style=\"text-align: right;\">\n",
       "      <th></th>\n",
       "      <th>imbd_rating</th>\n",
       "      <th>imbd_votecount</th>\n",
       "      <th>imbd_title</th>\n",
       "      <th>year</th>\n",
       "      <th>movie_title</th>\n",
       "    </tr>\n",
       "  </thead>\n",
       "  <tbody>\n",
       "    <tr>\n",
       "      <th>0</th>\n",
       "      <td>9.3</td>\n",
       "      <td>2695887</td>\n",
       "      <td>The Shawshank Redemption</td>\n",
       "      <td>1994</td>\n",
       "      <td>The Shawshank Redemption</td>\n",
       "    </tr>\n",
       "    <tr>\n",
       "      <th>1</th>\n",
       "      <td>9.2</td>\n",
       "      <td>1870922</td>\n",
       "      <td>The Godfather</td>\n",
       "      <td>1972</td>\n",
       "      <td>The Godfather</td>\n",
       "    </tr>\n",
       "    <tr>\n",
       "      <th>2</th>\n",
       "      <td>9.0</td>\n",
       "      <td>2669915</td>\n",
       "      <td>The Dark Knight</td>\n",
       "      <td>2008</td>\n",
       "      <td>The Dark Knight</td>\n",
       "    </tr>\n",
       "    <tr>\n",
       "      <th>3</th>\n",
       "      <td>9.0</td>\n",
       "      <td>1279091</td>\n",
       "      <td>The Godfather: Part II</td>\n",
       "      <td>1974</td>\n",
       "      <td>The Godfather, Part II</td>\n",
       "    </tr>\n",
       "    <tr>\n",
       "      <th>4</th>\n",
       "      <td>9.0</td>\n",
       "      <td>796537</td>\n",
       "      <td>De 12 gezworenen</td>\n",
       "      <td>1957</td>\n",
       "      <td>nan</td>\n",
       "    </tr>\n",
       "    <tr>\n",
       "      <th>...</th>\n",
       "      <td>...</td>\n",
       "      <td>...</td>\n",
       "      <td>...</td>\n",
       "      <td>...</td>\n",
       "      <td>...</td>\n",
       "    </tr>\n",
       "    <tr>\n",
       "      <th>95</th>\n",
       "      <td>8.3</td>\n",
       "      <td>159979</td>\n",
       "      <td>M - Eine Stadt sucht einen Mörder</td>\n",
       "      <td>1931</td>\n",
       "      <td>nan</td>\n",
       "    </tr>\n",
       "    <tr>\n",
       "      <th>96</th>\n",
       "      <td>8.3</td>\n",
       "      <td>296955</td>\n",
       "      <td>Lawrence of Arabia</td>\n",
       "      <td>1962</td>\n",
       "      <td>Lawrence of Arabia</td>\n",
       "    </tr>\n",
       "    <tr>\n",
       "      <th>97</th>\n",
       "      <td>8.3</td>\n",
       "      <td>331183</td>\n",
       "      <td>North by Northwest</td>\n",
       "      <td>1959</td>\n",
       "      <td>North by Northwest</td>\n",
       "    </tr>\n",
       "    <tr>\n",
       "      <th>98</th>\n",
       "      <td>8.3</td>\n",
       "      <td>405906</td>\n",
       "      <td>Vertigo</td>\n",
       "      <td>1958</td>\n",
       "      <td>Vertigo</td>\n",
       "    </tr>\n",
       "    <tr>\n",
       "      <th>99</th>\n",
       "      <td>8.3</td>\n",
       "      <td>761532</td>\n",
       "      <td>Le fabuleux destin d'Amélie Poulain</td>\n",
       "      <td>2001</td>\n",
       "      <td>nan</td>\n",
       "    </tr>\n",
       "  </tbody>\n",
       "</table>\n",
       "<p>100 rows × 5 columns</p>\n",
       "</div>"
      ],
      "text/plain": [
       "    imbd_rating  imbd_votecount                           imbd_title  year  \\\n",
       "0           9.3         2695887             The Shawshank Redemption  1994   \n",
       "1           9.2         1870922                        The Godfather  1972   \n",
       "2           9.0         2669915                      The Dark Knight  2008   \n",
       "3           9.0         1279091               The Godfather: Part II  1974   \n",
       "4           9.0          796537                     De 12 gezworenen  1957   \n",
       "..          ...             ...                                  ...   ...   \n",
       "95          8.3          159979    M - Eine Stadt sucht einen Mörder  1931   \n",
       "96          8.3          296955                   Lawrence of Arabia  1962   \n",
       "97          8.3          331183                   North by Northwest  1959   \n",
       "98          8.3          405906                              Vertigo  1958   \n",
       "99          8.3          761532  Le fabuleux destin d'Amélie Poulain  2001   \n",
       "\n",
       "                 movie_title  \n",
       "0   The Shawshank Redemption  \n",
       "1              The Godfather  \n",
       "2            The Dark Knight  \n",
       "3     The Godfather, Part II  \n",
       "4                        nan  \n",
       "..                       ...  \n",
       "95                       nan  \n",
       "96        Lawrence of Arabia  \n",
       "97        North by Northwest  \n",
       "98                   Vertigo  \n",
       "99                       nan  \n",
       "\n",
       "[100 rows x 5 columns]"
      ]
     },
     "execution_count": 200,
     "metadata": {},
     "output_type": "execute_result"
    }
   ],
   "source": [
    "eda.str_match_index(imbd_table,\"imbd_title\",rotten_tomatoes,\"movie_title\")"
   ]
  },
  {
   "cell_type": "code",
   "execution_count": 201,
   "metadata": {},
   "outputs": [],
   "source": [
    "# Changing datatypes to use as index join\n",
    "rotten_tomatoes[\"year\"] = rotten_tomatoes[\"original_release_date\"].str.slice(start=0,stop=4)\n",
    "imbd_table[\"year\"] = imbd_table[\"year\"].astype(str)"
   ]
  },
  {
   "cell_type": "code",
   "execution_count": 202,
   "metadata": {},
   "outputs": [
    {
     "data": {
      "text/html": [
       "<div>\n",
       "<style scoped>\n",
       "    .dataframe tbody tr th:only-of-type {\n",
       "        vertical-align: middle;\n",
       "    }\n",
       "\n",
       "    .dataframe tbody tr th {\n",
       "        vertical-align: top;\n",
       "    }\n",
       "\n",
       "    .dataframe thead th {\n",
       "        text-align: right;\n",
       "    }\n",
       "</style>\n",
       "<table border=\"1\" class=\"dataframe\">\n",
       "  <thead>\n",
       "    <tr style=\"text-align: right;\">\n",
       "      <th></th>\n",
       "      <th>imbd_rating</th>\n",
       "      <th>imbd_votecount</th>\n",
       "      <th>imbd_title</th>\n",
       "      <th>year</th>\n",
       "      <th>movie_title</th>\n",
       "      <th>genres</th>\n",
       "      <th>directors</th>\n",
       "      <th>authors</th>\n",
       "      <th>original_release_date</th>\n",
       "      <th>runtime</th>\n",
       "      <th>production_company</th>\n",
       "      <th>tomatometer_rating</th>\n",
       "      <th>tomatometer_count</th>\n",
       "      <th>tomatometer_top_critics_count</th>\n",
       "      <th>tomatometer_fresh_critics_count</th>\n",
       "      <th>tomatometer_rotten_critics_count</th>\n",
       "    </tr>\n",
       "  </thead>\n",
       "  <tbody>\n",
       "    <tr>\n",
       "      <th>0</th>\n",
       "      <td>9.3</td>\n",
       "      <td>2695887</td>\n",
       "      <td>The Shawshank Redemption</td>\n",
       "      <td>1994</td>\n",
       "      <td>The Shawshank Redemption</td>\n",
       "      <td>Drama</td>\n",
       "      <td>Frank Darabont</td>\n",
       "      <td>Frank Darabont</td>\n",
       "      <td>1994-09-10</td>\n",
       "      <td>142.0</td>\n",
       "      <td>Columbia Pictures</td>\n",
       "      <td>91.0</td>\n",
       "      <td>75.0</td>\n",
       "      <td>19</td>\n",
       "      <td>68</td>\n",
       "      <td>7</td>\n",
       "    </tr>\n",
       "    <tr>\n",
       "      <th>1</th>\n",
       "      <td>9.2</td>\n",
       "      <td>1870922</td>\n",
       "      <td>The Godfather</td>\n",
       "      <td>1972</td>\n",
       "      <td>The Godfather</td>\n",
       "      <td>Drama</td>\n",
       "      <td>Francis Ford Coppola</td>\n",
       "      <td>Francis Ford Coppola, Mario Puzo</td>\n",
       "      <td>1972-03-24</td>\n",
       "      <td>177.0</td>\n",
       "      <td>Paramount Pictures</td>\n",
       "      <td>98.0</td>\n",
       "      <td>99.0</td>\n",
       "      <td>24</td>\n",
       "      <td>97</td>\n",
       "      <td>2</td>\n",
       "    </tr>\n",
       "    <tr>\n",
       "      <th>2</th>\n",
       "      <td>9.0</td>\n",
       "      <td>2669915</td>\n",
       "      <td>The Dark Knight</td>\n",
       "      <td>2008</td>\n",
       "      <td>The Dark Knight</td>\n",
       "      <td>Action &amp; Adventure, Drama, Science Fiction &amp; F...</td>\n",
       "      <td>Christopher Nolan</td>\n",
       "      <td>Christopher Nolan, Jonathan Nolan</td>\n",
       "      <td>2008-07-18</td>\n",
       "      <td>152.0</td>\n",
       "      <td>Warner Bros. Pictures/Legendary</td>\n",
       "      <td>94.0</td>\n",
       "      <td>340.0</td>\n",
       "      <td>63</td>\n",
       "      <td>320</td>\n",
       "      <td>20</td>\n",
       "    </tr>\n",
       "    <tr>\n",
       "      <th>3</th>\n",
       "      <td>9.0</td>\n",
       "      <td>1279091</td>\n",
       "      <td>The Godfather: Part II</td>\n",
       "      <td>1974</td>\n",
       "      <td>The Godfather, Part II</td>\n",
       "      <td>Drama, Mystery &amp; Suspense</td>\n",
       "      <td>Francis Ford Coppola</td>\n",
       "      <td>Mario Puzo, Francis Ford Coppola</td>\n",
       "      <td>1974-12-20</td>\n",
       "      <td>200.0</td>\n",
       "      <td>Paramount Pictures</td>\n",
       "      <td>98.0</td>\n",
       "      <td>83.0</td>\n",
       "      <td>17</td>\n",
       "      <td>81</td>\n",
       "      <td>2</td>\n",
       "    </tr>\n",
       "    <tr>\n",
       "      <th>4</th>\n",
       "      <td>9.0</td>\n",
       "      <td>1363421</td>\n",
       "      <td>Schindler's List</td>\n",
       "      <td>1993</td>\n",
       "      <td>Schindler's List</td>\n",
       "      <td>Drama</td>\n",
       "      <td>Steven Spielberg</td>\n",
       "      <td>Steven Zaillian</td>\n",
       "      <td>1993-12-15</td>\n",
       "      <td>195.0</td>\n",
       "      <td>Universal Pictures</td>\n",
       "      <td>97.0</td>\n",
       "      <td>100.0</td>\n",
       "      <td>24</td>\n",
       "      <td>97</td>\n",
       "      <td>3</td>\n",
       "    </tr>\n",
       "    <tr>\n",
       "      <th>...</th>\n",
       "      <td>...</td>\n",
       "      <td>...</td>\n",
       "      <td>...</td>\n",
       "      <td>...</td>\n",
       "      <td>...</td>\n",
       "      <td>...</td>\n",
       "      <td>...</td>\n",
       "      <td>...</td>\n",
       "      <td>...</td>\n",
       "      <td>...</td>\n",
       "      <td>...</td>\n",
       "      <td>...</td>\n",
       "      <td>...</td>\n",
       "      <td>...</td>\n",
       "      <td>...</td>\n",
       "      <td>...</td>\n",
       "    </tr>\n",
       "    <tr>\n",
       "      <th>69</th>\n",
       "      <td>8.4</td>\n",
       "      <td>82428</td>\n",
       "      <td>Idi i smotri</td>\n",
       "      <td>1985</td>\n",
       "      <td>Come and See (Idi i smotri)</td>\n",
       "      <td>Art House &amp; International, Drama</td>\n",
       "      <td>Elem Klimov</td>\n",
       "      <td>Ales Adamovich, Elem Klimov, Ales Adamovich</td>\n",
       "      <td>1985-10-17</td>\n",
       "      <td>142.0</td>\n",
       "      <td>Kino International</td>\n",
       "      <td>97.0</td>\n",
       "      <td>34.0</td>\n",
       "      <td>7</td>\n",
       "      <td>33</td>\n",
       "      <td>1</td>\n",
       "    </tr>\n",
       "    <tr>\n",
       "      <th>70</th>\n",
       "      <td>8.3</td>\n",
       "      <td>445614</td>\n",
       "      <td>Citizen Kane</td>\n",
       "      <td>1941</td>\n",
       "      <td>Citizen Kane</td>\n",
       "      <td>Classics, Drama, Mystery &amp; Suspense</td>\n",
       "      <td>Orson Welles</td>\n",
       "      <td>Herman J. Mankiewicz, Orson Welles</td>\n",
       "      <td>1941-05-01</td>\n",
       "      <td>119.0</td>\n",
       "      <td>RKO Radio Pictures</td>\n",
       "      <td>100.0</td>\n",
       "      <td>93.0</td>\n",
       "      <td>23</td>\n",
       "      <td>93</td>\n",
       "      <td>0</td>\n",
       "    </tr>\n",
       "    <tr>\n",
       "      <th>71</th>\n",
       "      <td>8.3</td>\n",
       "      <td>296955</td>\n",
       "      <td>Lawrence of Arabia</td>\n",
       "      <td>1962</td>\n",
       "      <td>Lawrence of Arabia</td>\n",
       "      <td>Action &amp; Adventure, Classics, Drama</td>\n",
       "      <td>David Lean</td>\n",
       "      <td>Robert Bolt, Michael Wilson</td>\n",
       "      <td>1962-12-16</td>\n",
       "      <td>216.0</td>\n",
       "      <td>Columbia Pictures</td>\n",
       "      <td>98.0</td>\n",
       "      <td>88.0</td>\n",
       "      <td>23</td>\n",
       "      <td>86</td>\n",
       "      <td>2</td>\n",
       "    </tr>\n",
       "    <tr>\n",
       "      <th>72</th>\n",
       "      <td>8.3</td>\n",
       "      <td>331183</td>\n",
       "      <td>North by Northwest</td>\n",
       "      <td>1959</td>\n",
       "      <td>North by Northwest</td>\n",
       "      <td>Classics, Mystery &amp; Suspense</td>\n",
       "      <td>Alfred Hitchcock</td>\n",
       "      <td>Ernest Lehman</td>\n",
       "      <td>1959-09-17</td>\n",
       "      <td>136.0</td>\n",
       "      <td>Turner Entertainment</td>\n",
       "      <td>99.0</td>\n",
       "      <td>78.0</td>\n",
       "      <td>18</td>\n",
       "      <td>77</td>\n",
       "      <td>1</td>\n",
       "    </tr>\n",
       "    <tr>\n",
       "      <th>73</th>\n",
       "      <td>8.3</td>\n",
       "      <td>405906</td>\n",
       "      <td>Vertigo</td>\n",
       "      <td>1958</td>\n",
       "      <td>Vertigo</td>\n",
       "      <td>Classics, Drama, Mystery &amp; Suspense, Romance</td>\n",
       "      <td>Alfred Hitchcock</td>\n",
       "      <td>Samuel W. Taylor, Samuel Taylor, Alec Coppel</td>\n",
       "      <td>1958-01-01</td>\n",
       "      <td>128.0</td>\n",
       "      <td>Paramount Pictures</td>\n",
       "      <td>94.0</td>\n",
       "      <td>81.0</td>\n",
       "      <td>22</td>\n",
       "      <td>76</td>\n",
       "      <td>5</td>\n",
       "    </tr>\n",
       "  </tbody>\n",
       "</table>\n",
       "<p>74 rows × 16 columns</p>\n",
       "</div>"
      ],
      "text/plain": [
       "    imbd_rating  imbd_votecount                imbd_title  year  \\\n",
       "0           9.3         2695887  The Shawshank Redemption  1994   \n",
       "1           9.2         1870922             The Godfather  1972   \n",
       "2           9.0         2669915           The Dark Knight  2008   \n",
       "3           9.0         1279091    The Godfather: Part II  1974   \n",
       "4           9.0         1363421          Schindler's List  1993   \n",
       "..          ...             ...                       ...   ...   \n",
       "69          8.4           82428              Idi i smotri  1985   \n",
       "70          8.3          445614              Citizen Kane  1941   \n",
       "71          8.3          296955        Lawrence of Arabia  1962   \n",
       "72          8.3          331183        North by Northwest  1959   \n",
       "73          8.3          405906                   Vertigo  1958   \n",
       "\n",
       "                    movie_title  \\\n",
       "0      The Shawshank Redemption   \n",
       "1                 The Godfather   \n",
       "2               The Dark Knight   \n",
       "3        The Godfather, Part II   \n",
       "4              Schindler's List   \n",
       "..                          ...   \n",
       "69  Come and See (Idi i smotri)   \n",
       "70                 Citizen Kane   \n",
       "71           Lawrence of Arabia   \n",
       "72           North by Northwest   \n",
       "73                      Vertigo   \n",
       "\n",
       "                                               genres             directors  \\\n",
       "0                                               Drama        Frank Darabont   \n",
       "1                                               Drama  Francis Ford Coppola   \n",
       "2   Action & Adventure, Drama, Science Fiction & F...     Christopher Nolan   \n",
       "3                           Drama, Mystery & Suspense  Francis Ford Coppola   \n",
       "4                                               Drama      Steven Spielberg   \n",
       "..                                                ...                   ...   \n",
       "69                   Art House & International, Drama           Elem Klimov   \n",
       "70                Classics, Drama, Mystery & Suspense          Orson Welles   \n",
       "71                Action & Adventure, Classics, Drama            David Lean   \n",
       "72                       Classics, Mystery & Suspense      Alfred Hitchcock   \n",
       "73       Classics, Drama, Mystery & Suspense, Romance      Alfred Hitchcock   \n",
       "\n",
       "                                         authors original_release_date  \\\n",
       "0                                 Frank Darabont            1994-09-10   \n",
       "1               Francis Ford Coppola, Mario Puzo            1972-03-24   \n",
       "2              Christopher Nolan, Jonathan Nolan            2008-07-18   \n",
       "3               Mario Puzo, Francis Ford Coppola            1974-12-20   \n",
       "4                                Steven Zaillian            1993-12-15   \n",
       "..                                           ...                   ...   \n",
       "69   Ales Adamovich, Elem Klimov, Ales Adamovich            1985-10-17   \n",
       "70            Herman J. Mankiewicz, Orson Welles            1941-05-01   \n",
       "71                   Robert Bolt, Michael Wilson            1962-12-16   \n",
       "72                                 Ernest Lehman            1959-09-17   \n",
       "73  Samuel W. Taylor, Samuel Taylor, Alec Coppel            1958-01-01   \n",
       "\n",
       "    runtime               production_company  tomatometer_rating  \\\n",
       "0     142.0                Columbia Pictures                91.0   \n",
       "1     177.0               Paramount Pictures                98.0   \n",
       "2     152.0  Warner Bros. Pictures/Legendary                94.0   \n",
       "3     200.0               Paramount Pictures                98.0   \n",
       "4     195.0               Universal Pictures                97.0   \n",
       "..      ...                              ...                 ...   \n",
       "69    142.0               Kino International                97.0   \n",
       "70    119.0               RKO Radio Pictures               100.0   \n",
       "71    216.0                Columbia Pictures                98.0   \n",
       "72    136.0             Turner Entertainment                99.0   \n",
       "73    128.0               Paramount Pictures                94.0   \n",
       "\n",
       "    tomatometer_count  tomatometer_top_critics_count  \\\n",
       "0                75.0                             19   \n",
       "1                99.0                             24   \n",
       "2               340.0                             63   \n",
       "3                83.0                             17   \n",
       "4               100.0                             24   \n",
       "..                ...                            ...   \n",
       "69               34.0                              7   \n",
       "70               93.0                             23   \n",
       "71               88.0                             23   \n",
       "72               78.0                             18   \n",
       "73               81.0                             22   \n",
       "\n",
       "    tomatometer_fresh_critics_count  tomatometer_rotten_critics_count  \n",
       "0                                68                                 7  \n",
       "1                                97                                 2  \n",
       "2                               320                                20  \n",
       "3                                81                                 2  \n",
       "4                                97                                 3  \n",
       "..                              ...                               ...  \n",
       "69                               33                                 1  \n",
       "70                               93                                 0  \n",
       "71                               86                                 2  \n",
       "72                               77                                 1  \n",
       "73                               76                                 5  \n",
       "\n",
       "[74 rows x 16 columns]"
      ]
     },
     "execution_count": 202,
     "metadata": {},
     "output_type": "execute_result"
    }
   ],
   "source": [
    "# Merge\n",
    "full_table = pd.merge(imbd_table,rotten_tomatoes,how=\"inner\",on=[\"movie_title\",\"year\"])\n",
    "full_table"
   ]
  },
  {
   "cell_type": "code",
   "execution_count": 203,
   "metadata": {},
   "outputs": [],
   "source": [
    "# Change imbd_rating base to be clearly comparable with the critics rating.\n",
    "full_table[\"imbd_rating\"] = full_table[\"imbd_rating\"]*10"
   ]
  },
  {
   "attachments": {},
   "cell_type": "markdown",
   "metadata": {},
   "source": [
    "## Summary statistics for the main DF\n",
    "\n",
    "- Result after the merge: 74/100 movies.\n",
    "- the user rating (imbd_rating) average is considerably lower than the critics rating (tomatometer_rating)\n",
    "- max user rating is 93, vs 100 from the critics\n",
    "- the critics rating shows a higher dispersion\n"
   ]
  },
  {
   "cell_type": "code",
   "execution_count": 204,
   "metadata": {},
   "outputs": [
    {
     "data": {
      "text/html": [
       "<div>\n",
       "<style scoped>\n",
       "    .dataframe tbody tr th:only-of-type {\n",
       "        vertical-align: middle;\n",
       "    }\n",
       "\n",
       "    .dataframe tbody tr th {\n",
       "        vertical-align: top;\n",
       "    }\n",
       "\n",
       "    .dataframe thead th {\n",
       "        text-align: right;\n",
       "    }\n",
       "</style>\n",
       "<table border=\"1\" class=\"dataframe\">\n",
       "  <thead>\n",
       "    <tr style=\"text-align: right;\">\n",
       "      <th></th>\n",
       "      <th>null_%</th>\n",
       "      <th>null_count</th>\n",
       "      <th>dtype</th>\n",
       "      <th>count</th>\n",
       "      <th>mean</th>\n",
       "      <th>std</th>\n",
       "      <th>min</th>\n",
       "      <th>25%</th>\n",
       "      <th>50%</th>\n",
       "      <th>75%</th>\n",
       "      <th>max</th>\n",
       "    </tr>\n",
       "    <tr>\n",
       "      <th>index</th>\n",
       "      <th></th>\n",
       "      <th></th>\n",
       "      <th></th>\n",
       "      <th></th>\n",
       "      <th></th>\n",
       "      <th></th>\n",
       "      <th></th>\n",
       "      <th></th>\n",
       "      <th></th>\n",
       "      <th></th>\n",
       "      <th></th>\n",
       "    </tr>\n",
       "  </thead>\n",
       "  <tbody>\n",
       "    <tr>\n",
       "      <th>imbd_votecount</th>\n",
       "      <td>0.0</td>\n",
       "      <td>0</td>\n",
       "      <td>int64</td>\n",
       "      <td>74.0</td>\n",
       "      <td>1069850.62</td>\n",
       "      <td>612404.23</td>\n",
       "      <td>46252.0</td>\n",
       "      <td>548073.50</td>\n",
       "      <td>1052229.0</td>\n",
       "      <td>1370372.75</td>\n",
       "      <td>2695887.0</td>\n",
       "    </tr>\n",
       "    <tr>\n",
       "      <th>tomatometer_top_critics_count</th>\n",
       "      <td>0.0</td>\n",
       "      <td>0</td>\n",
       "      <td>int64</td>\n",
       "      <td>74.0</td>\n",
       "      <td>33.35</td>\n",
       "      <td>17.39</td>\n",
       "      <td>3.0</td>\n",
       "      <td>21.25</td>\n",
       "      <td>28.0</td>\n",
       "      <td>48.75</td>\n",
       "      <td>67.0</td>\n",
       "    </tr>\n",
       "    <tr>\n",
       "      <th>tomatometer_fresh_critics_count</th>\n",
       "      <td>0.0</td>\n",
       "      <td>0</td>\n",
       "      <td>int64</td>\n",
       "      <td>74.0</td>\n",
       "      <td>149.09</td>\n",
       "      <td>110.45</td>\n",
       "      <td>13.0</td>\n",
       "      <td>75.25</td>\n",
       "      <td>97.0</td>\n",
       "      <td>225.00</td>\n",
       "      <td>495.0</td>\n",
       "    </tr>\n",
       "    <tr>\n",
       "      <th>tomatometer_rotten_critics_count</th>\n",
       "      <td>0.0</td>\n",
       "      <td>0</td>\n",
       "      <td>int64</td>\n",
       "      <td>74.0</td>\n",
       "      <td>16.66</td>\n",
       "      <td>26.43</td>\n",
       "      <td>0.0</td>\n",
       "      <td>2.00</td>\n",
       "      <td>8.0</td>\n",
       "      <td>19.00</td>\n",
       "      <td>182.0</td>\n",
       "    </tr>\n",
       "    <tr>\n",
       "      <th>imbd_rating</th>\n",
       "      <td>0.0</td>\n",
       "      <td>0</td>\n",
       "      <td>float64</td>\n",
       "      <td>74.0</td>\n",
       "      <td>85.35</td>\n",
       "      <td>2.25</td>\n",
       "      <td>83.0</td>\n",
       "      <td>84.00</td>\n",
       "      <td>85.0</td>\n",
       "      <td>86.00</td>\n",
       "      <td>93.0</td>\n",
       "    </tr>\n",
       "    <tr>\n",
       "      <th>runtime</th>\n",
       "      <td>0.0</td>\n",
       "      <td>0</td>\n",
       "      <td>float64</td>\n",
       "      <td>74.0</td>\n",
       "      <td>136.76</td>\n",
       "      <td>29.76</td>\n",
       "      <td>80.0</td>\n",
       "      <td>116.25</td>\n",
       "      <td>136.0</td>\n",
       "      <td>153.00</td>\n",
       "      <td>216.0</td>\n",
       "    </tr>\n",
       "    <tr>\n",
       "      <th>tomatometer_rating</th>\n",
       "      <td>0.0</td>\n",
       "      <td>0</td>\n",
       "      <td>float64</td>\n",
       "      <td>74.0</td>\n",
       "      <td>91.72</td>\n",
       "      <td>7.61</td>\n",
       "      <td>68.0</td>\n",
       "      <td>88.25</td>\n",
       "      <td>94.0</td>\n",
       "      <td>97.00</td>\n",
       "      <td>100.0</td>\n",
       "    </tr>\n",
       "    <tr>\n",
       "      <th>tomatometer_count</th>\n",
       "      <td>0.0</td>\n",
       "      <td>0</td>\n",
       "      <td>float64</td>\n",
       "      <td>74.0</td>\n",
       "      <td>165.72</td>\n",
       "      <td>126.50</td>\n",
       "      <td>13.0</td>\n",
       "      <td>81.25</td>\n",
       "      <td>101.5</td>\n",
       "      <td>243.50</td>\n",
       "      <td>574.0</td>\n",
       "    </tr>\n",
       "    <tr>\n",
       "      <th>imbd_title</th>\n",
       "      <td>0.0</td>\n",
       "      <td>0</td>\n",
       "      <td>object</td>\n",
       "      <td>NaN</td>\n",
       "      <td>NaN</td>\n",
       "      <td>NaN</td>\n",
       "      <td>NaN</td>\n",
       "      <td>NaN</td>\n",
       "      <td>NaN</td>\n",
       "      <td>NaN</td>\n",
       "      <td>NaN</td>\n",
       "    </tr>\n",
       "    <tr>\n",
       "      <th>year</th>\n",
       "      <td>0.0</td>\n",
       "      <td>0</td>\n",
       "      <td>object</td>\n",
       "      <td>NaN</td>\n",
       "      <td>NaN</td>\n",
       "      <td>NaN</td>\n",
       "      <td>NaN</td>\n",
       "      <td>NaN</td>\n",
       "      <td>NaN</td>\n",
       "      <td>NaN</td>\n",
       "      <td>NaN</td>\n",
       "    </tr>\n",
       "    <tr>\n",
       "      <th>movie_title</th>\n",
       "      <td>0.0</td>\n",
       "      <td>0</td>\n",
       "      <td>object</td>\n",
       "      <td>NaN</td>\n",
       "      <td>NaN</td>\n",
       "      <td>NaN</td>\n",
       "      <td>NaN</td>\n",
       "      <td>NaN</td>\n",
       "      <td>NaN</td>\n",
       "      <td>NaN</td>\n",
       "      <td>NaN</td>\n",
       "    </tr>\n",
       "    <tr>\n",
       "      <th>genres</th>\n",
       "      <td>0.0</td>\n",
       "      <td>0</td>\n",
       "      <td>object</td>\n",
       "      <td>NaN</td>\n",
       "      <td>NaN</td>\n",
       "      <td>NaN</td>\n",
       "      <td>NaN</td>\n",
       "      <td>NaN</td>\n",
       "      <td>NaN</td>\n",
       "      <td>NaN</td>\n",
       "      <td>NaN</td>\n",
       "    </tr>\n",
       "    <tr>\n",
       "      <th>directors</th>\n",
       "      <td>0.0</td>\n",
       "      <td>0</td>\n",
       "      <td>object</td>\n",
       "      <td>NaN</td>\n",
       "      <td>NaN</td>\n",
       "      <td>NaN</td>\n",
       "      <td>NaN</td>\n",
       "      <td>NaN</td>\n",
       "      <td>NaN</td>\n",
       "      <td>NaN</td>\n",
       "      <td>NaN</td>\n",
       "    </tr>\n",
       "    <tr>\n",
       "      <th>authors</th>\n",
       "      <td>0.0</td>\n",
       "      <td>0</td>\n",
       "      <td>object</td>\n",
       "      <td>NaN</td>\n",
       "      <td>NaN</td>\n",
       "      <td>NaN</td>\n",
       "      <td>NaN</td>\n",
       "      <td>NaN</td>\n",
       "      <td>NaN</td>\n",
       "      <td>NaN</td>\n",
       "      <td>NaN</td>\n",
       "    </tr>\n",
       "    <tr>\n",
       "      <th>original_release_date</th>\n",
       "      <td>0.0</td>\n",
       "      <td>0</td>\n",
       "      <td>object</td>\n",
       "      <td>NaN</td>\n",
       "      <td>NaN</td>\n",
       "      <td>NaN</td>\n",
       "      <td>NaN</td>\n",
       "      <td>NaN</td>\n",
       "      <td>NaN</td>\n",
       "      <td>NaN</td>\n",
       "      <td>NaN</td>\n",
       "    </tr>\n",
       "    <tr>\n",
       "      <th>production_company</th>\n",
       "      <td>0.0</td>\n",
       "      <td>0</td>\n",
       "      <td>object</td>\n",
       "      <td>NaN</td>\n",
       "      <td>NaN</td>\n",
       "      <td>NaN</td>\n",
       "      <td>NaN</td>\n",
       "      <td>NaN</td>\n",
       "      <td>NaN</td>\n",
       "      <td>NaN</td>\n",
       "      <td>NaN</td>\n",
       "    </tr>\n",
       "  </tbody>\n",
       "</table>\n",
       "</div>"
      ],
      "text/plain": [
       "                                  null_%  null_count    dtype  count  \\\n",
       "index                                                                  \n",
       "imbd_votecount                       0.0           0    int64   74.0   \n",
       "tomatometer_top_critics_count        0.0           0    int64   74.0   \n",
       "tomatometer_fresh_critics_count      0.0           0    int64   74.0   \n",
       "tomatometer_rotten_critics_count     0.0           0    int64   74.0   \n",
       "imbd_rating                          0.0           0  float64   74.0   \n",
       "runtime                              0.0           0  float64   74.0   \n",
       "tomatometer_rating                   0.0           0  float64   74.0   \n",
       "tomatometer_count                    0.0           0  float64   74.0   \n",
       "imbd_title                           0.0           0   object    NaN   \n",
       "year                                 0.0           0   object    NaN   \n",
       "movie_title                          0.0           0   object    NaN   \n",
       "genres                               0.0           0   object    NaN   \n",
       "directors                            0.0           0   object    NaN   \n",
       "authors                              0.0           0   object    NaN   \n",
       "original_release_date                0.0           0   object    NaN   \n",
       "production_company                   0.0           0   object    NaN   \n",
       "\n",
       "                                        mean        std      min        25%  \\\n",
       "index                                                                         \n",
       "imbd_votecount                    1069850.62  612404.23  46252.0  548073.50   \n",
       "tomatometer_top_critics_count          33.35      17.39      3.0      21.25   \n",
       "tomatometer_fresh_critics_count       149.09     110.45     13.0      75.25   \n",
       "tomatometer_rotten_critics_count       16.66      26.43      0.0       2.00   \n",
       "imbd_rating                            85.35       2.25     83.0      84.00   \n",
       "runtime                               136.76      29.76     80.0     116.25   \n",
       "tomatometer_rating                     91.72       7.61     68.0      88.25   \n",
       "tomatometer_count                     165.72     126.50     13.0      81.25   \n",
       "imbd_title                               NaN        NaN      NaN        NaN   \n",
       "year                                     NaN        NaN      NaN        NaN   \n",
       "movie_title                              NaN        NaN      NaN        NaN   \n",
       "genres                                   NaN        NaN      NaN        NaN   \n",
       "directors                                NaN        NaN      NaN        NaN   \n",
       "authors                                  NaN        NaN      NaN        NaN   \n",
       "original_release_date                    NaN        NaN      NaN        NaN   \n",
       "production_company                       NaN        NaN      NaN        NaN   \n",
       "\n",
       "                                        50%         75%        max  \n",
       "index                                                               \n",
       "imbd_votecount                    1052229.0  1370372.75  2695887.0  \n",
       "tomatometer_top_critics_count          28.0       48.75       67.0  \n",
       "tomatometer_fresh_critics_count        97.0      225.00      495.0  \n",
       "tomatometer_rotten_critics_count        8.0       19.00      182.0  \n",
       "imbd_rating                            85.0       86.00       93.0  \n",
       "runtime                               136.0      153.00      216.0  \n",
       "tomatometer_rating                     94.0       97.00      100.0  \n",
       "tomatometer_count                     101.5      243.50      574.0  \n",
       "imbd_title                              NaN         NaN        NaN  \n",
       "year                                    NaN         NaN        NaN  \n",
       "movie_title                             NaN         NaN        NaN  \n",
       "genres                                  NaN         NaN        NaN  \n",
       "directors                               NaN         NaN        NaN  \n",
       "authors                                 NaN         NaN        NaN  \n",
       "original_release_date                   NaN         NaN        NaN  \n",
       "production_company                      NaN         NaN        NaN  "
      ]
     },
     "execution_count": 204,
     "metadata": {},
     "output_type": "execute_result"
    }
   ],
   "source": [
    "eda.summary_statistics(full_table)"
   ]
  },
  {
   "attachments": {},
   "cell_type": "markdown",
   "metadata": {},
   "source": [
    "## Audience vs Critics: Is the audience more picky in terms of their rating vs Critics?\n",
    "\n",
    "- the distribution of the audience rating (IMBD) vs the critic's rating (tomatometer) clearly show a different skew.\n",
    "    - audience rating has a right skew (more concentration on the lower values) vs a left skew on the critics case.\n",
    "- There seems to be a positive correlation between votecount and rating for the audience.\n",
    "- The dispersion and mean values analyzed in the sumarry statistics are corroborated graphically.\n",
    "\n",
    "### This sample shows evidence that the audience might be more picky with their rating than critics, when evaluating all-time blockbusters.\n"
   ]
  },
  {
   "cell_type": "code",
   "execution_count": 205,
   "metadata": {},
   "outputs": [
    {
     "data": {
      "image/png": "[encoded data removed]",
      "text/plain": [
       "<Figure size 864x864 with 12 Axes>"
      ]
     },
     "metadata": {
      "needs_background": "light"
     },
     "output_type": "display_data"
    }
   ],
   "source": [
    "g = sns.pairplot(data = full_table, vars=['tomatometer_rating','imbd_rating','imbd_votecount'], height=4)\n",
    "g.fig.suptitle(\"User, Critic ratings and votecount\", size=18, weight='bold',y=1.08)\n",
    "plt.savefig('images/2.jpeg')\n",
    "plt.show()"
   ]
  },
  {
   "cell_type": "code",
   "execution_count": 206,
   "metadata": {},
   "outputs": [
    {
     "data": {
      "application/vnd.plotly.v1+json": {
       "config": {
        "plotlyServerURL": "https://plot.ly"
       },
       "data": [
        {
         "hovertemplate": "<b>%{hovertext}</b><br><br>tomatometer_rating=%{x}<br>imbd_rating=%{y}<br>imbd_votecount=%{marker.color}<extra></extra>",
         "hovertext": [
          "The Shawshank Redemption",
          "The Godfather",
          "The Dark Knight",
          "The Godfather: Part II",
          "Schindler's List",
          "The Lord of the Rings: The Return of the King",
          "Pulp Fiction",
          "The Lord of the Rings: The Fellowship of the Ring",
          "The Good, the Bad and the Ugly",
          "Forrest Gump",
          "Fight Club",
          "The Lord of the Rings: The Two Towers",
          "Inception",
          "Star Wars: Episode V - The Empire Strikes Back",
          "The Matrix",
          "Goodfellas",
          "One Flew Over the Cuckoo's Nest",
          "It's a Wonderful Life",
          "The Silence of the Lambs",
          "Saving Private Ryan",
          "Interstellar",
          "The Green Mile",
          "Star Wars: Episode IV - A New Hope",
          "Terminator 2: Judgment Day",
          "The Pianist",
          "Psycho",
          "Gisaengchung",
          "The Lion King",
          "Gladiator",
          "American History X",
          "The Departed",
          "The Usual Suspects",
          "The Prestige",
          "Whiplash",
          "Casablanca",
          "Modern Times",
          "Rear Window",
          "Nuovo Cinema Paradiso",
          "Alien",
          "City Lights",
          "Apocalypse Now",
          "Memento",
          "Django Unchained",
          "WALL·E",
          "Sunset Boulevard",
          "The Shining",
          "Avengers: Infinity War",
          "Witness for the Prosecution",
          "Aliens",
          "Spider-Man: Een nieuw universum",
          "American Beauty",
          "Dr. Strangelove or: How I Learned to Stop Worrying and Love the Bomb",
          "The Dark Knight Rises",
          "Inglourious Basterds",
          "Amadeus",
          "Coco",
          "Toy Story",
          "Joker",
          "Braveheart",
          "Avengers: Endgame",
          "Once Upon a Time in America",
          "Good Will Hunting",
          "3 Idiots",
          "Requiem for a Dream",
          "Toy Story 3",
          "Tengoku to jigoku",
          "Star Wars: Episode VI - Return of the Jedi",
          "Eternal Sunshine of the Spotless Mind",
          "Reservoir Dogs",
          "Idi i smotri",
          "Citizen Kane",
          "Lawrence of Arabia",
          "North by Northwest",
          "Vertigo"
         ],
         "legendgroup": "",
         "marker": {
          "color": [
           2695887,
           1870922,
           2669915,
           1279091,
           1363421,
           1857170,
           2069502,
           1886597,
           766588,
           2093927,
           2141276,
           1677003,
           2368570,
           1300243,
           1924457,
           1169779,
           1013418,
           466308,
           1441909,
           1400321,
           1852238,
           1310761,
           1372690,
           1106289,
           839103,
           676808,
           817357,
           1066010,
           1510184,
           1129033,
           1333658,
           1091417,
           1342184,
           874250,
           575813,
           245084,
           495555,
           264056,
           889307,
           186663,
           672662,
           1246109,
           1566971,
           1123763,
           224287,
           1030407,
           1091968,
           127502,
           723110,
           538827,
           1160733,
           494676,
           1715219,
           1461682,
           404677,
           516618,
           1000989,
           1304293,
           1043556,
           1143642,
           355467,
           981008,
           404334,
           848849,
           842260,
           46252,
           1060902,
           1015223,
           1026110,
           82428,
           445614,
           296955,
           331183,
           405906
          ],
          "coloraxis": "coloraxis",
          "line": {
           "color": "white",
           "width": 0.0001
          },
          "size": 14,
          "symbol": "circle"
         },
         "mode": "markers",
         "name": "",
         "orientation": "v",
         "showlegend": false,
         "type": "scatter",
         "x": [
          91,
          98,
          94,
          98,
          97,
          93,
          92,
          91,
          97,
          71,
          79,
          95,
          87,
          94,
          88,
          96,
          94,
          94,
          96,
          93,
          72,
          78,
          92,
          93,
          95,
          96,
          99,
          93,
          77,
          83,
          91,
          89,
          76,
          94,
          99,
          100,
          99,
          90,
          98,
          98,
          98,
          93,
          87,
          95,
          99,
          84,
          85,
          100,
          97,
          97,
          87,
          98,
          87,
          89,
          93,
          97,
          100,
          68,
          78,
          94,
          87,
          97,
          100,
          79,
          98,
          95,
          82,
          93,
          92,
          97,
          100,
          98,
          99,
          94
         ],
         "xaxis": "x",
         "y": [
          93,
          92,
          90,
          90,
          90,
          90,
          89,
          88,
          88,
          88,
          88,
          88,
          88,
          87,
          87,
          87,
          87,
          86,
          86,
          86,
          86,
          86,
          86,
          86,
          85,
          85,
          85,
          85,
          85,
          85,
          85,
          85,
          85,
          85,
          85,
          85,
          85,
          85,
          85,
          85,
          85,
          84,
          84,
          84,
          84,
          84,
          84,
          84,
          84,
          84,
          84,
          84,
          84,
          83,
          84,
          84,
          83,
          84,
          84,
          84,
          83,
          83,
          84,
          83,
          83,
          84,
          83,
          83,
          83,
          84,
          83,
          83,
          83,
          83
         ],
         "yaxis": "y"
        },
        {
         "alignmentgroup": "True",
         "bingroup": "x",
         "hovertemplate": "tomatometer_rating=%{x}<br>count=%{y}<extra></extra>",
         "legendgroup": "",
         "marker": {
          "color": "#0d0887"
         },
         "name": "",
         "offsetgroup": "",
         "opacity": 0.5,
         "showlegend": false,
         "type": "histogram",
         "x": [
          91,
          98,
          94,
          98,
          97,
          93,
          92,
          91,
          97,
          71,
          79,
          95,
          87,
          94,
          88,
          96,
          94,
          94,
          96,
          93,
          72,
          78,
          92,
          93,
          95,
          96,
          99,
          93,
          77,
          83,
          91,
          89,
          76,
          94,
          99,
          100,
          99,
          90,
          98,
          98,
          98,
          93,
          87,
          95,
          99,
          84,
          85,
          100,
          97,
          97,
          87,
          98,
          87,
          89,
          93,
          97,
          100,
          68,
          78,
          94,
          87,
          97,
          100,
          79,
          98,
          95,
          82,
          93,
          92,
          97,
          100,
          98,
          99,
          94
         ],
         "xaxis": "x3",
         "yaxis": "y3"
        },
        {
         "alignmentgroup": "True",
         "bingroup": "y",
         "hovertemplate": "imbd_rating=%{y}<br>count=%{x}<extra></extra>",
         "legendgroup": "",
         "marker": {
          "color": "#0d0887"
         },
         "name": "",
         "offsetgroup": "",
         "opacity": 0.5,
         "showlegend": false,
         "type": "histogram",
         "xaxis": "x2",
         "y": [
          93,
          92,
          90,
          90,
          90,
          90,
          89,
          88,
          88,
          88,
          88,
          88,
          88,
          87,
          87,
          87,
          87,
          86,
          86,
          86,
          86,
          86,
          86,
          86,
          85,
          85,
          85,
          85,
          85,
          85,
          85,
          85,
          85,
          85,
          85,
          85,
          85,
          85,
          85,
          85,
          85,
          84,
          84,
          84,
          84,
          84,
          84,
          84,
          84,
          84,
          84,
          84,
          84,
          83,
          84,
          84,
          83,
          84,
          84,
          84,
          83,
          83,
          84,
          83,
          83,
          84,
          83,
          83,
          83,
          84,
          83,
          83,
          83,
          83
         ],
         "yaxis": "y2"
        }
       ],
       "layout": {
        "barmode": "overlay",
        "coloraxis": {
         "colorbar": {
          "title": {
           "text": "imbd_votecount"
          }
         },
         "colorscale": [
          [
           0,
           "#0d0887"
          ],
          [
           0.1111111111111111,
           "#46039f"
          ],
          [
           0.2222222222222222,
           "#7201a8"
          ],
          [
           0.3333333333333333,
           "#9c179e"
          ],
          [
           0.4444444444444444,
           "#bd3786"
          ],
          [
           0.5555555555555556,
           "#d8576b"
          ],
          [
           0.6666666666666666,
           "#ed7953"
          ],
          [
           0.7777777777777778,
           "#fb9f3a"
          ],
          [
           0.8888888888888888,
           "#fdca26"
          ],
          [
           1,
           "#f0f921"
          ]
         ]
        },
        "height": 800,
        "legend": {
         "tracegroupgap": 0
        },
        "template": {
         "data": {
          "bar": [
           {
            "error_x": {
             "color": "#2a3f5f"
            },
            "error_y": {
             "color": "#2a3f5f"
            },
            "marker": {
             "line": {
              "color": "#E5ECF6",
              "width": 0.5
             },
             "pattern": {
              "fillmode": "overlay",
              "size": 10,
              "solidity": 0.2
             }
            },
            "type": "bar"
           }
          ],
          "barpolar": [
           {
            "marker": {
             "line": {
              "color": "#E5ECF6",
              "width": 0.5
             },
             "pattern": {
              "fillmode": "overlay",
              "size": 10,
              "solidity": 0.2
             }
            },
            "type": "barpolar"
           }
          ],
          "carpet": [
           {
            "aaxis": {
             "endlinecolor": "#2a3f5f",
             "gridcolor": "white",
             "linecolor": "white",
             "minorgridcolor": "white",
             "startlinecolor": "#2a3f5f"
            },
            "baxis": {
             "endlinecolor": "#2a3f5f",
             "gridcolor": "white",
             "linecolor": "white",
             "minorgridcolor": "white",
             "startlinecolor": "#2a3f5f"
            },
            "type": "carpet"
           }
          ],
          "choropleth": [
           {
            "colorbar": {
             "outlinewidth": 0,
             "ticks": ""
            },
            "type": "choropleth"
           }
          ],
          "contour": [
           {
            "colorbar": {
             "outlinewidth": 0,
             "ticks": ""
            },
            "colorscale": [
             [
              0,
              "#0d0887"
             ],
             [
              0.1111111111111111,
              "#46039f"
             ],
             [
              0.2222222222222222,
              "#7201a8"
             ],
             [
              0.3333333333333333,
              "#9c179e"
             ],
             [
              0.4444444444444444,
              "#bd3786"
             ],
             [
              0.5555555555555556,
              "#d8576b"
             ],
             [
              0.6666666666666666,
              "#ed7953"
             ],
             [
              0.7777777777777778,
              "#fb9f3a"
             ],
             [
              0.8888888888888888,
              "#fdca26"
             ],
             [
              1,
              "#f0f921"
             ]
            ],
            "type": "contour"
           }
          ],
          "contourcarpet": [
           {
            "colorbar": {
             "outlinewidth": 0,
             "ticks": ""
            },
            "type": "contourcarpet"
           }
          ],
          "heatmap": [
           {
            "colorbar": {
             "outlinewidth": 0,
             "ticks": ""
            },
            "colorscale": [
             [
              0,
              "#0d0887"
             ],
             [
              0.1111111111111111,
              "#46039f"
             ],
             [
              0.2222222222222222,
              "#7201a8"
             ],
             [
              0.3333333333333333,
              "#9c179e"
             ],
             [
              0.4444444444444444,
              "#bd3786"
             ],
             [
              0.5555555555555556,
              "#d8576b"
             ],
             [
              0.6666666666666666,
              "#ed7953"
             ],
             [
              0.7777777777777778,
              "#fb9f3a"
             ],
             [
              0.8888888888888888,
              "#fdca26"
             ],
             [
              1,
              "#f0f921"
             ]
            ],
            "type": "heatmap"
           }
          ],
          "heatmapgl": [
           {
            "colorbar": {
             "outlinewidth": 0,
             "ticks": ""
            },
            "colorscale": [
             [
              0,
              "#0d0887"
             ],
             [
              0.1111111111111111,
              "#46039f"
             ],
             [
              0.2222222222222222,
              "#7201a8"
             ],
             [
              0.3333333333333333,
              "#9c179e"
             ],
             [
              0.4444444444444444,
              "#bd3786"
             ],
             [
              0.5555555555555556,
              "#d8576b"
             ],
             [
              0.6666666666666666,
              "#ed7953"
             ],
             [
              0.7777777777777778,
              "#fb9f3a"
             ],
             [
              0.8888888888888888,
              "#fdca26"
             ],
             [
              1,
              "#f0f921"
             ]
            ],
            "type": "heatmapgl"
           }
          ],
          "histogram": [
           {
            "marker": {
             "pattern": {
              "fillmode": "overlay",
              "size": 10,
              "solidity": 0.2
             }
            },
            "type": "histogram"
           }
          ],
          "histogram2d": [
           {
            "colorbar": {
             "outlinewidth": 0,
             "ticks": ""
            },
            "colorscale": [
             [
              0,
              "#0d0887"
             ],
             [
              0.1111111111111111,
              "#46039f"
             ],
             [
              0.2222222222222222,
              "#7201a8"
             ],
             [
              0.3333333333333333,
              "#9c179e"
             ],
             [
              0.4444444444444444,
              "#bd3786"
             ],
             [
              0.5555555555555556,
              "#d8576b"
             ],
             [
              0.6666666666666666,
              "#ed7953"
             ],
             [
              0.7777777777777778,
              "#fb9f3a"
             ],
             [
              0.8888888888888888,
              "#fdca26"
             ],
             [
              1,
              "#f0f921"
             ]
            ],
            "type": "histogram2d"
           }
          ],
          "histogram2dcontour": [
           {
            "colorbar": {
             "outlinewidth": 0,
             "ticks": ""
            },
            "colorscale": [
             [
              0,
              "#0d0887"
             ],
             [
              0.1111111111111111,
              "#46039f"
             ],
             [
              0.2222222222222222,
              "#7201a8"
             ],
             [
              0.3333333333333333,
              "#9c179e"
             ],
             [
              0.4444444444444444,
              "#bd3786"
             ],
             [
              0.5555555555555556,
              "#d8576b"
             ],
             [
              0.6666666666666666,
              "#ed7953"
             ],
             [
              0.7777777777777778,
              "#fb9f3a"
             ],
             [
              0.8888888888888888,
              "#fdca26"
             ],
             [
              1,
              "#f0f921"
             ]
            ],
            "type": "histogram2dcontour"
           }
          ],
          "mesh3d": [
           {
            "colorbar": {
             "outlinewidth": 0,
             "ticks": ""
            },
            "type": "mesh3d"
           }
          ],
          "parcoords": [
           {
            "line": {
             "colorbar": {
              "outlinewidth": 0,
              "ticks": ""
             }
            },
            "type": "parcoords"
           }
          ],
          "pie": [
           {
            "automargin": true,
            "type": "pie"
           }
          ],
          "scatter": [
           {
            "fillpattern": {
             "fillmode": "overlay",
             "size": 10,
             "solidity": 0.2
            },
            "type": "scatter"
           }
          ],
          "scatter3d": [
           {
            "line": {
             "colorbar": {
              "outlinewidth": 0,
              "ticks": ""
             }
            },
            "marker": {
             "colorbar": {
              "outlinewidth": 0,
              "ticks": ""
             }
            },
            "type": "scatter3d"
           }
          ],
          "scattercarpet": [
           {
            "marker": {
             "colorbar": {
              "outlinewidth": 0,
              "ticks": ""
             }
            },
            "type": "scattercarpet"
           }
          ],
          "scattergeo": [
           {
            "marker": {
             "colorbar": {
              "outlinewidth": 0,
              "ticks": ""
             }
            },
            "type": "scattergeo"
           }
          ],
          "scattergl": [
           {
            "marker": {
             "colorbar": {
              "outlinewidth": 0,
              "ticks": ""
             }
            },
            "type": "scattergl"
           }
          ],
          "scattermapbox": [
           {
            "marker": {
             "colorbar": {
              "outlinewidth": 0,
              "ticks": ""
             }
            },
            "type": "scattermapbox"
           }
          ],
          "scatterpolar": [
           {
            "marker": {
             "colorbar": {
              "outlinewidth": 0,
              "ticks": ""
             }
            },
            "type": "scatterpolar"
           }
          ],
          "scatterpolargl": [
           {
            "marker": {
             "colorbar": {
              "outlinewidth": 0,
              "ticks": ""
             }
            },
            "type": "scatterpolargl"
           }
          ],
          "scatterternary": [
           {
            "marker": {
             "colorbar": {
              "outlinewidth": 0,
              "ticks": ""
             }
            },
            "type": "scatterternary"
           }
          ],
          "surface": [
           {
            "colorbar": {
             "outlinewidth": 0,
             "ticks": ""
            },
            "colorscale": [
             [
              0,
              "#0d0887"
             ],
             [
              0.1111111111111111,
              "#46039f"
             ],
             [
              0.2222222222222222,
              "#7201a8"
             ],
             [
              0.3333333333333333,
              "#9c179e"
             ],
             [
              0.4444444444444444,
              "#bd3786"
             ],
             [
              0.5555555555555556,
              "#d8576b"
             ],
             [
              0.6666666666666666,
              "#ed7953"
             ],
             [
              0.7777777777777778,
              "#fb9f3a"
             ],
             [
              0.8888888888888888,
              "#fdca26"
             ],
             [
              1,
              "#f0f921"
             ]
            ],
            "type": "surface"
           }
          ],
          "table": [
           {
            "cells": {
             "fill": {
              "color": "#EBF0F8"
             },
             "line": {
              "color": "white"
             }
            },
            "header": {
             "fill": {
              "color": "#C8D4E3"
             },
             "line": {
              "color": "white"
             }
            },
            "type": "table"
           }
          ]
         },
         "layout": {
          "annotationdefaults": {
           "arrowcolor": "#2a3f5f",
           "arrowhead": 0,
           "arrowwidth": 1
          },
          "autotypenumbers": "strict",
          "coloraxis": {
           "colorbar": {
            "outlinewidth": 0,
            "ticks": ""
           }
          },
          "colorscale": {
           "diverging": [
            [
             0,
             "#8e0152"
            ],
            [
             0.1,
             "#c51b7d"
            ],
            [
             0.2,
             "#de77ae"
            ],
            [
             0.3,
             "#f1b6da"
            ],
            [
             0.4,
             "#fde0ef"
            ],
            [
             0.5,
             "#f7f7f7"
            ],
            [
             0.6,
             "#e6f5d0"
            ],
            [
             0.7,
             "#b8e186"
            ],
            [
             0.8,
             "#7fbc41"
            ],
            [
             0.9,
             "#4d9221"
            ],
            [
             1,
             "#276419"
            ]
           ],
           "sequential": [
            [
             0,
             "#0d0887"
            ],
            [
             0.1111111111111111,
             "#46039f"
            ],
            [
             0.2222222222222222,
             "#7201a8"
            ],
            [
             0.3333333333333333,
             "#9c179e"
            ],
            [
             0.4444444444444444,
             "#bd3786"
            ],
            [
             0.5555555555555556,
             "#d8576b"
            ],
            [
             0.6666666666666666,
             "#ed7953"
            ],
            [
             0.7777777777777778,
             "#fb9f3a"
            ],
            [
             0.8888888888888888,
             "#fdca26"
            ],
            [
             1,
             "#f0f921"
            ]
           ],
           "sequentialminus": [
            [
             0,
             "#0d0887"
            ],
            [
             0.1111111111111111,
             "#46039f"
            ],
            [
             0.2222222222222222,
             "#7201a8"
            ],
            [
             0.3333333333333333,
             "#9c179e"
            ],
            [
             0.4444444444444444,
             "#bd3786"
            ],
            [
             0.5555555555555556,
             "#d8576b"
            ],
            [
             0.6666666666666666,
             "#ed7953"
            ],
            [
             0.7777777777777778,
             "#fb9f3a"
            ],
            [
             0.8888888888888888,
             "#fdca26"
            ],
            [
             1,
             "#f0f921"
            ]
           ]
          },
          "colorway": [
           "#636efa",
           "#EF553B",
           "#00cc96",
           "#ab63fa",
           "#FFA15A",
           "#19d3f3",
           "#FF6692",
           "#B6E880",
           "#FF97FF",
           "#FECB52"
          ],
          "font": {
           "color": "#2a3f5f"
          },
          "geo": {
           "bgcolor": "white",
           "lakecolor": "white",
           "landcolor": "#E5ECF6",
           "showlakes": true,
           "showland": true,
           "subunitcolor": "white"
          },
          "hoverlabel": {
           "align": "left"
          },
          "hovermode": "closest",
          "mapbox": {
           "style": "light"
          },
          "paper_bgcolor": "white",
          "plot_bgcolor": "#E5ECF6",
          "polar": {
           "angularaxis": {
            "gridcolor": "white",
            "linecolor": "white",
            "ticks": ""
           },
           "bgcolor": "#E5ECF6",
           "radialaxis": {
            "gridcolor": "white",
            "linecolor": "white",
            "ticks": ""
           }
          },
          "scene": {
           "xaxis": {
            "backgroundcolor": "#E5ECF6",
            "gridcolor": "white",
            "gridwidth": 2,
            "linecolor": "white",
            "showbackground": true,
            "ticks": "",
            "zerolinecolor": "white"
           },
           "yaxis": {
            "backgroundcolor": "#E5ECF6",
            "gridcolor": "white",
            "gridwidth": 2,
            "linecolor": "white",
            "showbackground": true,
            "ticks": "",
            "zerolinecolor": "white"
           },
           "zaxis": {
            "backgroundcolor": "#E5ECF6",
            "gridcolor": "white",
            "gridwidth": 2,
            "linecolor": "white",
            "showbackground": true,
            "ticks": "",
            "zerolinecolor": "white"
           }
          },
          "shapedefaults": {
           "line": {
            "color": "#2a3f5f"
           }
          },
          "ternary": {
           "aaxis": {
            "gridcolor": "white",
            "linecolor": "white",
            "ticks": ""
           },
           "baxis": {
            "gridcolor": "white",
            "linecolor": "white",
            "ticks": ""
           },
           "bgcolor": "#E5ECF6",
           "caxis": {
            "gridcolor": "white",
            "linecolor": "white",
            "ticks": ""
           }
          },
          "title": {
           "x": 0.05
          },
          "xaxis": {
           "automargin": true,
           "gridcolor": "white",
           "linecolor": "white",
           "ticks": "",
           "title": {
            "standoff": 15
           },
           "zerolinecolor": "white",
           "zerolinewidth": 2
          },
          "yaxis": {
           "automargin": true,
           "gridcolor": "white",
           "linecolor": "white",
           "ticks": "",
           "title": {
            "standoff": 15
           },
           "zerolinecolor": "white",
           "zerolinewidth": 2
          }
         }
        },
        "title": {
         "text": "Top Movies: User rating (IMBD) Vs Critics rating (Tomatometer)"
        },
        "width": 1000,
        "xaxis": {
         "anchor": "y",
         "domain": [
          0,
          0.7363
         ],
         "title": {
          "text": "tomatometer_rating"
         }
        },
        "xaxis2": {
         "anchor": "y2",
         "domain": [
          0.7413,
          1
         ],
         "matches": "x2",
         "showgrid": true,
         "showline": false,
         "showticklabels": false,
         "ticks": ""
        },
        "xaxis3": {
         "anchor": "y3",
         "domain": [
          0,
          0.7363
         ],
         "matches": "x",
         "showgrid": true,
         "showticklabels": false
        },
        "xaxis4": {
         "anchor": "y4",
         "domain": [
          0.7413,
          1
         ],
         "matches": "x2",
         "showgrid": true,
         "showline": false,
         "showticklabels": false,
         "ticks": ""
        },
        "yaxis": {
         "anchor": "x",
         "domain": [
          0,
          0.7326
         ],
         "title": {
          "text": "imbd_rating"
         }
        },
        "yaxis2": {
         "anchor": "x2",
         "domain": [
          0,
          0.7326
         ],
         "matches": "y",
         "showgrid": true,
         "showticklabels": false
        },
        "yaxis3": {
         "anchor": "x3",
         "domain": [
          0.7426,
          1
         ],
         "matches": "y3",
         "showgrid": true,
         "showline": false,
         "showticklabels": false,
         "ticks": ""
        },
        "yaxis4": {
         "anchor": "x4",
         "domain": [
          0.7426,
          1
         ],
         "matches": "y3",
         "showgrid": true,
         "showline": false,
         "showticklabels": false,
         "ticks": ""
        }
       }
      }
     },
     "metadata": {},
     "output_type": "display_data"
    }
   ],
   "source": [
    "#df = px.full_table.iris() # iris is a pandas DataFrame\n",
    "fig = px.scatter(full_table, x=\"tomatometer_rating\", y= \"imbd_rating\",  title=\"Top Movies: User rating (IMBD) Vs Critics rating (Tomatometer)\", color = \"imbd_votecount\" , hover_name=\"imbd_title\" , marginal_x=\"histogram\", marginal_y=\"histogram\",width=1000, height=800)\n",
    "fig.update_traces(marker=dict(size=14,\n",
    "                              line=dict(width=0.0001,\n",
    "                                        color='white')),\n",
    "                  selector=dict(mode='markers'))\n",
    "\n",
    "fig.show()\n"
   ]
  },
  {
   "attachments": {},
   "cell_type": "markdown",
   "metadata": {},
   "source": [
    "## AUX EDA - Sublplots WIP for next Proyect"
   ]
  },
  {
   "cell_type": "code",
   "execution_count": 252,
   "metadata": {},
   "outputs": [
    {
     "data": {
      "image/png": "[encoded data removed]",
      "text/plain": [
       "<Figure size 1080x720 with 4 Axes>"
      ]
     },
     "metadata": {
      "needs_background": "light"
     },
     "output_type": "display_data"
    }
   ],
   "source": [
    "\n",
    "fig = plt.figure(figsize=(15,10))\n",
    "plt.suptitle(\"Exploratory analysis \", size=25, weight= \"bold\" ,y= 1.05)\n",
    "\n",
    "plt.subplot(2,2,1)\n",
    "\n",
    "sns.barplot(data=full_table[\"production_company\"].value_counts().reset_index().sort_index().head(5), x= \"production_company\", y= \"index\" , palette=\"crest\")\n",
    "plt.title(\"Top 5: # movies per Production Company\", size=18, weight='bold', pad=30)\n",
    "plt.xlabel('# Movies',size=15, weight='bold')\n",
    "plt.ylabel(\"Production Company\",size=15, weight='bold')\n",
    "\n",
    "\n",
    "plt.subplot(2,2,2)\n",
    "sns.barplot(data=full_table[\"directors\"].value_counts().reset_index().sort_index().head(5), x= \"directors\", y= \"index\" , palette=\"crest\")\n",
    "plt.title(\"Top 5: # of high valued movies per Director\", size=18, weight='bold', pad=30)\n",
    "plt.xlabel('# Movies',size=15, weight='bold')\n",
    "plt.ylabel(\"Director\",size=15, weight='bold')\n",
    "\n",
    "plt.subplot(2,2,3)\n",
    "sns.histplot(data= full_table[\"int_year\"].value_counts().reset_index(), x=\"index\", kde=True)\n",
    "plt.title(\"Year distribution\", size=18, weight='bold', pad=30)\n",
    "plt.xlabel('Year',size=15, weight='bold')\n",
    "plt.ylabel(\"# Movies\",size=15, weight='bold')\n",
    "\n",
    "\n",
    "plt.subplot(2,2,4)\n",
    "sns.histplot(data= full_table[\"runtime\"].value_counts().reset_index(), x=\"index\", kde=True)\n",
    "plt.title(\"Runtime Distribution\", size=18, weight='bold', pad=30)\n",
    "plt.xlabel('runtime',size=15, weight='bold')\n",
    "plt.ylabel(\"# Movies\",size=15, weight='bold')\n",
    "\n",
    "\n",
    "plt.tight_layout()\n",
    "plt.show()\n",
    "\n",
    "\n"
   ]
  }
 ],
 "metadata": {
  "kernelspec": {
   "display_name": "base",
   "language": "python",
   "name": "python3"
  },
  "language_info": {
   "codemirror_mode": {
    "name": "ipython",
    "version": 3
   },
   "file_extension": ".py",
   "mimetype": "text/x-python",
   "name": "python",
   "nbconvert_exporter": "python",
   "pygments_lexer": "ipython3",
   "version": "3.10.8"
  },
  "orig_nbformat": 4,
  "vscode": {
   "interpreter": {
    "hash": "668b822ab921c22426a9366adc9c25d92dc8e958432b516ddaac9ea41a260bcd"
   }
  }
 },
 "nbformat": 4,
 "nbformat_minor": 2
}
